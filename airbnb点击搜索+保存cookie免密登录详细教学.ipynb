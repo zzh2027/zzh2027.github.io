{
 "cells": [
  {
   "cell_type": "code",
   "execution_count": 1,
   "metadata": {},
   "outputs": [],
   "source": [
    "from selenium import webdriver\n",
    "from selenium.webdriver.common.keys import Keys## 模拟键盘用的包\n",
    "from selenium.webdriver.support.ui import Select##用来操作下拉列表中的选择题\n",
    "from selenium.common.exceptions import ElementClickInterceptedException, NoSuchElementException## 找不到元素会报的错\n",
    "import time##不能一直爬取页面所以需要睡一会儿\n",
    "import json##用来保存网站登录cookie，以后可以免密登录网站"
   ]
  },
  {
   "cell_type": "code",
   "execution_count": 2,
   "metadata": {},
   "outputs": [],
   "source": [
    "## 打开一个空白浏览器\n",
    "driver = webdriver.Firefox()"
   ]
  },
  {
   "cell_type": "code",
   "execution_count": 3,
   "metadata": {},
   "outputs": [],
   "source": [
    "## 进入airbnb官网\n",
    "url = \"https://www.airbnb.com/\"\n",
    "driver.get(url)"
   ]
  },
  {
   "cell_type": "code",
   "execution_count": 4,
   "metadata": {},
   "outputs": [],
   "source": [
    "## 窗口最大化\n",
    "driver.maximize_window()"
   ]
  },
  {
   "cell_type": "markdown",
   "metadata": {},
   "source": [
    "## 找到元素并操作\n",
    "* driver.find_element_by_**xpath** 在网页固态的情况下，xpath肯定可行\n",
    "* driver.find_element_by_**class_name** 可能有多个相同的元素拥有同一个class_name\n",
    "* driver.find_element_by_**id** 可能不提供\n"
   ]
  },
  {
   "cell_type": "code",
   "execution_count": 8,
   "metadata": {},
   "outputs": [],
   "source": [
    "## 通过xpath 找到并点击登录按钮\n",
    "login_xpath = \"/html/body/div[4]/div/div/div/div[1]/div[1]/div/header/div/div[3]/nav/div[1]/a[4]\"\n",
    "driver.find_element_by_xpath(login_xpath).click()"
   ]
  },
  {
   "cell_type": "markdown",
   "metadata": {},
   "source": [
    "## 找多个元素并操作\n",
    "* driver.find_elements_by_**class_name** 可能有多个相同的元素拥有同一个class_name\n",
    "* driver.find_elements_by_**id** 可能不提供"
   ]
  },
  {
   "cell_type": "code",
   "execution_count": 22,
   "metadata": {},
   "outputs": [
    {
     "name": "stdout",
     "output_type": "stream",
     "text": [
      "\u001b[1m \n",
      "<selenium.webdriver.firefox.webelement.FirefoxWebElement (session=\"1b6e55b0-f45f-449c-b805-39f89922dea8\", element=\"c2fbdb7f-849b-47c9-b6fa-23190f4f864c\")>\n",
      "\n",
      "\u001b[1m Host your home\n",
      "<selenium.webdriver.firefox.webelement.FirefoxWebElement (session=\"1b6e55b0-f45f-449c-b805-39f89922dea8\", element=\"230b9470-c1cb-4377-95d7-a5e5ef873ff6\")>\n",
      "\n",
      "\u001b[1m Host an experience\n",
      "<selenium.webdriver.firefox.webelement.FirefoxWebElement (session=\"1b6e55b0-f45f-449c-b805-39f89922dea8\", element=\"99cbb8d3-5704-4199-8793-742f75f92a9e\")>\n",
      "\n",
      "\u001b[1m Help\n",
      "<selenium.webdriver.firefox.webelement.FirefoxWebElement (session=\"1b6e55b0-f45f-449c-b805-39f89922dea8\", element=\"ef432034-05f8-43fe-bc6c-a9e69a2bf311\")>\n",
      "\n",
      "\u001b[1m Log in\n",
      "<selenium.webdriver.firefox.webelement.FirefoxWebElement (session=\"1b6e55b0-f45f-449c-b805-39f89922dea8\", element=\"859e07f4-63c5-4191-8045-5de5763fa4b8\")>\n",
      "\n"
     ]
    }
   ],
   "source": [
    "## 通过class_name 不能准确找到并点击登录按钮\n",
    "login_class_name = \"_547li01\"\n",
    "buttons = driver.find_elements_by_class_name(login_class_name)\n",
    "for b in buttons:\n",
    "    print('\\033[1m' + f\" {b.text}\")\n",
    "    print(f\"{b}\\n\")\n",
    "    ## 这里打印了所有的按钮，可以和官网对照"
   ]
  },
  {
   "cell_type": "markdown",
   "metadata": {},
   "source": []
  },
  {
   "cell_type": "code",
   "execution_count": 23,
   "metadata": {},
   "outputs": [],
   "source": [
    "## 选择用邮箱登录\n",
    "email_xpath = \"/html/body/div[11]/section/div/div/div[2]/div/div[2]/button\"\n",
    "driver.find_element_by_xpath(email_xpath).click()"
   ]
  },
  {
   "cell_type": "code",
   "execution_count": 24,
   "metadata": {},
   "outputs": [
    {
     "name": "stdout",
     "output_type": "stream",
     "text": [
      "please enter your email addresszhengzihao@rangduju.com\n",
      "please enter your passwordAbcd1234!!\n"
     ]
    }
   ],
   "source": [
    "## 输入email地址和密码\n",
    "\n",
    "## inspect后这俩的id很独特，所以直接用了\n",
    "email_id = \"email\"\n",
    "pw_id = \"password\"\n",
    "\n",
    "your_email = input(\"please enter your email address\")\n",
    "your_pw    = input(\"please enter your password\")\n",
    "\n",
    "e = driver.find_element_by_id(email_id)\n",
    "e.clear()\n",
    "e.send_keys(your_email)\n",
    "\n",
    "p = driver.find_element_by_id(pw_id)\n",
    "p.clear()\n",
    "p.send_keys(your_pw)"
   ]
  },
  {
   "cell_type": "code",
   "execution_count": 25,
   "metadata": {},
   "outputs": [],
   "source": [
    "## 点击登录按钮\n",
    "enter_xpath = \"/html/body/div[11]/section/div/div/div[2]/div/form/div[3]/button\"\n",
    "driver.find_element_by_xpath(enter_xpath).click()"
   ]
  },
  {
   "cell_type": "code",
   "execution_count": 26,
   "metadata": {},
   "outputs": [
    {
     "name": "stdout",
     "output_type": "stream",
     "text": [
      "[{'name': 'cdn_exp_a4918d4430c5ee002', 'value': 'control', 'path': '/', 'domain': '.airbnb.com', 'secure': False, 'httpOnly': False, 'expiry': 1593616870}, {'name': 'cdn_exp_7a168c4785b215935', 'value': 'treatment', 'path': '/', 'domain': '.airbnb.com', 'secure': False, 'httpOnly': False, 'expiry': 1593616870}, {'name': '016951b48', 'value': 'treatment', 'path': '/', 'domain': '.airbnb.com', 'secure': False, 'httpOnly': False, 'expiry': 1593616870}, {'name': 'cdn_exp_9707976ddcc64eaf1', 'value': 'control', 'path': '/', 'domain': '.airbnb.com', 'secure': False, 'httpOnly': False, 'expiry': 1593616870}, {'name': 'cdn_exp_5c41b92ef4da19ab7', 'value': 'treatment', 'path': '/', 'domain': '.airbnb.com', 'secure': False, 'httpOnly': False, 'expiry': 1593616870}, {'name': 'cdn_exp_6d78ae9a36161ff03', 'value': 'responsive_pictures', 'path': '/', 'domain': '.airbnb.com', 'secure': False, 'httpOnly': False, 'expiry': 1593616870}, {'name': 'cdn_exp_c7ddcd893640ad89b', 'value': 'treatment', 'path': '/', 'domain': '.airbnb.com', 'secure': False, 'httpOnly': False, 'expiry': 1593616870}, {'name': 'jitney_client_session_id', 'value': '43c90591-2aea-4a8c-ac7f-0fb5a3eeea2d', 'path': '/', 'domain': '.airbnb.com', 'secure': True, 'httpOnly': False, 'expiry': 1588519270}, {'name': 'jitney_client_session_created_at', 'value': '1588432870', 'path': '/', 'domain': '.airbnb.com', 'secure': True, 'httpOnly': False, 'expiry': 1588519270}, {'name': 'tzo', 'value': '-240', 'path': '/', 'domain': '.airbnb.com', 'secure': True, 'httpOnly': False, 'expiry': 1597072870}, {'name': 'sdid', 'value': '', 'path': '/', 'domain': '.airbnb.com', 'secure': True, 'httpOnly': False, 'expiry': 2219152870}, {'name': 'previousTab', 'value': '%7B%22id%22%3A%229c417853-cf07-41eb-bc1f-22d2b4b484f2%22%2C%22url%22%3A%22https%3A%2F%2Fwww.airbnb.com%2F%22%7D', 'path': '/', 'domain': 'www.airbnb.com', 'secure': False, 'httpOnly': False}, {'name': 'frmfctr', 'value': 'wide', 'path': '/', 'domain': '.airbnb.com', 'secure': False, 'httpOnly': False, 'expiry': 1674750071}, {'name': 'cfrmfctr', 'value': 'DESKTOP', 'path': '/', 'domain': '.airbnb.com', 'secure': False, 'httpOnly': False, 'expiry': 1674750071}, {'name': '__ssid', 'value': 'add473ca9921a833858880a15f7165e', 'path': '/', 'domain': '.airbnb.com', 'secure': False, 'httpOnly': False, 'expiry': 1714663272}, {'name': 'AMP_TOKEN', 'value': '%24NOT_FOUND', 'path': '/', 'domain': '.airbnb.com', 'secure': False, 'httpOnly': False, 'expiry': 1588436472}, {'name': '_ga', 'value': 'GA1.2.788100262.1588432873', 'path': '/', 'domain': '.airbnb.com', 'secure': False, 'httpOnly': False, 'expiry': 1651504872}, {'name': '_gid', 'value': 'GA1.2.255887419.1588432873', 'path': '/', 'domain': '.airbnb.com', 'secure': False, 'httpOnly': False, 'expiry': 1588519272}, {'name': '_gat', 'value': '1', 'path': '/', 'domain': '.airbnb.com', 'secure': False, 'httpOnly': False, 'expiry': 1588432932}, {'name': '_gcl_au', 'value': '1.1.197165064.1588432873', 'path': '/', 'domain': '.airbnb.com', 'secure': False, 'httpOnly': False, 'expiry': 1596208873}, {'name': '_uetsid', 'value': '_uete5edf16d-ea83-5d53-ae8a-5ff88f1e5f26', 'path': '/', 'domain': '.airbnb.com', 'secure': False, 'httpOnly': False, 'expiry': 1588434673}, {'name': 'cbkp', 'value': '4', 'path': '/', 'domain': '.airbnb.com', 'secure': False, 'httpOnly': False, 'expiry': 1674750092}, {'name': 'auth_jitney_session_id', 'value': '7ace8063-534c-432e-95f7-aa7b06fb1ded', 'path': '/', 'domain': 'www.airbnb.com', 'secure': False, 'httpOnly': False}, {'name': '_csrf_token', 'value': 'V4%24.airbnb.com%24zNijKeQBiKU%246oXD41dzea3D20rdJcA1zIc3gn5U73n7FWV7camhEdU%3D', 'path': '/', 'domain': '.airbnb.com', 'secure': True, 'httpOnly': False}, {'name': '_rmt', 'value': '2--WzM0NDkyODIxMSwiNDR8MXxoNW1qUFJnQlJla2lUZk5DIiwib184b3BocG1MazFKOTZpMGU4bk80ZmFZZ0dsS2d4S2tPRlZ5cUF1SWdRbyJd--ebf63a99dc513fc4641d5f3f583ef4efd6251ff0', 'path': '/', 'domain': '.airbnb.com', 'secure': True, 'httpOnly': True, 'expiry': 1651506073}, {'name': 'li', 'value': '1', 'path': '/', 'domain': '.airbnb.com', 'secure': False, 'httpOnly': False}, {'name': '_aat', 'value': '0%7CL7BLD6FtL5ejP43SHAyu8HULBAMTunvzeq1NZaBYYWkxOmWbtYqxGRe1ZymicxHy', 'path': '/', 'domain': '.airbnb.com', 'secure': True, 'httpOnly': True, 'expiry': 1651506073}, {'name': 'abb_fa2', 'value': '%7B%22user_id%22%3A%2238%7C1%7C3iKqddfdxdNCxoRDhFWST0v10fIqlzSTN%2FNpF5NezrudNqNtKRPCLgg%3D%22%7D', 'path': '/', 'domain': '.airbnb.com', 'secure': True, 'httpOnly': False, 'expiry': 1651506073}, {'name': 'alfc', 'value': '0', 'path': '/', 'domain': 'www.airbnb.com', 'secure': False, 'httpOnly': False, 'expiry': 1588437673}, {'name': 'alfces', 'value': '0', 'path': '/', 'domain': 'www.airbnb.com', 'secure': False, 'httpOnly': False, 'expiry': 1588437673}, {'name': 'jlp3', 'value': 'true', 'path': '/', 'domain': '.airbnb.com', 'secure': True, 'httpOnly': False, 'expiry': 1588437673}, {'name': 'rclu', 'value': '%7B%22344928211%22%3D%3E%22ZO%2FL4AJKGeHyYtqjRSQOBrWhPAIDztZxuAqgDtHnVc4%3D%22%7D', 'path': '/', 'domain': '.airbnb.com', 'secure': True, 'httpOnly': False, 'expiry': 1651506074}, {'name': 'rclmd', 'value': '%7B%22344928211%22%3D%3E%22email%22%7D', 'path': '/', 'domain': '.airbnb.com', 'secure': True, 'httpOnly': False, 'expiry': 1651506074}, {'name': 'flags', 'value': '131072', 'path': '/', 'domain': '.airbnb.com', 'secure': True, 'httpOnly': False}, {'name': 'roles', 'value': '0', 'path': '/', 'domain': '.airbnb.com', 'secure': True, 'httpOnly': False}, {'name': '_airbed_session_id', 'value': '69077f3c24c01ca2e68a140681979eea', 'path': '/', 'domain': '.airbnb.com', 'secure': True, 'httpOnly': True, 'expiry': 1651506074}, {'name': 'hli', 'value': '1', 'path': '/', 'domain': 'www.airbnb.com', 'secure': False, 'httpOnly': False}, {'name': '_pt', 'value': '1--WyI0MzQwMzIzOTdmM2NjYTU1MWZlMDk5NDZiZTcwMDBjNDliODcwNzdiIl0%3D--798a549e14ed541f330cbd051b2ad57b24dc0da1', 'path': '/', 'domain': '.airbnb.com', 'secure': True, 'httpOnly': True, 'expiry': 1651506074}, {'name': 'bev', 'value': '1588432870_X9inbIXirDbvJ6P3', 'path': '/', 'domain': '.airbnb.com', 'secure': True, 'httpOnly': False, 'expiry': 1651506074}, {'name': 'jitney_client_session_updated_at', 'value': '1588434074', 'path': '/', 'domain': '.airbnb.com', 'secure': True, 'httpOnly': False, 'expiry': 1588520474}, {'name': '_user_attributes', 'value': '%7B%22curr%22%3A%22CNY%22%2C%22guest_exchange%22%3A7.062250000000001%2C%22device_profiling_session_id%22%3A%221588432870--fad3d6440f71d184b95de382%22%2C%22giftcard_profiling_session_id%22%3A%221588432870--187de03117fedfbb541ac356%22%2C%22reservation_profiling_session_id%22%3A%221588432870--ad700d564424d613c83febab%22%2C%22id%22%3A344928211%2C%22hash_user_id%22%3A%22434032397f3cca551fe09946be7000c49b87077b%22%2C%22eid%22%3A%22_1CXVY_qO_3wD9o9AlcZ8w%3D%3D%22%2C%22num_msg%22%3A0%2C%22num_notif%22%3A1%2C%22num_alert%22%3A5%2C%22num_h%22%3A0%2C%22num_trip_notif%22%3A0%2C%22name%22%3A%22Zihao%22%2C%22num_action%22%3A0%2C%22is_admin%22%3Afalse%2C%22can_access_photography%22%3Afalse%2C%22travel_credit_status%22%3Anull%2C%22referrals_info%22%3A%7B%22receiver_max_savings%22%3Anull%2C%22receiver_savings_percent%22%3Anull%2C%22receiver_signup%22%3Anull%2C%22referrer_guest%22%3A%22%EF%BF%A5141%22%2C%22terms_and_conditions_link%22%3A%22%2Fhelp%2Farticle%2F2269%22%2C%22wechat_link%22%3Anull%2C%22offer_discount_type%22%3Anull%7D%7D', 'path': '/', 'domain': '.airbnb.com', 'secure': True, 'httpOnly': False, 'expiry': 1651506074}]\n"
     ]
    }
   ],
   "source": [
    "## 保存cookie\n",
    "cookies = driver.get_cookies()\n",
    "print(cookies)"
   ]
  },
  {
   "cell_type": "code",
   "execution_count": 27,
   "metadata": {},
   "outputs": [],
   "source": [
    "## 新建json文件，将cookies保存进去\n",
    "file = open(\"cookies.json\", \"w\", encoding = 'utf-8')\n",
    "json.dump(cookies, file, ensure_ascii = False)\n",
    "file.close()"
   ]
  },
  {
   "cell_type": "code",
   "execution_count": 29,
   "metadata": {},
   "outputs": [],
   "source": [
    "## 将浏览器当前cookies删除，这样子就退出登录了\n",
    "driver.delete_all_cookies()\n",
    "## 刷新一下才会退出\n",
    "driver.refresh()"
   ]
  },
  {
   "cell_type": "code",
   "execution_count": 30,
   "metadata": {},
   "outputs": [],
   "source": [
    "## 读取本地cookies文件\n",
    "cookies = open(\"cookies.json\", \"r\", encoding = \"utf-8\")\n",
    "cookies = json.load(cookies)"
   ]
  },
  {
   "cell_type": "code",
   "execution_count": 32,
   "metadata": {},
   "outputs": [],
   "source": [
    "## 将cookie一个个塞进去\n",
    "for cookie in cookies:\n",
    "    driver.add_cookie(cookie)\n",
    "    \n",
    "## 刷新一下浏览器就登陆了\n",
    "driver.refresh()"
   ]
  }
 ],
 "metadata": {
  "kernelspec": {
   "display_name": "Python 3",
   "language": "python",
   "name": "python3"
  },
  "language_info": {
   "codemirror_mode": {
    "name": "ipython",
    "version": 3
   },
   "file_extension": ".py",
   "mimetype": "text/x-python",
   "name": "python",
   "nbconvert_exporter": "python",
   "pygments_lexer": "ipython3",
   "version": "3.7.6"
  }
 },
 "nbformat": 4,
 "nbformat_minor": 4
}
