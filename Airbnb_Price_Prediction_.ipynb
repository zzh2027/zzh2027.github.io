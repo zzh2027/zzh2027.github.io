{
  "nbformat": 4,
  "nbformat_minor": 0,
  "metadata": {
    "colab": {
      "name": "OPIM-5512-Project--Airbnb Price Prediction .ipynb",
      "provenance": [],
      "collapsed_sections": [],
      "include_colab_link": true
    },
    "kernelspec": {
      "name": "python3",
      "display_name": "Python 3"
    },
    "accelerator": "GPU"
  },
  "cells": [
    {
      "cell_type": "markdown",
      "metadata": {
        "id": "view-in-github",
        "colab_type": "text"
      },
      "source": [
        "<a href=\"https://colab.research.google.com/github/zzh2027/zzh2027.github.io/blob/master/Airbnb_Price_Prediction_.ipynb\" target=\"_parent\"><img src=\"https://colab.research.google.com/assets/colab-badge.svg\" alt=\"Open In Colab\"/></a>"
      ]
    },
    {
      "cell_type": "markdown",
      "metadata": {
        "id": "0H3TM9IA-wLf",
        "colab_type": "text"
      },
      "source": [
        "## **导入Train文件**"
      ]
    },
    {
      "cell_type": "code",
      "metadata": {
        "id": "SbGjWi6_XPbo",
        "colab_type": "code",
        "outputId": "c6d83257-10b1-472b-d116-6a5630ac6361",
        "colab": {
          "resources": {
            "http://localhost:8080/nbextensions/google.colab/files.js": {
              "data": "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",
              "ok": true,
              "headers": [
                [
                  "content-type",
                  "application/javascript"
                ]
              ],
              "status": 200,
              "status_text": ""
            }
          },
          "base_uri": "https://localhost:8080/",
          "height": 410
        }
      },
      "source": [
        "from google.colab import files\n",
        "\n",
        "uploaded = files.upload()\n",
        "\n",
        "for fn in uploaded.keys():\n",
        "  print('User uploaded file \"{name}\" with length {length} bytes'.format(\n",
        "      name=fn, length=len(uploaded[fn])))"
      ],
      "execution_count": 0,
      "outputs": [
        {
          "output_type": "display_data",
          "data": {
            "text/html": [
              "\n",
              "     <input type=\"file\" id=\"files-dfe3b82b-c676-43c0-a40d-d2c88b25b426\" name=\"files[]\" multiple disabled />\n",
              "     <output id=\"result-dfe3b82b-c676-43c0-a40d-d2c88b25b426\">\n",
              "      Upload widget is only available when the cell has been executed in the\n",
              "      current browser session. Please rerun this cell to enable.\n",
              "      </output>\n",
              "      <script src=\"/nbextensions/google.colab/files.js\"></script> "
            ],
            "text/plain": [
              "<IPython.core.display.HTML object>"
            ]
          },
          "metadata": {
            "tags": []
          }
        },
        {
          "output_type": "error",
          "ename": "KeyboardInterrupt",
          "evalue": "ignored",
          "traceback": [
            "\u001b[0;31m---------------------------------------------------------------------------\u001b[0m",
            "\u001b[0;31mKeyboardInterrupt\u001b[0m                         Traceback (most recent call last)",
            "\u001b[0;32m<ipython-input-17-292f82be1b7a>\u001b[0m in \u001b[0;36m<module>\u001b[0;34m()\u001b[0m\n\u001b[1;32m      1\u001b[0m \u001b[0;32mfrom\u001b[0m \u001b[0mgoogle\u001b[0m\u001b[0;34m.\u001b[0m\u001b[0mcolab\u001b[0m \u001b[0;32mimport\u001b[0m \u001b[0mfiles\u001b[0m\u001b[0;34m\u001b[0m\u001b[0;34m\u001b[0m\u001b[0m\n\u001b[1;32m      2\u001b[0m \u001b[0;34m\u001b[0m\u001b[0m\n\u001b[0;32m----> 3\u001b[0;31m \u001b[0muploaded\u001b[0m \u001b[0;34m=\u001b[0m \u001b[0mfiles\u001b[0m\u001b[0;34m.\u001b[0m\u001b[0mupload\u001b[0m\u001b[0;34m(\u001b[0m\u001b[0;34m)\u001b[0m\u001b[0;34m\u001b[0m\u001b[0;34m\u001b[0m\u001b[0m\n\u001b[0m\u001b[1;32m      4\u001b[0m \u001b[0;34m\u001b[0m\u001b[0m\n\u001b[1;32m      5\u001b[0m \u001b[0;32mfor\u001b[0m \u001b[0mfn\u001b[0m \u001b[0;32min\u001b[0m \u001b[0muploaded\u001b[0m\u001b[0;34m.\u001b[0m\u001b[0mkeys\u001b[0m\u001b[0;34m(\u001b[0m\u001b[0;34m)\u001b[0m\u001b[0;34m:\u001b[0m\u001b[0;34m\u001b[0m\u001b[0;34m\u001b[0m\u001b[0m\n",
            "\u001b[0;32m/usr/local/lib/python3.6/dist-packages/google/colab/files.py\u001b[0m in \u001b[0;36mupload\u001b[0;34m()\u001b[0m\n\u001b[1;32m     62\u001b[0m   result = _output.eval_js(\n\u001b[1;32m     63\u001b[0m       'google.colab._files._uploadFiles(\"{input_id}\", \"{output_id}\")'.format(\n\u001b[0;32m---> 64\u001b[0;31m           input_id=input_id, output_id=output_id))\n\u001b[0m\u001b[1;32m     65\u001b[0m   \u001b[0mfiles\u001b[0m \u001b[0;34m=\u001b[0m \u001b[0m_collections\u001b[0m\u001b[0;34m.\u001b[0m\u001b[0mdefaultdict\u001b[0m\u001b[0;34m(\u001b[0m\u001b[0m_six\u001b[0m\u001b[0;34m.\u001b[0m\u001b[0mbinary_type\u001b[0m\u001b[0;34m)\u001b[0m\u001b[0;34m\u001b[0m\u001b[0;34m\u001b[0m\u001b[0m\n\u001b[1;32m     66\u001b[0m   \u001b[0;31m# Mapping from original filename to filename as saved locally.\u001b[0m\u001b[0;34m\u001b[0m\u001b[0;34m\u001b[0m\u001b[0;34m\u001b[0m\u001b[0m\n",
            "\u001b[0;32m/usr/local/lib/python3.6/dist-packages/google/colab/output/_js.py\u001b[0m in \u001b[0;36meval_js\u001b[0;34m(script, ignore_result)\u001b[0m\n\u001b[1;32m     37\u001b[0m   \u001b[0;32mif\u001b[0m \u001b[0mignore_result\u001b[0m\u001b[0;34m:\u001b[0m\u001b[0;34m\u001b[0m\u001b[0;34m\u001b[0m\u001b[0m\n\u001b[1;32m     38\u001b[0m     \u001b[0;32mreturn\u001b[0m\u001b[0;34m\u001b[0m\u001b[0;34m\u001b[0m\u001b[0m\n\u001b[0;32m---> 39\u001b[0;31m   \u001b[0;32mreturn\u001b[0m \u001b[0m_message\u001b[0m\u001b[0;34m.\u001b[0m\u001b[0mread_reply_from_input\u001b[0m\u001b[0;34m(\u001b[0m\u001b[0mrequest_id\u001b[0m\u001b[0;34m)\u001b[0m\u001b[0;34m\u001b[0m\u001b[0;34m\u001b[0m\u001b[0m\n\u001b[0m\u001b[1;32m     40\u001b[0m \u001b[0;34m\u001b[0m\u001b[0m\n\u001b[1;32m     41\u001b[0m \u001b[0;34m\u001b[0m\u001b[0m\n",
            "\u001b[0;32m/usr/local/lib/python3.6/dist-packages/google/colab/_message.py\u001b[0m in \u001b[0;36mread_reply_from_input\u001b[0;34m(message_id, timeout_sec)\u001b[0m\n\u001b[1;32m     99\u001b[0m     \u001b[0mreply\u001b[0m \u001b[0;34m=\u001b[0m \u001b[0m_read_next_input_message\u001b[0m\u001b[0;34m(\u001b[0m\u001b[0;34m)\u001b[0m\u001b[0;34m\u001b[0m\u001b[0;34m\u001b[0m\u001b[0m\n\u001b[1;32m    100\u001b[0m     \u001b[0;32mif\u001b[0m \u001b[0mreply\u001b[0m \u001b[0;34m==\u001b[0m \u001b[0m_NOT_READY\u001b[0m \u001b[0;32mor\u001b[0m \u001b[0;32mnot\u001b[0m \u001b[0misinstance\u001b[0m\u001b[0;34m(\u001b[0m\u001b[0mreply\u001b[0m\u001b[0;34m,\u001b[0m \u001b[0mdict\u001b[0m\u001b[0;34m)\u001b[0m\u001b[0;34m:\u001b[0m\u001b[0;34m\u001b[0m\u001b[0;34m\u001b[0m\u001b[0m\n\u001b[0;32m--> 101\u001b[0;31m       \u001b[0mtime\u001b[0m\u001b[0;34m.\u001b[0m\u001b[0msleep\u001b[0m\u001b[0;34m(\u001b[0m\u001b[0;36m0.025\u001b[0m\u001b[0;34m)\u001b[0m\u001b[0;34m\u001b[0m\u001b[0;34m\u001b[0m\u001b[0m\n\u001b[0m\u001b[1;32m    102\u001b[0m       \u001b[0;32mcontinue\u001b[0m\u001b[0;34m\u001b[0m\u001b[0;34m\u001b[0m\u001b[0m\n\u001b[1;32m    103\u001b[0m     if (reply.get('type') == 'colab_reply' and\n",
            "\u001b[0;31mKeyboardInterrupt\u001b[0m: "
          ]
        }
      ]
    },
    {
      "cell_type": "markdown",
      "metadata": {
        "id": "6pWvbOpVChBk",
        "colab_type": "text"
      },
      "source": [
        "# **Use googledrive to upload**"
      ]
    },
    {
      "cell_type": "code",
      "metadata": {
        "id": "w6CjXW5B--CS",
        "colab_type": "code",
        "colab": {}
      },
      "source": [
        ""
      ],
      "execution_count": 0,
      "outputs": []
    },
    {
      "cell_type": "code",
      "metadata": {
        "id": "VbLctXwoZygZ",
        "colab_type": "code",
        "outputId": "bce72760-27cd-45d1-8d24-204dcad9a269",
        "colab": {
          "base_uri": "https://localhost:8080/",
          "height": 564
        }
      },
      "source": [
        "import pandas as pd\n",
        "d = pd.read_csv(fn)\n",
        "d.head()"
      ],
      "execution_count": 0,
      "outputs": [
        {
          "output_type": "execute_result",
          "data": {
            "text/html": [
              "<div>\n",
              "<style scoped>\n",
              "    .dataframe tbody tr th:only-of-type {\n",
              "        vertical-align: middle;\n",
              "    }\n",
              "\n",
              "    .dataframe tbody tr th {\n",
              "        vertical-align: top;\n",
              "    }\n",
              "\n",
              "    .dataframe thead th {\n",
              "        text-align: right;\n",
              "    }\n",
              "</style>\n",
              "<table border=\"1\" class=\"dataframe\">\n",
              "  <thead>\n",
              "    <tr style=\"text-align: right;\">\n",
              "      <th></th>\n",
              "      <th>id</th>\n",
              "      <th>log_price</th>\n",
              "      <th>property_type</th>\n",
              "      <th>room_type</th>\n",
              "      <th>amenities</th>\n",
              "      <th>accommodates</th>\n",
              "      <th>bathrooms</th>\n",
              "      <th>bed_type</th>\n",
              "      <th>cancellation_policy</th>\n",
              "      <th>cleaning_fee</th>\n",
              "      <th>city</th>\n",
              "      <th>description</th>\n",
              "      <th>first_review</th>\n",
              "      <th>host_has_profile_pic</th>\n",
              "      <th>host_identity_verified</th>\n",
              "      <th>host_response_rate</th>\n",
              "      <th>host_since</th>\n",
              "      <th>instant_bookable</th>\n",
              "      <th>last_review</th>\n",
              "      <th>latitude</th>\n",
              "      <th>longitude</th>\n",
              "      <th>name</th>\n",
              "      <th>neighbourhood</th>\n",
              "      <th>number_of_reviews</th>\n",
              "      <th>review_scores_rating</th>\n",
              "      <th>thumbnail_url</th>\n",
              "      <th>zipcode</th>\n",
              "      <th>bedrooms</th>\n",
              "      <th>beds</th>\n",
              "    </tr>\n",
              "  </thead>\n",
              "  <tbody>\n",
              "    <tr>\n",
              "      <th>0</th>\n",
              "      <td>6901257</td>\n",
              "      <td>5.010635</td>\n",
              "      <td>Apartment</td>\n",
              "      <td>Entire home/apt</td>\n",
              "      <td>{\"Wireless Internet\",\"Air conditioning\",Kitche...</td>\n",
              "      <td>3</td>\n",
              "      <td>1.0</td>\n",
              "      <td>Real Bed</td>\n",
              "      <td>strict</td>\n",
              "      <td>True</td>\n",
              "      <td>NYC</td>\n",
              "      <td>Beautiful, sunlit brownstone 1-bedroom in the ...</td>\n",
              "      <td>2016-06-18</td>\n",
              "      <td>t</td>\n",
              "      <td>t</td>\n",
              "      <td>NaN</td>\n",
              "      <td>2012-03-26</td>\n",
              "      <td>f</td>\n",
              "      <td>2016-07-18</td>\n",
              "      <td>40.696524</td>\n",
              "      <td>-73.991617</td>\n",
              "      <td>Beautiful brownstone 1-bedroom</td>\n",
              "      <td>Brooklyn Heights</td>\n",
              "      <td>2</td>\n",
              "      <td>100.0</td>\n",
              "      <td>https://a0.muscache.com/im/pictures/6d7cbbf7-c...</td>\n",
              "      <td>11201</td>\n",
              "      <td>1.0</td>\n",
              "      <td>1.0</td>\n",
              "    </tr>\n",
              "    <tr>\n",
              "      <th>1</th>\n",
              "      <td>6304928</td>\n",
              "      <td>5.129899</td>\n",
              "      <td>Apartment</td>\n",
              "      <td>Entire home/apt</td>\n",
              "      <td>{\"Wireless Internet\",\"Air conditioning\",Kitche...</td>\n",
              "      <td>7</td>\n",
              "      <td>1.0</td>\n",
              "      <td>Real Bed</td>\n",
              "      <td>strict</td>\n",
              "      <td>True</td>\n",
              "      <td>NYC</td>\n",
              "      <td>Enjoy travelling during your stay in Manhattan...</td>\n",
              "      <td>2017-08-05</td>\n",
              "      <td>t</td>\n",
              "      <td>f</td>\n",
              "      <td>100%</td>\n",
              "      <td>2017-06-19</td>\n",
              "      <td>t</td>\n",
              "      <td>2017-09-23</td>\n",
              "      <td>40.766115</td>\n",
              "      <td>-73.989040</td>\n",
              "      <td>Superb 3BR Apt Located Near Times Square</td>\n",
              "      <td>Hell's Kitchen</td>\n",
              "      <td>6</td>\n",
              "      <td>93.0</td>\n",
              "      <td>https://a0.muscache.com/im/pictures/348a55fe-4...</td>\n",
              "      <td>10019</td>\n",
              "      <td>3.0</td>\n",
              "      <td>3.0</td>\n",
              "    </tr>\n",
              "    <tr>\n",
              "      <th>2</th>\n",
              "      <td>7919400</td>\n",
              "      <td>4.976734</td>\n",
              "      <td>Apartment</td>\n",
              "      <td>Entire home/apt</td>\n",
              "      <td>{TV,\"Cable TV\",\"Wireless Internet\",\"Air condit...</td>\n",
              "      <td>5</td>\n",
              "      <td>1.0</td>\n",
              "      <td>Real Bed</td>\n",
              "      <td>moderate</td>\n",
              "      <td>True</td>\n",
              "      <td>NYC</td>\n",
              "      <td>The Oasis comes complete with a full backyard ...</td>\n",
              "      <td>2017-04-30</td>\n",
              "      <td>t</td>\n",
              "      <td>t</td>\n",
              "      <td>100%</td>\n",
              "      <td>2016-10-25</td>\n",
              "      <td>t</td>\n",
              "      <td>2017-09-14</td>\n",
              "      <td>40.808110</td>\n",
              "      <td>-73.943756</td>\n",
              "      <td>The Garden Oasis</td>\n",
              "      <td>Harlem</td>\n",
              "      <td>10</td>\n",
              "      <td>92.0</td>\n",
              "      <td>https://a0.muscache.com/im/pictures/6fae5362-9...</td>\n",
              "      <td>10027</td>\n",
              "      <td>1.0</td>\n",
              "      <td>3.0</td>\n",
              "    </tr>\n",
              "    <tr>\n",
              "      <th>3</th>\n",
              "      <td>13418779</td>\n",
              "      <td>6.620073</td>\n",
              "      <td>House</td>\n",
              "      <td>Entire home/apt</td>\n",
              "      <td>{TV,\"Cable TV\",Internet,\"Wireless Internet\",Ki...</td>\n",
              "      <td>4</td>\n",
              "      <td>1.0</td>\n",
              "      <td>Real Bed</td>\n",
              "      <td>flexible</td>\n",
              "      <td>True</td>\n",
              "      <td>SF</td>\n",
              "      <td>This light-filled home-away-from-home is super...</td>\n",
              "      <td>NaN</td>\n",
              "      <td>t</td>\n",
              "      <td>t</td>\n",
              "      <td>NaN</td>\n",
              "      <td>2015-04-19</td>\n",
              "      <td>f</td>\n",
              "      <td>NaN</td>\n",
              "      <td>37.772004</td>\n",
              "      <td>-122.431619</td>\n",
              "      <td>Beautiful Flat in the Heart of SF!</td>\n",
              "      <td>Lower Haight</td>\n",
              "      <td>0</td>\n",
              "      <td>NaN</td>\n",
              "      <td>https://a0.muscache.com/im/pictures/72208dad-9...</td>\n",
              "      <td>94117.0</td>\n",
              "      <td>2.0</td>\n",
              "      <td>2.0</td>\n",
              "    </tr>\n",
              "    <tr>\n",
              "      <th>4</th>\n",
              "      <td>3808709</td>\n",
              "      <td>4.744932</td>\n",
              "      <td>Apartment</td>\n",
              "      <td>Entire home/apt</td>\n",
              "      <td>{TV,Internet,\"Wireless Internet\",\"Air conditio...</td>\n",
              "      <td>2</td>\n",
              "      <td>1.0</td>\n",
              "      <td>Real Bed</td>\n",
              "      <td>moderate</td>\n",
              "      <td>True</td>\n",
              "      <td>DC</td>\n",
              "      <td>Cool, cozy, and comfortable studio located in ...</td>\n",
              "      <td>2015-05-12</td>\n",
              "      <td>t</td>\n",
              "      <td>t</td>\n",
              "      <td>100%</td>\n",
              "      <td>2015-03-01</td>\n",
              "      <td>t</td>\n",
              "      <td>2017-01-22</td>\n",
              "      <td>38.925627</td>\n",
              "      <td>-77.034596</td>\n",
              "      <td>Great studio in midtown DC</td>\n",
              "      <td>Columbia Heights</td>\n",
              "      <td>4</td>\n",
              "      <td>40.0</td>\n",
              "      <td>NaN</td>\n",
              "      <td>20009</td>\n",
              "      <td>0.0</td>\n",
              "      <td>1.0</td>\n",
              "    </tr>\n",
              "  </tbody>\n",
              "</table>\n",
              "</div>"
            ],
            "text/plain": [
              "         id  log_price property_type  ...  zipcode bedrooms  beds\n",
              "0   6901257   5.010635     Apartment  ...    11201      1.0   1.0\n",
              "1   6304928   5.129899     Apartment  ...    10019      3.0   3.0\n",
              "2   7919400   4.976734     Apartment  ...    10027      1.0   3.0\n",
              "3  13418779   6.620073         House  ...  94117.0      2.0   2.0\n",
              "4   3808709   4.744932     Apartment  ...    20009      0.0   1.0\n",
              "\n",
              "[5 rows x 29 columns]"
            ]
          },
          "metadata": {
            "tags": []
          },
          "execution_count": 19
        }
      ]
    },
    {
      "cell_type": "markdown",
      "metadata": {
        "id": "wjo5qFvRSgS7",
        "colab_type": "text"
      },
      "source": [
        "## **Check the missing values**"
      ]
    },
    {
      "cell_type": "code",
      "metadata": {
        "id": "J1-suV15bIrz",
        "colab_type": "code",
        "outputId": "3a8395d6-d658-42c5-d0a4-bb3333c494b4",
        "colab": {
          "base_uri": "https://localhost:8080/",
          "height": 542
        }
      },
      "source": [
        "d.isnull().sum(axis=0)"
      ],
      "execution_count": 0,
      "outputs": [
        {
          "output_type": "execute_result",
          "data": {
            "text/plain": [
              "id                            0\n",
              "log_price                     0\n",
              "property_type                 0\n",
              "room_type                     0\n",
              "amenities                     0\n",
              "accommodates                  0\n",
              "bathrooms                   200\n",
              "bed_type                      0\n",
              "cancellation_policy           0\n",
              "cleaning_fee                  0\n",
              "city                          0\n",
              "description                   0\n",
              "first_review              15864\n",
              "host_has_profile_pic        188\n",
              "host_identity_verified      188\n",
              "host_response_rate        18299\n",
              "host_since                  188\n",
              "instant_bookable              0\n",
              "last_review               15827\n",
              "latitude                      0\n",
              "longitude                     0\n",
              "name                          0\n",
              "neighbourhood              6872\n",
              "number_of_reviews             0\n",
              "review_scores_rating      16722\n",
              "thumbnail_url              8216\n",
              "zipcode                     966\n",
              "bedrooms                     91\n",
              "beds                        131\n",
              "dtype: int64"
            ]
          },
          "metadata": {
            "tags": []
          },
          "execution_count": 20
        }
      ]
    },
    {
      "cell_type": "markdown",
      "metadata": {
        "id": "wY9MPOQBSm3L",
        "colab_type": "text"
      },
      "source": [
        "## **Transform the column\"amenities\"**"
      ]
    },
    {
      "cell_type": "code",
      "metadata": {
        "id": "0tH8IJjUiQi-",
        "colab_type": "code",
        "colab": {}
      },
      "source": [
        "type(d.amenities[0])"
      ],
      "execution_count": 0,
      "outputs": []
    },
    {
      "cell_type": "code",
      "metadata": {
        "id": "xpQbeFD1imne",
        "colab_type": "code",
        "colab": {}
      },
      "source": [
        "d.amenities.head(10)"
      ],
      "execution_count": 0,
      "outputs": []
    },
    {
      "cell_type": "code",
      "metadata": {
        "id": "ghYxLawuEiNV",
        "colab_type": "code",
        "outputId": "14480801-63dc-4a17-9807-73ce11c2b09b",
        "colab": {
          "base_uri": "https://localhost:8080/",
          "height": 404
        }
      },
      "source": [
        "amenities = d[['amenities']]\n",
        "print(type(amenities))\n",
        "\n",
        "'''print(amenities.head(1))\n",
        "print(amenities.loc[0][0])'''\n",
        "#print(len(amenities))\n",
        "a = amenities.loc[0][0]\n",
        "print(type(a))\n",
        "'''\n",
        "aa = a.strip('{}\"')\n",
        "bb = aa.split(',')\n",
        "print(aa)\n",
        "print(bb)\n",
        "'''\n",
        "def rm_quotation_mark(str):\n",
        "    if not str:\n",
        "        return False\n",
        "    aa = str.strip('{}\"')\n",
        "    bb = aa.split(',')\n",
        "    for i in range(len(bb)):\n",
        "        bb[i] = bb[i].strip('\"\"')\n",
        "    return bb\n",
        "'''\n",
        "print(rm_quotation_mark(a))\n",
        "print(len(amenities.loc[:]))\n",
        "print(amenities.loc[2][0])\n",
        "'''\n",
        "def new_amenities(df):\n",
        "    Amen = []\n",
        "    i = 0\n",
        "    while i < len(df.loc[:]):\n",
        "        y = df.loc[i][0]\n",
        "        Amen.append(rm_quotation_mark(y))\n",
        "        i+=1\n",
        "    return Amen\n",
        "Amenities = new_amenities(amenities)\n",
        "print(len(Amenities))\n",
        "print(Amenities[12][0])\n",
        "print(Amenities[19])\n",
        "print(type(Amenities))\n",
        "Amenity = pd.Series(Amenities)\n",
        "d['Amenity'] =Amenity\n",
        "print(d.head(10))\n",
        "print(d.Amenity[0])\n",
        "print(d.Amenity[20][0])"
      ],
      "execution_count": 0,
      "outputs": [
        {
          "output_type": "stream",
          "text": [
            "<class 'pandas.core.frame.DataFrame'>\n",
            "<class 'str'>\n",
            "74111\n",
            "TV\n",
            "['TV', 'Wireless Internet', 'Air conditioning', 'Kitchen', 'Breakfast', 'Heating', 'Smoke detector', 'Fire extinguisher', 'Essentials', 'Lock on bedroom door', 'Hangers', 'Hair dryer', 'Iron', 'Laptop friendly workspace', 'Private entrance', 'Hot water', 'Bed linens', 'Extra pillows and blankets', 'Microwave', 'Refrigerator', 'Dishes and silverware', 'Cooking basics', 'Oven', 'Stove']\n",
            "<class 'list'>\n",
            "         id  log_price  ... beds                                            Amenity\n",
            "0   6901257   5.010635  ...  1.0  [Wireless Internet, Air conditioning, Kitchen,...\n",
            "1   6304928   5.129899  ...  3.0  [Wireless Internet, Air conditioning, Kitchen,...\n",
            "2   7919400   4.976734  ...  3.0  [TV, Cable TV, Wireless Internet, Air conditio...\n",
            "3  13418779   6.620073  ...  2.0  [TV, Cable TV, Internet, Wireless Internet, Ki...\n",
            "4   3808709   4.744932  ...  1.0  [TV, Internet, Wireless Internet, Air conditio...\n",
            "5  12422935   4.442651  ...  1.0  [TV, Wireless Internet, Heating, Smoke detecto...\n",
            "6  11825529   4.418841  ...  1.0  [TV, Internet, Wireless Internet, Air conditio...\n",
            "7  13971273   4.787492  ...  1.0  [TV, Cable TV, Wireless Internet, Wheelchair a...\n",
            "8    180792   4.787492  ...  1.0  [TV, Cable TV, Wireless Internet, Pets live on...\n",
            "9   5385260   3.583519  ...  1.0  [Wireless Internet, Air conditioning, Kitchen,...\n",
            "\n",
            "[10 rows x 30 columns]\n",
            "['Wireless Internet', 'Air conditioning', 'Kitchen', 'Heating', 'Family/kid friendly', 'Essentials', 'Hair dryer', 'Iron', 'translation missing: en.hosting_amenity_50']\n",
            "Cable TV\n"
          ],
          "name": "stdout"
        }
      ]
    },
    {
      "cell_type": "code",
      "metadata": {
        "id": "f50XbZ5Cks8m",
        "colab_type": "code",
        "colab": {}
      },
      "source": [
        "print(type(d.Amenity[13]))\n",
        "print(d.Amenity[20][1])"
      ],
      "execution_count": 0,
      "outputs": []
    },
    {
      "cell_type": "code",
      "metadata": {
        "id": "Suf3EZJbV6SB",
        "colab_type": "code",
        "outputId": "59c52fc6-6b4b-4198-e2ac-12a20a3d9be1",
        "colab": {
          "base_uri": "https://localhost:8080/",
          "height": 139
        }
      },
      "source": [
        "print(d.columns.values)\n",
        "d.drop(['amenities'], axis = 1,inplace = True)\n"
      ],
      "execution_count": 0,
      "outputs": [
        {
          "output_type": "stream",
          "text": [
            "['id' 'log_price' 'property_type' 'room_type' 'amenities' 'accommodates'\n",
            " 'bathrooms' 'bed_type' 'cancellation_policy' 'cleaning_fee' 'city'\n",
            " 'description' 'first_review' 'host_has_profile_pic'\n",
            " 'host_identity_verified' 'host_response_rate' 'host_since'\n",
            " 'instant_bookable' 'last_review' 'latitude' 'longitude' 'name'\n",
            " 'neighbourhood' 'number_of_reviews' 'review_scores_rating'\n",
            " 'thumbnail_url' 'zipcode' 'bedrooms' 'beds' 'Amenity']\n"
          ],
          "name": "stdout"
        }
      ]
    },
    {
      "cell_type": "code",
      "metadata": {
        "id": "RTwelIj8WOJ7",
        "colab_type": "code",
        "outputId": "906a1079-de54-41cc-cd9e-4d62dbc3dc8f",
        "colab": {
          "base_uri": "https://localhost:8080/",
          "height": 542
        }
      },
      "source": [
        "drop_idx = pd.Series(d.columns.values, \\\n",
        "          index = range(len(d.columns.values)))\n",
        "print(drop_idx)"
      ],
      "execution_count": 0,
      "outputs": [
        {
          "output_type": "stream",
          "text": [
            "0                         id\n",
            "1                  log_price\n",
            "2              property_type\n",
            "3                  room_type\n",
            "4               accommodates\n",
            "5                  bathrooms\n",
            "6                   bed_type\n",
            "7        cancellation_policy\n",
            "8               cleaning_fee\n",
            "9                       city\n",
            "10               description\n",
            "11              first_review\n",
            "12      host_has_profile_pic\n",
            "13    host_identity_verified\n",
            "14        host_response_rate\n",
            "15                host_since\n",
            "16          instant_bookable\n",
            "17               last_review\n",
            "18                  latitude\n",
            "19                 longitude\n",
            "20                      name\n",
            "21             neighbourhood\n",
            "22         number_of_reviews\n",
            "23      review_scores_rating\n",
            "24             thumbnail_url\n",
            "25                   zipcode\n",
            "26                  bedrooms\n",
            "27                      beds\n",
            "28                   Amenity\n",
            "dtype: object\n"
          ],
          "name": "stdout"
        }
      ]
    },
    {
      "cell_type": "code",
      "metadata": {
        "id": "JySZMR2DWW_0",
        "colab_type": "code",
        "outputId": "ba1b5900-ec26-479f-b020-22d30bd9d3ae",
        "colab": {
          "base_uri": "https://localhost:8080/",
          "height": 479
        }
      },
      "source": [
        "drop_2 = drop_idx.drop([10,11,17,18,19,20,21,24,25])\n",
        "d1 = d[drop_2]\n",
        "len(d1.columns)\n",
        "d1.head()"
      ],
      "execution_count": 0,
      "outputs": [
        {
          "output_type": "execute_result",
          "data": {
            "text/html": [
              "<div>\n",
              "<style scoped>\n",
              "    .dataframe tbody tr th:only-of-type {\n",
              "        vertical-align: middle;\n",
              "    }\n",
              "\n",
              "    .dataframe tbody tr th {\n",
              "        vertical-align: top;\n",
              "    }\n",
              "\n",
              "    .dataframe thead th {\n",
              "        text-align: right;\n",
              "    }\n",
              "</style>\n",
              "<table border=\"1\" class=\"dataframe\">\n",
              "  <thead>\n",
              "    <tr style=\"text-align: right;\">\n",
              "      <th></th>\n",
              "      <th>id</th>\n",
              "      <th>log_price</th>\n",
              "      <th>property_type</th>\n",
              "      <th>room_type</th>\n",
              "      <th>accommodates</th>\n",
              "      <th>bathrooms</th>\n",
              "      <th>bed_type</th>\n",
              "      <th>cancellation_policy</th>\n",
              "      <th>cleaning_fee</th>\n",
              "      <th>city</th>\n",
              "      <th>host_has_profile_pic</th>\n",
              "      <th>host_identity_verified</th>\n",
              "      <th>host_response_rate</th>\n",
              "      <th>host_since</th>\n",
              "      <th>instant_bookable</th>\n",
              "      <th>number_of_reviews</th>\n",
              "      <th>review_scores_rating</th>\n",
              "      <th>bedrooms</th>\n",
              "      <th>beds</th>\n",
              "      <th>Amenity</th>\n",
              "    </tr>\n",
              "  </thead>\n",
              "  <tbody>\n",
              "    <tr>\n",
              "      <th>0</th>\n",
              "      <td>6901257</td>\n",
              "      <td>5.010635</td>\n",
              "      <td>Apartment</td>\n",
              "      <td>Entire home/apt</td>\n",
              "      <td>3</td>\n",
              "      <td>1.0</td>\n",
              "      <td>Real Bed</td>\n",
              "      <td>strict</td>\n",
              "      <td>True</td>\n",
              "      <td>NYC</td>\n",
              "      <td>t</td>\n",
              "      <td>t</td>\n",
              "      <td>NaN</td>\n",
              "      <td>2012-03-26</td>\n",
              "      <td>f</td>\n",
              "      <td>2</td>\n",
              "      <td>100.0</td>\n",
              "      <td>1.0</td>\n",
              "      <td>1.0</td>\n",
              "      <td>[Wireless Internet, Air conditioning, Kitchen,...</td>\n",
              "    </tr>\n",
              "    <tr>\n",
              "      <th>1</th>\n",
              "      <td>6304928</td>\n",
              "      <td>5.129899</td>\n",
              "      <td>Apartment</td>\n",
              "      <td>Entire home/apt</td>\n",
              "      <td>7</td>\n",
              "      <td>1.0</td>\n",
              "      <td>Real Bed</td>\n",
              "      <td>strict</td>\n",
              "      <td>True</td>\n",
              "      <td>NYC</td>\n",
              "      <td>t</td>\n",
              "      <td>f</td>\n",
              "      <td>100%</td>\n",
              "      <td>2017-06-19</td>\n",
              "      <td>t</td>\n",
              "      <td>6</td>\n",
              "      <td>93.0</td>\n",
              "      <td>3.0</td>\n",
              "      <td>3.0</td>\n",
              "      <td>[Wireless Internet, Air conditioning, Kitchen,...</td>\n",
              "    </tr>\n",
              "    <tr>\n",
              "      <th>2</th>\n",
              "      <td>7919400</td>\n",
              "      <td>4.976734</td>\n",
              "      <td>Apartment</td>\n",
              "      <td>Entire home/apt</td>\n",
              "      <td>5</td>\n",
              "      <td>1.0</td>\n",
              "      <td>Real Bed</td>\n",
              "      <td>moderate</td>\n",
              "      <td>True</td>\n",
              "      <td>NYC</td>\n",
              "      <td>t</td>\n",
              "      <td>t</td>\n",
              "      <td>100%</td>\n",
              "      <td>2016-10-25</td>\n",
              "      <td>t</td>\n",
              "      <td>10</td>\n",
              "      <td>92.0</td>\n",
              "      <td>1.0</td>\n",
              "      <td>3.0</td>\n",
              "      <td>[TV, Cable TV, Wireless Internet, Air conditio...</td>\n",
              "    </tr>\n",
              "    <tr>\n",
              "      <th>3</th>\n",
              "      <td>13418779</td>\n",
              "      <td>6.620073</td>\n",
              "      <td>House</td>\n",
              "      <td>Entire home/apt</td>\n",
              "      <td>4</td>\n",
              "      <td>1.0</td>\n",
              "      <td>Real Bed</td>\n",
              "      <td>flexible</td>\n",
              "      <td>True</td>\n",
              "      <td>SF</td>\n",
              "      <td>t</td>\n",
              "      <td>t</td>\n",
              "      <td>NaN</td>\n",
              "      <td>2015-04-19</td>\n",
              "      <td>f</td>\n",
              "      <td>0</td>\n",
              "      <td>NaN</td>\n",
              "      <td>2.0</td>\n",
              "      <td>2.0</td>\n",
              "      <td>[TV, Cable TV, Internet, Wireless Internet, Ki...</td>\n",
              "    </tr>\n",
              "    <tr>\n",
              "      <th>4</th>\n",
              "      <td>3808709</td>\n",
              "      <td>4.744932</td>\n",
              "      <td>Apartment</td>\n",
              "      <td>Entire home/apt</td>\n",
              "      <td>2</td>\n",
              "      <td>1.0</td>\n",
              "      <td>Real Bed</td>\n",
              "      <td>moderate</td>\n",
              "      <td>True</td>\n",
              "      <td>DC</td>\n",
              "      <td>t</td>\n",
              "      <td>t</td>\n",
              "      <td>100%</td>\n",
              "      <td>2015-03-01</td>\n",
              "      <td>t</td>\n",
              "      <td>4</td>\n",
              "      <td>40.0</td>\n",
              "      <td>0.0</td>\n",
              "      <td>1.0</td>\n",
              "      <td>[TV, Internet, Wireless Internet, Air conditio...</td>\n",
              "    </tr>\n",
              "  </tbody>\n",
              "</table>\n",
              "</div>"
            ],
            "text/plain": [
              "         id  log_price  ... beds                                            Amenity\n",
              "0   6901257   5.010635  ...  1.0  [Wireless Internet, Air conditioning, Kitchen,...\n",
              "1   6304928   5.129899  ...  3.0  [Wireless Internet, Air conditioning, Kitchen,...\n",
              "2   7919400   4.976734  ...  3.0  [TV, Cable TV, Wireless Internet, Air conditio...\n",
              "3  13418779   6.620073  ...  2.0  [TV, Cable TV, Internet, Wireless Internet, Ki...\n",
              "4   3808709   4.744932  ...  1.0  [TV, Internet, Wireless Internet, Air conditio...\n",
              "\n",
              "[5 rows x 20 columns]"
            ]
          },
          "metadata": {
            "tags": []
          },
          "execution_count": 24
        }
      ]
    },
    {
      "cell_type": "code",
      "metadata": {
        "id": "vQamB196r6Kb",
        "colab_type": "code",
        "colab": {}
      },
      "source": [
        "d1.isnull().sum()"
      ],
      "execution_count": 0,
      "outputs": []
    },
    {
      "cell_type": "markdown",
      "metadata": {
        "id": "94lyM0cncOF8",
        "colab_type": "text"
      },
      "source": [
        "### **Transform the 'cleaning_fee' column to 'has_cleaning_fee'**\n",
        "\n",
        "\n"
      ]
    },
    {
      "cell_type": "code",
      "metadata": {
        "id": "n73VTMCTZz_g",
        "colab_type": "code",
        "outputId": "bb0db5d6-263d-4bfe-e7cd-64460e73cc84",
        "colab": {
          "base_uri": "https://localhost:8080/",
          "height": 584
        }
      },
      "source": [
        "def helper(x):\n",
        "    if x is True:\n",
        "        return 1\n",
        "    else:\n",
        "        return 0\n",
        "d1['has_cleaning_fee']= d1.cleaning_fee.apply(lambda x: helper(x))\n",
        "d1.head()"
      ],
      "execution_count": 0,
      "outputs": [
        {
          "output_type": "stream",
          "text": [
            "/usr/local/lib/python3.6/dist-packages/ipykernel_launcher.py:6: SettingWithCopyWarning: \n",
            "A value is trying to be set on a copy of a slice from a DataFrame.\n",
            "Try using .loc[row_indexer,col_indexer] = value instead\n",
            "\n",
            "See the caveats in the documentation: http://pandas.pydata.org/pandas-docs/stable/indexing.html#indexing-view-versus-copy\n",
            "  \n"
          ],
          "name": "stderr"
        },
        {
          "output_type": "execute_result",
          "data": {
            "text/html": [
              "<div>\n",
              "<style scoped>\n",
              "    .dataframe tbody tr th:only-of-type {\n",
              "        vertical-align: middle;\n",
              "    }\n",
              "\n",
              "    .dataframe tbody tr th {\n",
              "        vertical-align: top;\n",
              "    }\n",
              "\n",
              "    .dataframe thead th {\n",
              "        text-align: right;\n",
              "    }\n",
              "</style>\n",
              "<table border=\"1\" class=\"dataframe\">\n",
              "  <thead>\n",
              "    <tr style=\"text-align: right;\">\n",
              "      <th></th>\n",
              "      <th>id</th>\n",
              "      <th>log_price</th>\n",
              "      <th>property_type</th>\n",
              "      <th>room_type</th>\n",
              "      <th>accommodates</th>\n",
              "      <th>bathrooms</th>\n",
              "      <th>bed_type</th>\n",
              "      <th>cancellation_policy</th>\n",
              "      <th>cleaning_fee</th>\n",
              "      <th>city</th>\n",
              "      <th>host_has_profile_pic</th>\n",
              "      <th>host_identity_verified</th>\n",
              "      <th>host_response_rate</th>\n",
              "      <th>host_since</th>\n",
              "      <th>instant_bookable</th>\n",
              "      <th>number_of_reviews</th>\n",
              "      <th>review_scores_rating</th>\n",
              "      <th>bedrooms</th>\n",
              "      <th>beds</th>\n",
              "      <th>Amenity</th>\n",
              "      <th>has_cleaning_fee</th>\n",
              "    </tr>\n",
              "  </thead>\n",
              "  <tbody>\n",
              "    <tr>\n",
              "      <th>0</th>\n",
              "      <td>6901257</td>\n",
              "      <td>5.010635</td>\n",
              "      <td>Apartment</td>\n",
              "      <td>Entire home/apt</td>\n",
              "      <td>3</td>\n",
              "      <td>1.0</td>\n",
              "      <td>Real Bed</td>\n",
              "      <td>strict</td>\n",
              "      <td>True</td>\n",
              "      <td>NYC</td>\n",
              "      <td>t</td>\n",
              "      <td>t</td>\n",
              "      <td>NaN</td>\n",
              "      <td>2012-03-26</td>\n",
              "      <td>f</td>\n",
              "      <td>2</td>\n",
              "      <td>100.0</td>\n",
              "      <td>1.0</td>\n",
              "      <td>1.0</td>\n",
              "      <td>[Wireless Internet, Air conditioning, Kitchen,...</td>\n",
              "      <td>1</td>\n",
              "    </tr>\n",
              "    <tr>\n",
              "      <th>1</th>\n",
              "      <td>6304928</td>\n",
              "      <td>5.129899</td>\n",
              "      <td>Apartment</td>\n",
              "      <td>Entire home/apt</td>\n",
              "      <td>7</td>\n",
              "      <td>1.0</td>\n",
              "      <td>Real Bed</td>\n",
              "      <td>strict</td>\n",
              "      <td>True</td>\n",
              "      <td>NYC</td>\n",
              "      <td>t</td>\n",
              "      <td>f</td>\n",
              "      <td>100%</td>\n",
              "      <td>2017-06-19</td>\n",
              "      <td>t</td>\n",
              "      <td>6</td>\n",
              "      <td>93.0</td>\n",
              "      <td>3.0</td>\n",
              "      <td>3.0</td>\n",
              "      <td>[Wireless Internet, Air conditioning, Kitchen,...</td>\n",
              "      <td>1</td>\n",
              "    </tr>\n",
              "    <tr>\n",
              "      <th>2</th>\n",
              "      <td>7919400</td>\n",
              "      <td>4.976734</td>\n",
              "      <td>Apartment</td>\n",
              "      <td>Entire home/apt</td>\n",
              "      <td>5</td>\n",
              "      <td>1.0</td>\n",
              "      <td>Real Bed</td>\n",
              "      <td>moderate</td>\n",
              "      <td>True</td>\n",
              "      <td>NYC</td>\n",
              "      <td>t</td>\n",
              "      <td>t</td>\n",
              "      <td>100%</td>\n",
              "      <td>2016-10-25</td>\n",
              "      <td>t</td>\n",
              "      <td>10</td>\n",
              "      <td>92.0</td>\n",
              "      <td>1.0</td>\n",
              "      <td>3.0</td>\n",
              "      <td>[TV, Cable TV, Wireless Internet, Air conditio...</td>\n",
              "      <td>1</td>\n",
              "    </tr>\n",
              "    <tr>\n",
              "      <th>3</th>\n",
              "      <td>13418779</td>\n",
              "      <td>6.620073</td>\n",
              "      <td>House</td>\n",
              "      <td>Entire home/apt</td>\n",
              "      <td>4</td>\n",
              "      <td>1.0</td>\n",
              "      <td>Real Bed</td>\n",
              "      <td>flexible</td>\n",
              "      <td>True</td>\n",
              "      <td>SF</td>\n",
              "      <td>t</td>\n",
              "      <td>t</td>\n",
              "      <td>NaN</td>\n",
              "      <td>2015-04-19</td>\n",
              "      <td>f</td>\n",
              "      <td>0</td>\n",
              "      <td>NaN</td>\n",
              "      <td>2.0</td>\n",
              "      <td>2.0</td>\n",
              "      <td>[TV, Cable TV, Internet, Wireless Internet, Ki...</td>\n",
              "      <td>1</td>\n",
              "    </tr>\n",
              "    <tr>\n",
              "      <th>4</th>\n",
              "      <td>3808709</td>\n",
              "      <td>4.744932</td>\n",
              "      <td>Apartment</td>\n",
              "      <td>Entire home/apt</td>\n",
              "      <td>2</td>\n",
              "      <td>1.0</td>\n",
              "      <td>Real Bed</td>\n",
              "      <td>moderate</td>\n",
              "      <td>True</td>\n",
              "      <td>DC</td>\n",
              "      <td>t</td>\n",
              "      <td>t</td>\n",
              "      <td>100%</td>\n",
              "      <td>2015-03-01</td>\n",
              "      <td>t</td>\n",
              "      <td>4</td>\n",
              "      <td>40.0</td>\n",
              "      <td>0.0</td>\n",
              "      <td>1.0</td>\n",
              "      <td>[TV, Internet, Wireless Internet, Air conditio...</td>\n",
              "      <td>1</td>\n",
              "    </tr>\n",
              "  </tbody>\n",
              "</table>\n",
              "</div>"
            ],
            "text/plain": [
              "         id  ...  has_cleaning_fee\n",
              "0   6901257  ...                 1\n",
              "1   6304928  ...                 1\n",
              "2   7919400  ...                 1\n",
              "3  13418779  ...                 1\n",
              "4   3808709  ...                 1\n",
              "\n",
              "[5 rows x 21 columns]"
            ]
          },
          "metadata": {
            "tags": []
          },
          "execution_count": 25
        }
      ]
    },
    {
      "cell_type": "markdown",
      "metadata": {
        "id": "_0fqPs8Dd7yX",
        "colab_type": "text"
      },
      "source": [
        "### **Transform the column 'city' to categorical values**"
      ]
    },
    {
      "cell_type": "code",
      "metadata": {
        "id": "0bOY9OcjfrBi",
        "colab_type": "code",
        "outputId": "a6ed8774-46d5-4ee7-859f-12be5c1744f9",
        "colab": {
          "base_uri": "https://localhost:8080/",
          "height": 689
        }
      },
      "source": [
        "cnt = 0\n",
        "for i in d1.city.unique():\n",
        "    d1.loc[(d1.city == i), 'City_idx'] = cnt\n",
        "    cnt+=1\n",
        "d1.head()\n"
      ],
      "execution_count": 0,
      "outputs": [
        {
          "output_type": "stream",
          "text": [
            "/usr/local/lib/python3.6/dist-packages/pandas/core/indexing.py:362: SettingWithCopyWarning: \n",
            "A value is trying to be set on a copy of a slice from a DataFrame.\n",
            "Try using .loc[row_indexer,col_indexer] = value instead\n",
            "\n",
            "See the caveats in the documentation: http://pandas.pydata.org/pandas-docs/stable/indexing.html#indexing-view-versus-copy\n",
            "  self.obj[key] = _infer_fill_value(value)\n",
            "/usr/local/lib/python3.6/dist-packages/pandas/core/indexing.py:543: SettingWithCopyWarning: \n",
            "A value is trying to be set on a copy of a slice from a DataFrame.\n",
            "Try using .loc[row_indexer,col_indexer] = value instead\n",
            "\n",
            "See the caveats in the documentation: http://pandas.pydata.org/pandas-docs/stable/indexing.html#indexing-view-versus-copy\n",
            "  self.obj[item] = s\n"
          ],
          "name": "stderr"
        },
        {
          "output_type": "execute_result",
          "data": {
            "text/html": [
              "<div>\n",
              "<style scoped>\n",
              "    .dataframe tbody tr th:only-of-type {\n",
              "        vertical-align: middle;\n",
              "    }\n",
              "\n",
              "    .dataframe tbody tr th {\n",
              "        vertical-align: top;\n",
              "    }\n",
              "\n",
              "    .dataframe thead th {\n",
              "        text-align: right;\n",
              "    }\n",
              "</style>\n",
              "<table border=\"1\" class=\"dataframe\">\n",
              "  <thead>\n",
              "    <tr style=\"text-align: right;\">\n",
              "      <th></th>\n",
              "      <th>id</th>\n",
              "      <th>log_price</th>\n",
              "      <th>property_type</th>\n",
              "      <th>room_type</th>\n",
              "      <th>accommodates</th>\n",
              "      <th>bathrooms</th>\n",
              "      <th>bed_type</th>\n",
              "      <th>cancellation_policy</th>\n",
              "      <th>cleaning_fee</th>\n",
              "      <th>city</th>\n",
              "      <th>host_has_profile_pic</th>\n",
              "      <th>host_identity_verified</th>\n",
              "      <th>host_response_rate</th>\n",
              "      <th>host_since</th>\n",
              "      <th>instant_bookable</th>\n",
              "      <th>number_of_reviews</th>\n",
              "      <th>review_scores_rating</th>\n",
              "      <th>bedrooms</th>\n",
              "      <th>beds</th>\n",
              "      <th>Amenity</th>\n",
              "      <th>has_cleaning_fee</th>\n",
              "      <th>City_idx</th>\n",
              "    </tr>\n",
              "  </thead>\n",
              "  <tbody>\n",
              "    <tr>\n",
              "      <th>0</th>\n",
              "      <td>6901257</td>\n",
              "      <td>5.010635</td>\n",
              "      <td>Apartment</td>\n",
              "      <td>Entire home/apt</td>\n",
              "      <td>3</td>\n",
              "      <td>1.0</td>\n",
              "      <td>Real Bed</td>\n",
              "      <td>strict</td>\n",
              "      <td>True</td>\n",
              "      <td>NYC</td>\n",
              "      <td>t</td>\n",
              "      <td>t</td>\n",
              "      <td>NaN</td>\n",
              "      <td>2012-03-26</td>\n",
              "      <td>f</td>\n",
              "      <td>2</td>\n",
              "      <td>100.0</td>\n",
              "      <td>1.0</td>\n",
              "      <td>1.0</td>\n",
              "      <td>[Wireless Internet, Air conditioning, Kitchen,...</td>\n",
              "      <td>1</td>\n",
              "      <td>0.0</td>\n",
              "    </tr>\n",
              "    <tr>\n",
              "      <th>1</th>\n",
              "      <td>6304928</td>\n",
              "      <td>5.129899</td>\n",
              "      <td>Apartment</td>\n",
              "      <td>Entire home/apt</td>\n",
              "      <td>7</td>\n",
              "      <td>1.0</td>\n",
              "      <td>Real Bed</td>\n",
              "      <td>strict</td>\n",
              "      <td>True</td>\n",
              "      <td>NYC</td>\n",
              "      <td>t</td>\n",
              "      <td>f</td>\n",
              "      <td>100%</td>\n",
              "      <td>2017-06-19</td>\n",
              "      <td>t</td>\n",
              "      <td>6</td>\n",
              "      <td>93.0</td>\n",
              "      <td>3.0</td>\n",
              "      <td>3.0</td>\n",
              "      <td>[Wireless Internet, Air conditioning, Kitchen,...</td>\n",
              "      <td>1</td>\n",
              "      <td>0.0</td>\n",
              "    </tr>\n",
              "    <tr>\n",
              "      <th>2</th>\n",
              "      <td>7919400</td>\n",
              "      <td>4.976734</td>\n",
              "      <td>Apartment</td>\n",
              "      <td>Entire home/apt</td>\n",
              "      <td>5</td>\n",
              "      <td>1.0</td>\n",
              "      <td>Real Bed</td>\n",
              "      <td>moderate</td>\n",
              "      <td>True</td>\n",
              "      <td>NYC</td>\n",
              "      <td>t</td>\n",
              "      <td>t</td>\n",
              "      <td>100%</td>\n",
              "      <td>2016-10-25</td>\n",
              "      <td>t</td>\n",
              "      <td>10</td>\n",
              "      <td>92.0</td>\n",
              "      <td>1.0</td>\n",
              "      <td>3.0</td>\n",
              "      <td>[TV, Cable TV, Wireless Internet, Air conditio...</td>\n",
              "      <td>1</td>\n",
              "      <td>0.0</td>\n",
              "    </tr>\n",
              "    <tr>\n",
              "      <th>3</th>\n",
              "      <td>13418779</td>\n",
              "      <td>6.620073</td>\n",
              "      <td>House</td>\n",
              "      <td>Entire home/apt</td>\n",
              "      <td>4</td>\n",
              "      <td>1.0</td>\n",
              "      <td>Real Bed</td>\n",
              "      <td>flexible</td>\n",
              "      <td>True</td>\n",
              "      <td>SF</td>\n",
              "      <td>t</td>\n",
              "      <td>t</td>\n",
              "      <td>NaN</td>\n",
              "      <td>2015-04-19</td>\n",
              "      <td>f</td>\n",
              "      <td>0</td>\n",
              "      <td>NaN</td>\n",
              "      <td>2.0</td>\n",
              "      <td>2.0</td>\n",
              "      <td>[TV, Cable TV, Internet, Wireless Internet, Ki...</td>\n",
              "      <td>1</td>\n",
              "      <td>1.0</td>\n",
              "    </tr>\n",
              "    <tr>\n",
              "      <th>4</th>\n",
              "      <td>3808709</td>\n",
              "      <td>4.744932</td>\n",
              "      <td>Apartment</td>\n",
              "      <td>Entire home/apt</td>\n",
              "      <td>2</td>\n",
              "      <td>1.0</td>\n",
              "      <td>Real Bed</td>\n",
              "      <td>moderate</td>\n",
              "      <td>True</td>\n",
              "      <td>DC</td>\n",
              "      <td>t</td>\n",
              "      <td>t</td>\n",
              "      <td>100%</td>\n",
              "      <td>2015-03-01</td>\n",
              "      <td>t</td>\n",
              "      <td>4</td>\n",
              "      <td>40.0</td>\n",
              "      <td>0.0</td>\n",
              "      <td>1.0</td>\n",
              "      <td>[TV, Internet, Wireless Internet, Air conditio...</td>\n",
              "      <td>1</td>\n",
              "      <td>2.0</td>\n",
              "    </tr>\n",
              "  </tbody>\n",
              "</table>\n",
              "</div>"
            ],
            "text/plain": [
              "         id  log_price  ... has_cleaning_fee City_idx\n",
              "0   6901257   5.010635  ...                1      0.0\n",
              "1   6304928   5.129899  ...                1      0.0\n",
              "2   7919400   4.976734  ...                1      0.0\n",
              "3  13418779   6.620073  ...                1      1.0\n",
              "4   3808709   4.744932  ...                1      2.0\n",
              "\n",
              "[5 rows x 22 columns]"
            ]
          },
          "metadata": {
            "tags": []
          },
          "execution_count": 26
        }
      ]
    },
    {
      "cell_type": "markdown",
      "metadata": {
        "id": "QWH6QybjnlmX",
        "colab_type": "text"
      },
      "source": [
        "### **Transform 'property_type' to 'New_type'**"
      ]
    },
    {
      "cell_type": "code",
      "metadata": {
        "id": "9kKv85yRnvr4",
        "colab_type": "code",
        "outputId": "298f2fde-df6c-4720-937e-c1a6ad267987",
        "colab": {
          "base_uri": "https://localhost:8080/",
          "height": 352
        }
      },
      "source": [
        "#count the number of each element in d1.property_type\n",
        "prop = {}\n",
        "for i in d1.property_type:\n",
        "    if i in prop:\n",
        "        prop[i]+=1\n",
        "    else:\n",
        "        prop[i] = 1\n",
        "print(prop)\n",
        "##d1.property_type.value_counts()\n",
        "d1['property'] = d1['property_type']#Add a new column\n",
        "d1.property.loc[(d1.property != 'Apartment')&(d1.property != 'House')] = 'Other'\n",
        "d1.property.unique()#array(['Apartment', 'House', 'Other'], dtype=object)"
      ],
      "execution_count": 0,
      "outputs": [
        {
          "output_type": "stream",
          "text": [
            "{'Apartment': 49003, 'House': 16511, 'Condominium': 2658, 'Loft': 1244, 'Townhouse': 1692, 'Hostel': 70, 'Guest suite': 123, 'Bed & Breakfast': 462, 'Bungalow': 366, 'Guesthouse': 498, 'Dorm': 142, 'Other': 607, 'Camper/RV': 94, 'Villa': 179, 'Boutique hotel': 69, 'Timeshare': 77, 'In-law': 71, 'Boat': 65, 'Serviced apartment': 21, 'Castle': 13, 'Cabin': 72, 'Treehouse': 7, 'Tipi': 3, 'Vacation home': 11, 'Tent': 18, 'Hut': 8, 'Casa particular': 1, 'Chalet': 6, 'Yurt': 9, 'Earth House': 4, 'Parking Space': 1, 'Train': 2, 'Cave': 2, 'Lighthouse': 1, 'Island': 1}\n"
          ],
          "name": "stdout"
        },
        {
          "output_type": "stream",
          "text": [
            "/usr/local/lib/python3.6/dist-packages/ipykernel_launcher.py:9: SettingWithCopyWarning: \n",
            "A value is trying to be set on a copy of a slice from a DataFrame.\n",
            "Try using .loc[row_indexer,col_indexer] = value instead\n",
            "\n",
            "See the caveats in the documentation: http://pandas.pydata.org/pandas-docs/stable/indexing.html#indexing-view-versus-copy\n",
            "  if __name__ == '__main__':\n",
            "/usr/local/lib/python3.6/dist-packages/pandas/core/indexing.py:190: SettingWithCopyWarning: \n",
            "A value is trying to be set on a copy of a slice from a DataFrame\n",
            "\n",
            "See the caveats in the documentation: http://pandas.pydata.org/pandas-docs/stable/indexing.html#indexing-view-versus-copy\n",
            "  self._setitem_with_indexer(indexer, value)\n",
            "/usr/local/lib/python3.6/dist-packages/ipykernel_launcher.py:10: SettingWithCopyWarning: \n",
            "A value is trying to be set on a copy of a slice from a DataFrame\n",
            "\n",
            "See the caveats in the documentation: http://pandas.pydata.org/pandas-docs/stable/indexing.html#indexing-view-versus-copy\n",
            "  # Remove the CWD from sys.path while we load stuff.\n"
          ],
          "name": "stderr"
        },
        {
          "output_type": "execute_result",
          "data": {
            "text/plain": [
              "array(['Apartment', 'House', 'Other'], dtype=object)"
            ]
          },
          "metadata": {
            "tags": []
          },
          "execution_count": 27
        }
      ]
    },
    {
      "cell_type": "markdown",
      "metadata": {
        "id": "cdWahvVmxJaC",
        "colab_type": "text"
      },
      "source": [
        "### **number_of_reviews**"
      ]
    },
    {
      "cell_type": "code",
      "metadata": {
        "id": "jA8zhYqxxIbK",
        "colab_type": "code",
        "outputId": "1f10d1eb-bee8-43ef-92bd-9737b4806d81",
        "colab": {
          "base_uri": "https://localhost:8080/",
          "height": 72
        }
      },
      "source": [
        "nums = {}\n",
        "for j in d1.number_of_reviews:\n",
        "    if j in nums:\n",
        "        nums[j] += 1\n",
        "    else:\n",
        "        nums[j] = 1\n",
        "print(nums)\n",
        "\n",
        "N= sorted(nums.items(), key = lambda item:item[1], reverse =True)\n",
        "print(N[:10])"
      ],
      "execution_count": 0,
      "outputs": [
        {
          "output_type": "stream",
          "text": [
            "{2: 4750, 6: 2032, 10: 1327, 0: 15819, 4: 2912, 3: 3661, 15: 946, 9: 1441, 159: 18, 82: 103, 29: 425, 13: 1022, 12: 1072, 26: 513, 5: 2518, 57: 181, 73: 109, 14: 981, 1: 7106, 40: 282, 248: 5, 46: 233, 17: 712, 138: 42, 11: 1162, 44: 262, 34: 335, 85: 89, 18: 768, 31: 427, 30: 373, 19: 700, 25: 508, 22: 551, 23: 560, 28: 470, 7: 1851, 32: 394, 144: 28, 16: 833, 38: 306, 105: 53, 59: 159, 67: 152, 21: 610, 120: 46, 8: 1678, 61: 163, 87: 83, 206: 9, 43: 247, 104: 54, 47: 229, 63: 145, 186: 9, 36: 366, 27: 451, 167: 21, 48: 224, 102: 72, 51: 214, 126: 40, 81: 105, 58: 182, 72: 111, 68: 121, 107: 47, 79: 96, 98: 51, 39: 294, 187: 15, 123: 39, 70: 126, 78: 113, 55: 201, 54: 185, 52: 194, 42: 247, 75: 114, 128: 32, 60: 154, 90: 71, 254: 1, 135: 28, 64: 149, 99: 73, 191: 9, 24: 539, 66: 152, 139: 26, 125: 36, 129: 47, 74: 126, 318: 4, 33: 355, 35: 348, 37: 294, 20: 626, 93: 79, 83: 92, 45: 253, 41: 295, 49: 223, 289: 3, 190: 7, 62: 147, 88: 84, 127: 41, 154: 29, 118: 54, 216: 8, 136: 40, 69: 149, 314: 1, 112: 66, 77: 106, 56: 190, 181: 15, 53: 180, 117: 47, 101: 57, 106: 50, 255: 4, 114: 49, 110: 58, 192: 14, 76: 109, 113: 66, 91: 91, 182: 15, 84: 101, 146: 26, 119: 46, 86: 85, 50: 213, 71: 142, 157: 16, 95: 70, 94: 69, 158: 28, 142: 32, 97: 69, 194: 8, 173: 17, 122: 44, 132: 32, 171: 20, 111: 46, 161: 20, 208: 10, 131: 28, 384: 1, 133: 32, 116: 40, 134: 39, 148: 33, 89: 82, 156: 23, 179: 12, 150: 28, 147: 24, 145: 30, 202: 6, 258: 4, 178: 24, 200: 14, 155: 26, 163: 18, 149: 25, 267: 6, 100: 54, 65: 133, 207: 8, 242: 7, 172: 21, 121: 43, 180: 9, 80: 95, 92: 80, 263: 5, 193: 7, 251: 3, 199: 6, 103: 67, 166: 21, 237: 5, 290: 3, 137: 27, 153: 28, 96: 69, 425: 1, 185: 11, 140: 40, 168: 21, 162: 19, 360: 1, 143: 31, 214: 11, 141: 28, 246: 4, 217: 6, 195: 10, 196: 6, 109: 50, 273: 5, 305: 2, 351: 3, 152: 23, 189: 11, 269: 6, 221: 4, 317: 3, 218: 4, 336: 4, 272: 4, 175: 16, 215: 6, 188: 9, 278: 2, 383: 1, 169: 17, 160: 12, 203: 8, 165: 25, 115: 49, 108: 56, 130: 18, 256: 2, 198: 11, 323: 4, 465: 1, 302: 2, 469: 1, 124: 44, 220: 8, 204: 8, 170: 18, 480: 1, 287: 3, 225: 9, 492: 1, 224: 4, 201: 11, 288: 1, 389: 1, 343: 1, 306: 3, 303: 1, 222: 9, 212: 6, 228: 7, 236: 3, 205: 7, 281: 2, 327: 1, 211: 10, 270: 1, 174: 13, 176: 13, 291: 2, 209: 3, 164: 14, 227: 4, 337: 2, 400: 1, 252: 5, 183: 8, 268: 2, 280: 6, 335: 2, 298: 3, 260: 3, 366: 1, 322: 1, 304: 4, 226: 8, 197: 10, 378: 2, 249: 3, 234: 4, 279: 1, 219: 5, 329: 1, 262: 5, 349: 1, 151: 18, 213: 12, 311: 2, 542: 1, 253: 3, 367: 2, 238: 5, 184: 7, 449: 1, 354: 2, 232: 8, 275: 3, 177: 16, 391: 2, 356: 2, 379: 2, 264: 5, 339: 2, 241: 3, 370: 1, 532: 1, 231: 4, 495: 1, 229: 2, 326: 1, 240: 2, 292: 3, 257: 4, 296: 4, 309: 1, 282: 3, 210: 3, 328: 1, 313: 1, 294: 2, 230: 4, 277: 1, 530: 1, 332: 4, 394: 1, 286: 1, 284: 1, 297: 1, 347: 1, 308: 2, 247: 4, 250: 1, 243: 2, 223: 2, 338: 1, 451: 1, 274: 2, 605: 1, 453: 1, 385: 1, 266: 5, 525: 1, 283: 1, 344: 1, 307: 1, 295: 1, 321: 1, 271: 3, 244: 3, 320: 2, 285: 1, 239: 4, 259: 3, 423: 2, 388: 1, 233: 2, 235: 1, 276: 1, 474: 1, 374: 1, 505: 1, 353: 1, 331: 1, 334: 2, 382: 1, 380: 1, 358: 1, 265: 1, 376: 1, 315: 1, 341: 1}\n",
            "[(0, 15819), (1, 7106), (2, 4750), (3, 3661), (4, 2912), (5, 2518), (6, 2032), (7, 1851), (8, 1678), (9, 1441)]\n"
          ],
          "name": "stdout"
        }
      ]
    },
    {
      "cell_type": "code",
      "metadata": {
        "id": "AJO6AyBaxmo0",
        "colab_type": "code",
        "colab": {}
      },
      "source": [
        "#count how many rooms have less than 10 reviews\n",
        "less10 = 0\n",
        "for key, value in enumerate(nums):\n",
        "    if value <= 10:\n",
        "        less10+=nums[value]\n",
        "    \n",
        "print(less10)"
      ],
      "execution_count": 0,
      "outputs": []
    },
    {
      "cell_type": "markdown",
      "metadata": {
        "id": "o28PgAr0vaUC",
        "colab_type": "text"
      },
      "source": [
        "### **Drop the column 'last_review'**"
      ]
    },
    {
      "cell_type": "code",
      "metadata": {
        "id": "88n3l-2weAHb",
        "colab_type": "code",
        "colab": {}
      },
      "source": [
        "d1.isnull().sum()"
      ],
      "execution_count": 0,
      "outputs": []
    },
    {
      "cell_type": "code",
      "metadata": {
        "id": "YFjZhWiUpRF_",
        "colab_type": "code",
        "colab": {}
      },
      "source": [
        "d1.head()"
      ],
      "execution_count": 0,
      "outputs": []
    },
    {
      "cell_type": "markdown",
      "metadata": {
        "id": "OT5bVQfLmKyI",
        "colab_type": "text"
      },
      "source": [
        "## Check  and drop rows that have >=3 missing values "
      ]
    },
    {
      "cell_type": "code",
      "metadata": {
        "id": "OrgoxgYlmGKC",
        "colab_type": "code",
        "outputId": "219138d0-9742-4d00-ace8-8034721f3a61",
        "colab": {
          "base_uri": "https://localhost:8080/",
          "height": 122
        }
      },
      "source": [
        "for i in range(6):\n",
        "    print(\n",
        "        'How many rows have more than %s missing values: '%(str(i)),sum(d1.isnull().sum(axis = 1)>i)\n",
        "    )"
      ],
      "execution_count": 0,
      "outputs": [
        {
          "output_type": "stream",
          "text": [
            "How many rows have more than 0 missing values:  26324\n",
            "How many rows have more than 1 missing values:  9156\n",
            "How many rows have more than 2 missing values:  262\n",
            "How many rows have more than 3 missing values:  215\n",
            "How many rows have more than 4 missing values:  50\n",
            "How many rows have more than 5 missing values:  0\n"
          ],
          "name": "stdout"
        }
      ]
    },
    {
      "cell_type": "code",
      "metadata": {
        "id": "jbjnC5kpmSmo",
        "colab_type": "code",
        "outputId": "2ce86cc2-11c1-4ecf-fe83-3acb05baf30b",
        "colab": {
          "base_uri": "https://localhost:8080/",
          "height": 122
        }
      },
      "source": [
        "d2 = d1.dropna(thresh = len(d1.columns.values) - 2)\n",
        "for i in range(6):\n",
        "    print(\n",
        "        'How many rows have more than %s missing values: '%(str(i)),sum(d2.isnull().sum(axis = 1)>i)\n",
        "    )"
      ],
      "execution_count": 0,
      "outputs": [
        {
          "output_type": "stream",
          "text": [
            "How many rows have more than 0 missing values:  26062\n",
            "How many rows have more than 1 missing values:  8894\n",
            "How many rows have more than 2 missing values:  0\n",
            "How many rows have more than 3 missing values:  0\n",
            "How many rows have more than 4 missing values:  0\n",
            "How many rows have more than 5 missing values:  0\n"
          ],
          "name": "stdout"
        }
      ]
    },
    {
      "cell_type": "code",
      "metadata": {
        "id": "uhhCfO9zpCHn",
        "colab_type": "code",
        "outputId": "dfe225a7-39cc-48ba-e2e8-22aca332d97b",
        "colab": {
          "base_uri": "https://localhost:8080/",
          "height": 437
        }
      },
      "source": [
        "d2.reset_index(drop = True, inplace = True)\n",
        "d2.isnull().sum()"
      ],
      "execution_count": 0,
      "outputs": [
        {
          "output_type": "execute_result",
          "data": {
            "text/plain": [
              "id                            0\n",
              "log_price                     0\n",
              "property_type                 0\n",
              "room_type                     0\n",
              "accommodates                  0\n",
              "bathrooms                   152\n",
              "bed_type                      0\n",
              "cancellation_policy           0\n",
              "cleaning_fee                  0\n",
              "city                          0\n",
              "host_has_profile_pic          0\n",
              "host_identity_verified        0\n",
              "host_response_rate        18055\n",
              "host_since                    0\n",
              "instant_bookable              0\n",
              "number_of_reviews             0\n",
              "review_scores_rating      16610\n",
              "bedrooms                     69\n",
              "beds                         70\n",
              "Amenity                       0\n",
              "has_cleaning_fee              0\n",
              "City_idx                      0\n",
              "property                      0\n",
              "dtype: int64"
            ]
          },
          "metadata": {
            "tags": []
          },
          "execution_count": 31
        }
      ]
    },
    {
      "cell_type": "markdown",
      "metadata": {
        "id": "iD3B3g_EXHDM",
        "colab_type": "text"
      },
      "source": [
        "## Select the top 10 amenities in Amenity"
      ]
    },
    {
      "cell_type": "code",
      "metadata": {
        "id": "BIBybGKZXGUr",
        "colab_type": "code",
        "outputId": "9d220abf-15be-42b1-85fb-0aaaa9fd9f35",
        "colab": {
          "base_uri": "https://localhost:8080/",
          "height": 54
        }
      },
      "source": [
        "amen = {}\n",
        "for i in d2.Amenity:\n",
        "    for j in i:\n",
        "        if j in amen:\n",
        "            amen[j] += 1\n",
        "        else:\n",
        "            amen[j] = 1\n",
        "print(amen)"
      ],
      "execution_count": 0,
      "outputs": [
        {
          "output_type": "stream",
          "text": [
            "{'Wireless Internet': 71042, 'Air conditioning': 55031, 'Kitchen': 67311, 'Heating': 66860, 'Family/kid friendly': 36943, 'Essentials': 63826, 'Hair dryer': 43234, 'Iron': 41578, 'translation missing: en.hosting_amenity_50': 25210, 'Washer': 43069, 'Dryer': 42614, 'Smoke detector': 61555, 'Fire extinguisher': 30661, 'Shampoo': 49341, 'Hangers': 49043, 'TV': 52309, 'Cable TV': 24191, 'Breakfast': 8288, 'Buzzer/wireless intercom': 16940, 'Carbon monoxide detector': 47069, 'Laptop friendly workspace': 43591, 'Internet': 44513, 'Indoor fireplace': 9285, 'First aid kit': 27468, 'Elevator in building': 6412, 'Pool': 6274, 'Free parking on premises': 23601, 'Gym': 7469, 'Hot tub': 6317, 'Wheelchair accessible': 4833, 'Doorman': 4757, 'Dog(s)': 5246, 'Cat(s)': 3582, 'Other pet(s)': 378, 'Lock on bedroom door': 17929, 'Pets live on this property': 9703, 'Private entrance': 7253, 'Hot water': 4255, 'Bed linens': 4162, 'Extra pillows and blankets': 3015, 'Coffee maker': 3548, 'Refrigerator': 4638, 'Dishes and silverware': 4243, 'Garden or backyard': 1128, 'Pets allowed': 10169, 'Safety card': 11490, '24-hour check-in': 18966, 'Self Check-In': 11022, 'Lockbox': 5726, 'Suitable for events': 4257, 'translation missing: en.hosting_amenity_49': 20360, 'Elevator': 10771, 'Microwave': 3902, 'Cooking basics': 3948, 'Oven': 3935, 'Stove': 4071, 'Smoking allowed': 3664, 'Outlet covers': 444, 'Bathtub': 3752, 'Dishwasher': 2307, 'Single level home': 517, 'Luggage dropoff allowed': 1631, 'Step-free access': 2044, 'Wide clearance to bed': 404, 'Accessible-height bed': 346, 'Wide doorway': 1050, 'Accessible-height toilet': 259, 'Wide entryway': 299, 'Hot water kettle': 173, 'Babysitter recommendations': 673, 'Pack ’n Play/travel crib': 1121, 'Keypad': 2992, 'Free parking on street': 77, 'Smart lock': 655, 'Wide hallway clearance': 472, 'Flat': 395, ' smooth pathway to front door': 395, 'Well-lit path to entrance': 769, 'Long term stays allowed': 1662, '': 555, 'Private living room': 2512, 'Children’s books and toys': 1124, 'Children’s dinnerware': 633, 'BBQ grill': 632, 'Patio or balcony': 1219, 'Host greets you': 1193, 'Smartlock': 786, 'High chair': 634, 'Ethernet connection': 690, 'Room-darkening shades': 1489, 'Changing table': 224, 'Stair gates': 299, 'Window guards': 612, 'Table corner guards': 88, 'Crib': 440, 'Other': 217, 'Private bathroom': 73, 'Doorman Entry': 453, 'Baby monitor': 132, 'Baby bath': 303, 'Fireplace guards': 217, 'Game console': 479, 'Firm mattress': 115, 'Pocket wifi': 217, 'Cleaning before checkout': 271, 'Handheld shower head': 136, 'Waterfront': 115, 'Ground floor access': 25, 'EV charger': 49, 'Fixed grab bars for shower & toilet': 65, 'Wide clearance to shower & toilet': 120, 'Beach essentials': 102, 'Beachfront': 33, 'Bathtub with shower chair': 34, 'Lake access': 18, 'Washer / Dryer': 28, 'Disabled parking spot': 34, 'Roll-in shower with chair': 3, 'Air purifier': 14, 'Ski in/Ski out': 13, 'Path to entrance lit at night': 27, 'Firm matress': 15, 'Paid parking off premises': 7, 'Flat smooth pathway to front door': 11, 'Grab-rails for shower and toilet': 2, 'Body soap': 1, 'Hand soap': 1, 'Bath towel': 1, 'Hand or paper towel': 1, 'Toilet paper': 1, 'Wide clearance to shower and toilet': 1}\n"
          ],
          "name": "stdout"
        }
      ]
    },
    {
      "cell_type": "code",
      "metadata": {
        "id": "NK1RK8ZHXfii",
        "colab_type": "code",
        "outputId": "49d55874-bcf7-4c4c-b9d8-9f8ecdb9d8f5",
        "colab": {
          "base_uri": "https://localhost:8080/",
          "height": 54
        }
      },
      "source": [
        "A = sorted(amen.items(), key = lambda item:item[1], reverse =True)\n",
        "print(A[:10])\n",
        "        \n",
        "    "
      ],
      "execution_count": 0,
      "outputs": [
        {
          "output_type": "stream",
          "text": [
            "[('Wireless Internet', 71042), ('Kitchen', 67311), ('Heating', 66860), ('Essentials', 63826), ('Smoke detector', 61555), ('Air conditioning', 55031), ('TV', 52309), ('Shampoo', 49341), ('Hangers', 49043), ('Carbon monoxide detector', 47069)]\n"
          ],
          "name": "stdout"
        }
      ]
    },
    {
      "cell_type": "code",
      "metadata": {
        "id": "ISn2XfFZZA8n",
        "colab_type": "code",
        "outputId": "4e11e8e5-bf0f-4851-fa3c-5d7171512c3b",
        "colab": {
          "base_uri": "https://localhost:8080/",
          "height": 34
        }
      },
      "source": [
        "B =A[:10]\n",
        "top_10_amenity = []\n",
        "for i in B:\n",
        "    top_10_amenity.append(i[0])\n",
        "print(top_10_amenity)"
      ],
      "execution_count": 0,
      "outputs": [
        {
          "output_type": "stream",
          "text": [
            "['Wireless Internet', 'Kitchen', 'Heating', 'Essentials', 'Smoke detector', 'Air conditioning', 'TV', 'Shampoo', 'Hangers', 'Carbon monoxide detector']\n"
          ],
          "name": "stdout"
        }
      ]
    },
    {
      "cell_type": "code",
      "metadata": {
        "id": "OTd5WKpBaM6E",
        "colab_type": "code",
        "outputId": "d0c96653-6a24-4980-d17f-29f227e950df",
        "colab": {
          "base_uri": "https://localhost:8080/",
          "height": 52
        }
      },
      "source": [
        "print(type(top_10_amenity[0]))\n",
        "print(top_10_amenity[0])"
      ],
      "execution_count": 0,
      "outputs": [
        {
          "output_type": "stream",
          "text": [
            "<class 'str'>\n",
            "Wireless Internet\n"
          ],
          "name": "stdout"
        }
      ]
    },
    {
      "cell_type": "markdown",
      "metadata": {
        "id": "KautAgwQpSou",
        "colab_type": "text"
      },
      "source": [
        "### **try to add values**"
      ]
    },
    {
      "cell_type": "code",
      "metadata": {
        "id": "8saE9X4VabZz",
        "colab_type": "code",
        "outputId": "408ee6a7-90b9-4b82-dd82-420ff4121b35",
        "colab": {
          "base_uri": "https://localhost:8080/",
          "height": 52
        }
      },
      "source": [
        "has_internet = []\n",
        "for i in d2.Amenity:\n",
        "    if top_10_amenity[0] in i:\n",
        "        has_internet.append(1)\n",
        "    else:\n",
        "        has_internet.append(0)\n",
        "print(len(has_internet))\n",
        "print(len(d2))"
      ],
      "execution_count": 0,
      "outputs": [
        {
          "output_type": "stream",
          "text": [
            "73849\n",
            "73849\n"
          ],
          "name": "stdout"
        }
      ]
    },
    {
      "cell_type": "markdown",
      "metadata": {
        "id": "wtLt4DZTpYCI",
        "colab_type": "text"
      },
      "source": [
        "## **Make new list with bin values**"
      ]
    },
    {
      "cell_type": "code",
      "metadata": {
        "id": "6utCn3wvi1_j",
        "colab_type": "code",
        "colab": {}
      },
      "source": [
        "AMEN = [[],[],[],[],[],\n",
        "        [],[],[],[],[]]\n",
        "for k in range(len(AMEN)):\n",
        "    for i in d2.Amenity:\n",
        "        if top_10_amenity[k] in i:\n",
        "            AMEN[k].append(1)\n",
        "        else:\n",
        "            AMEN[k].append(0)\n",
        "#print(AMEN)\n",
        "        "
      ],
      "execution_count": 0,
      "outputs": []
    },
    {
      "cell_type": "markdown",
      "metadata": {
        "id": "y_QTZq7xphcr",
        "colab_type": "text"
      },
      "source": [
        "## **Make it into dataframe**"
      ]
    },
    {
      "cell_type": "code",
      "metadata": {
        "id": "GcEt0MDSjeU7",
        "colab_type": "code",
        "outputId": "c350fa1a-d720-4b7f-f851-08f5bd457bee",
        "colab": {
          "base_uri": "https://localhost:8080/",
          "height": 122
        }
      },
      "source": [
        "has_amenity = pd.DataFrame(AMEN).T\n",
        "print(has_amenity.head())"
      ],
      "execution_count": 0,
      "outputs": [
        {
          "output_type": "stream",
          "text": [
            "   0  1  2  3  4  5  6  7  8  9\n",
            "0  1  1  1  1  0  1  0  0  0  0\n",
            "1  1  1  1  1  1  1  0  1  1  0\n",
            "2  1  1  1  1  1  1  1  1  1  1\n",
            "3  1  1  1  1  1  0  1  0  0  1\n",
            "4  1  1  1  1  1  1  1  1  0  1\n"
          ],
          "name": "stdout"
        }
      ]
    },
    {
      "cell_type": "markdown",
      "metadata": {
        "id": "0Lcn7i2Kpe4K",
        "colab_type": "text"
      },
      "source": [
        "## **Rename the dataframe**"
      ]
    },
    {
      "cell_type": "code",
      "metadata": {
        "id": "KW96i5m1mByy",
        "colab_type": "code",
        "outputId": "4deb99a0-9198-4ec7-a389-2d98e29330c5",
        "colab": {
          "base_uri": "https://localhost:8080/",
          "height": 204
        }
      },
      "source": [
        "has_amenity.rename(columns = {0:'has_internet', 1:'has_kitchen', 2:'has_heating', 3:'has_essentials', 4:'has_smoke_detector', 5:'has_aircon', 6:'has_tv', 7:'has_shampoo', 8:'has_hangers', 9:'has_cmd'}, inplace = True)\n",
        "has_amenity.reset_index(drop = True, inplace = True)\n",
        "has_amenity.tail()"
      ],
      "execution_count": 0,
      "outputs": [
        {
          "output_type": "execute_result",
          "data": {
            "text/html": [
              "<div>\n",
              "<style scoped>\n",
              "    .dataframe tbody tr th:only-of-type {\n",
              "        vertical-align: middle;\n",
              "    }\n",
              "\n",
              "    .dataframe tbody tr th {\n",
              "        vertical-align: top;\n",
              "    }\n",
              "\n",
              "    .dataframe thead th {\n",
              "        text-align: right;\n",
              "    }\n",
              "</style>\n",
              "<table border=\"1\" class=\"dataframe\">\n",
              "  <thead>\n",
              "    <tr style=\"text-align: right;\">\n",
              "      <th></th>\n",
              "      <th>has_internet</th>\n",
              "      <th>has_kitchen</th>\n",
              "      <th>has_heating</th>\n",
              "      <th>has_essentials</th>\n",
              "      <th>has_smoke_detector</th>\n",
              "      <th>has_aircon</th>\n",
              "      <th>has_tv</th>\n",
              "      <th>has_shampoo</th>\n",
              "      <th>has_hangers</th>\n",
              "      <th>has_cmd</th>\n",
              "    </tr>\n",
              "  </thead>\n",
              "  <tbody>\n",
              "    <tr>\n",
              "      <th>73844</th>\n",
              "      <td>0</td>\n",
              "      <td>0</td>\n",
              "      <td>0</td>\n",
              "      <td>0</td>\n",
              "      <td>0</td>\n",
              "      <td>0</td>\n",
              "      <td>0</td>\n",
              "      <td>0</td>\n",
              "      <td>0</td>\n",
              "      <td>0</td>\n",
              "    </tr>\n",
              "    <tr>\n",
              "      <th>73845</th>\n",
              "      <td>1</td>\n",
              "      <td>1</td>\n",
              "      <td>1</td>\n",
              "      <td>1</td>\n",
              "      <td>1</td>\n",
              "      <td>0</td>\n",
              "      <td>1</td>\n",
              "      <td>1</td>\n",
              "      <td>1</td>\n",
              "      <td>0</td>\n",
              "    </tr>\n",
              "    <tr>\n",
              "      <th>73846</th>\n",
              "      <td>1</td>\n",
              "      <td>1</td>\n",
              "      <td>1</td>\n",
              "      <td>1</td>\n",
              "      <td>1</td>\n",
              "      <td>1</td>\n",
              "      <td>1</td>\n",
              "      <td>1</td>\n",
              "      <td>1</td>\n",
              "      <td>1</td>\n",
              "    </tr>\n",
              "    <tr>\n",
              "      <th>73847</th>\n",
              "      <td>1</td>\n",
              "      <td>1</td>\n",
              "      <td>1</td>\n",
              "      <td>1</td>\n",
              "      <td>1</td>\n",
              "      <td>1</td>\n",
              "      <td>1</td>\n",
              "      <td>1</td>\n",
              "      <td>1</td>\n",
              "      <td>1</td>\n",
              "    </tr>\n",
              "    <tr>\n",
              "      <th>73848</th>\n",
              "      <td>1</td>\n",
              "      <td>1</td>\n",
              "      <td>1</td>\n",
              "      <td>1</td>\n",
              "      <td>1</td>\n",
              "      <td>0</td>\n",
              "      <td>1</td>\n",
              "      <td>1</td>\n",
              "      <td>1</td>\n",
              "      <td>1</td>\n",
              "    </tr>\n",
              "  </tbody>\n",
              "</table>\n",
              "</div>"
            ],
            "text/plain": [
              "       has_internet  has_kitchen  ...  has_hangers  has_cmd\n",
              "73844             0            0  ...            0        0\n",
              "73845             1            1  ...            1        0\n",
              "73846             1            1  ...            1        1\n",
              "73847             1            1  ...            1        1\n",
              "73848             1            1  ...            1        1\n",
              "\n",
              "[5 rows x 10 columns]"
            ]
          },
          "metadata": {
            "tags": []
          },
          "execution_count": 39
        }
      ]
    },
    {
      "cell_type": "code",
      "metadata": {
        "id": "xu7Bnvq5oRjE",
        "colab_type": "code",
        "colab": {}
      },
      "source": [
        "d2.head()"
      ],
      "execution_count": 0,
      "outputs": []
    },
    {
      "cell_type": "markdown",
      "metadata": {
        "id": "t6mSzV5VpkwL",
        "colab_type": "text"
      },
      "source": [
        "## **New data frame after concatenating with old one**"
      ]
    },
    {
      "cell_type": "code",
      "metadata": {
        "id": "Vy_gjzs8oUlE",
        "colab_type": "code",
        "colab": {}
      },
      "source": [
        "d3 = pd.concat([d2,has_amenity], axis =1)"
      ],
      "execution_count": 0,
      "outputs": []
    },
    {
      "cell_type": "code",
      "metadata": {
        "id": "KwMihgesrIWK",
        "colab_type": "code",
        "outputId": "af29c3e8-84b5-475f-fe44-77699ed316ff",
        "colab": {
          "base_uri": "https://localhost:8080/",
          "height": 479
        }
      },
      "source": [
        "d3.head()"
      ],
      "execution_count": 0,
      "outputs": [
        {
          "output_type": "execute_result",
          "data": {
            "text/html": [
              "<div>\n",
              "<style scoped>\n",
              "    .dataframe tbody tr th:only-of-type {\n",
              "        vertical-align: middle;\n",
              "    }\n",
              "\n",
              "    .dataframe tbody tr th {\n",
              "        vertical-align: top;\n",
              "    }\n",
              "\n",
              "    .dataframe thead th {\n",
              "        text-align: right;\n",
              "    }\n",
              "</style>\n",
              "<table border=\"1\" class=\"dataframe\">\n",
              "  <thead>\n",
              "    <tr style=\"text-align: right;\">\n",
              "      <th></th>\n",
              "      <th>id</th>\n",
              "      <th>log_price</th>\n",
              "      <th>property_type</th>\n",
              "      <th>room_type</th>\n",
              "      <th>accommodates</th>\n",
              "      <th>bathrooms</th>\n",
              "      <th>bed_type</th>\n",
              "      <th>cancellation_policy</th>\n",
              "      <th>cleaning_fee</th>\n",
              "      <th>city</th>\n",
              "      <th>host_has_profile_pic</th>\n",
              "      <th>host_identity_verified</th>\n",
              "      <th>host_response_rate</th>\n",
              "      <th>host_since</th>\n",
              "      <th>instant_bookable</th>\n",
              "      <th>number_of_reviews</th>\n",
              "      <th>review_scores_rating</th>\n",
              "      <th>bedrooms</th>\n",
              "      <th>beds</th>\n",
              "      <th>Amenity</th>\n",
              "      <th>has_cleaning_fee</th>\n",
              "      <th>City_idx</th>\n",
              "      <th>property</th>\n",
              "      <th>has_internet</th>\n",
              "      <th>has_kitchen</th>\n",
              "      <th>has_heating</th>\n",
              "      <th>has_essentials</th>\n",
              "      <th>has_smoke_detector</th>\n",
              "      <th>has_aircon</th>\n",
              "      <th>has_tv</th>\n",
              "      <th>has_shampoo</th>\n",
              "      <th>has_hangers</th>\n",
              "      <th>has_cmd</th>\n",
              "    </tr>\n",
              "  </thead>\n",
              "  <tbody>\n",
              "    <tr>\n",
              "      <th>0</th>\n",
              "      <td>6901257</td>\n",
              "      <td>5.010635</td>\n",
              "      <td>Apartment</td>\n",
              "      <td>Entire home/apt</td>\n",
              "      <td>3</td>\n",
              "      <td>1.0</td>\n",
              "      <td>Real Bed</td>\n",
              "      <td>strict</td>\n",
              "      <td>True</td>\n",
              "      <td>NYC</td>\n",
              "      <td>t</td>\n",
              "      <td>t</td>\n",
              "      <td>NaN</td>\n",
              "      <td>2012-03-26</td>\n",
              "      <td>f</td>\n",
              "      <td>2</td>\n",
              "      <td>100.0</td>\n",
              "      <td>1.0</td>\n",
              "      <td>1.0</td>\n",
              "      <td>[Wireless Internet, Air conditioning, Kitchen,...</td>\n",
              "      <td>1</td>\n",
              "      <td>0.0</td>\n",
              "      <td>Apartment</td>\n",
              "      <td>1</td>\n",
              "      <td>1</td>\n",
              "      <td>1</td>\n",
              "      <td>1</td>\n",
              "      <td>0</td>\n",
              "      <td>1</td>\n",
              "      <td>0</td>\n",
              "      <td>0</td>\n",
              "      <td>0</td>\n",
              "      <td>0</td>\n",
              "    </tr>\n",
              "    <tr>\n",
              "      <th>1</th>\n",
              "      <td>6304928</td>\n",
              "      <td>5.129899</td>\n",
              "      <td>Apartment</td>\n",
              "      <td>Entire home/apt</td>\n",
              "      <td>7</td>\n",
              "      <td>1.0</td>\n",
              "      <td>Real Bed</td>\n",
              "      <td>strict</td>\n",
              "      <td>True</td>\n",
              "      <td>NYC</td>\n",
              "      <td>t</td>\n",
              "      <td>f</td>\n",
              "      <td>100%</td>\n",
              "      <td>2017-06-19</td>\n",
              "      <td>t</td>\n",
              "      <td>6</td>\n",
              "      <td>93.0</td>\n",
              "      <td>3.0</td>\n",
              "      <td>3.0</td>\n",
              "      <td>[Wireless Internet, Air conditioning, Kitchen,...</td>\n",
              "      <td>1</td>\n",
              "      <td>0.0</td>\n",
              "      <td>Apartment</td>\n",
              "      <td>1</td>\n",
              "      <td>1</td>\n",
              "      <td>1</td>\n",
              "      <td>1</td>\n",
              "      <td>1</td>\n",
              "      <td>1</td>\n",
              "      <td>0</td>\n",
              "      <td>1</td>\n",
              "      <td>1</td>\n",
              "      <td>0</td>\n",
              "    </tr>\n",
              "    <tr>\n",
              "      <th>2</th>\n",
              "      <td>7919400</td>\n",
              "      <td>4.976734</td>\n",
              "      <td>Apartment</td>\n",
              "      <td>Entire home/apt</td>\n",
              "      <td>5</td>\n",
              "      <td>1.0</td>\n",
              "      <td>Real Bed</td>\n",
              "      <td>moderate</td>\n",
              "      <td>True</td>\n",
              "      <td>NYC</td>\n",
              "      <td>t</td>\n",
              "      <td>t</td>\n",
              "      <td>100%</td>\n",
              "      <td>2016-10-25</td>\n",
              "      <td>t</td>\n",
              "      <td>10</td>\n",
              "      <td>92.0</td>\n",
              "      <td>1.0</td>\n",
              "      <td>3.0</td>\n",
              "      <td>[TV, Cable TV, Wireless Internet, Air conditio...</td>\n",
              "      <td>1</td>\n",
              "      <td>0.0</td>\n",
              "      <td>Apartment</td>\n",
              "      <td>1</td>\n",
              "      <td>1</td>\n",
              "      <td>1</td>\n",
              "      <td>1</td>\n",
              "      <td>1</td>\n",
              "      <td>1</td>\n",
              "      <td>1</td>\n",
              "      <td>1</td>\n",
              "      <td>1</td>\n",
              "      <td>1</td>\n",
              "    </tr>\n",
              "    <tr>\n",
              "      <th>3</th>\n",
              "      <td>13418779</td>\n",
              "      <td>6.620073</td>\n",
              "      <td>House</td>\n",
              "      <td>Entire home/apt</td>\n",
              "      <td>4</td>\n",
              "      <td>1.0</td>\n",
              "      <td>Real Bed</td>\n",
              "      <td>flexible</td>\n",
              "      <td>True</td>\n",
              "      <td>SF</td>\n",
              "      <td>t</td>\n",
              "      <td>t</td>\n",
              "      <td>NaN</td>\n",
              "      <td>2015-04-19</td>\n",
              "      <td>f</td>\n",
              "      <td>0</td>\n",
              "      <td>NaN</td>\n",
              "      <td>2.0</td>\n",
              "      <td>2.0</td>\n",
              "      <td>[TV, Cable TV, Internet, Wireless Internet, Ki...</td>\n",
              "      <td>1</td>\n",
              "      <td>1.0</td>\n",
              "      <td>House</td>\n",
              "      <td>1</td>\n",
              "      <td>1</td>\n",
              "      <td>1</td>\n",
              "      <td>1</td>\n",
              "      <td>1</td>\n",
              "      <td>0</td>\n",
              "      <td>1</td>\n",
              "      <td>0</td>\n",
              "      <td>0</td>\n",
              "      <td>1</td>\n",
              "    </tr>\n",
              "    <tr>\n",
              "      <th>4</th>\n",
              "      <td>3808709</td>\n",
              "      <td>4.744932</td>\n",
              "      <td>Apartment</td>\n",
              "      <td>Entire home/apt</td>\n",
              "      <td>2</td>\n",
              "      <td>1.0</td>\n",
              "      <td>Real Bed</td>\n",
              "      <td>moderate</td>\n",
              "      <td>True</td>\n",
              "      <td>DC</td>\n",
              "      <td>t</td>\n",
              "      <td>t</td>\n",
              "      <td>100%</td>\n",
              "      <td>2015-03-01</td>\n",
              "      <td>t</td>\n",
              "      <td>4</td>\n",
              "      <td>40.0</td>\n",
              "      <td>0.0</td>\n",
              "      <td>1.0</td>\n",
              "      <td>[TV, Internet, Wireless Internet, Air conditio...</td>\n",
              "      <td>1</td>\n",
              "      <td>2.0</td>\n",
              "      <td>Apartment</td>\n",
              "      <td>1</td>\n",
              "      <td>1</td>\n",
              "      <td>1</td>\n",
              "      <td>1</td>\n",
              "      <td>1</td>\n",
              "      <td>1</td>\n",
              "      <td>1</td>\n",
              "      <td>1</td>\n",
              "      <td>0</td>\n",
              "      <td>1</td>\n",
              "    </tr>\n",
              "  </tbody>\n",
              "</table>\n",
              "</div>"
            ],
            "text/plain": [
              "         id  log_price property_type  ... has_shampoo  has_hangers  has_cmd\n",
              "0   6901257   5.010635     Apartment  ...           0            0        0\n",
              "1   6304928   5.129899     Apartment  ...           1            1        0\n",
              "2   7919400   4.976734     Apartment  ...           1            1        1\n",
              "3  13418779   6.620073         House  ...           0            0        1\n",
              "4   3808709   4.744932     Apartment  ...           1            0        1\n",
              "\n",
              "[5 rows x 33 columns]"
            ]
          },
          "metadata": {
            "tags": []
          },
          "execution_count": 41
        }
      ]
    },
    {
      "cell_type": "markdown",
      "metadata": {
        "id": "SMNqnuI51HBA",
        "colab_type": "text"
      },
      "source": [
        "## **Remove records with log_price as 0**"
      ]
    },
    {
      "cell_type": "code",
      "metadata": {
        "id": "HtIqyxKfZt1v",
        "colab_type": "code",
        "colab": {}
      },
      "source": [
        "d4 = d3[d3.log_price != 0 ]\n",
        "#d4.head()"
      ],
      "execution_count": 0,
      "outputs": []
    },
    {
      "cell_type": "markdown",
      "metadata": {
        "id": "PCLtONX0Pwhy",
        "colab_type": "text"
      },
      "source": [
        "## **Use groupby to fill the missing values in 'review_scores_rating'**"
      ]
    },
    {
      "cell_type": "code",
      "metadata": {
        "id": "UgEeMWaoZ3ck",
        "colab_type": "code",
        "outputId": "f9e6d241-ebd6-4e49-e56a-5cf875ed543f",
        "colab": {
          "base_uri": "https://localhost:8080/",
          "height": 699
        }
      },
      "source": [
        "d4.review_scores_rating.fillna(d4.groupby([ 'cancellation_policy'])\\\n",
        "                               ['review_scores_rating'].transform('median'),\\\n",
        "                               inplace = True)\n",
        "d4.isnull().sum()"
      ],
      "execution_count": 0,
      "outputs": [
        {
          "output_type": "stream",
          "text": [
            "/usr/local/lib/python3.6/dist-packages/pandas/core/generic.py:6130: SettingWithCopyWarning: \n",
            "A value is trying to be set on a copy of a slice from a DataFrame\n",
            "\n",
            "See the caveats in the documentation: http://pandas.pydata.org/pandas-docs/stable/indexing.html#indexing-view-versus-copy\n",
            "  self._update_inplace(new_data)\n"
          ],
          "name": "stderr"
        },
        {
          "output_type": "execute_result",
          "data": {
            "text/plain": [
              "id                            0\n",
              "log_price                     0\n",
              "property_type                 0\n",
              "room_type                     0\n",
              "accommodates                  0\n",
              "bathrooms                   152\n",
              "bed_type                      0\n",
              "cancellation_policy           0\n",
              "cleaning_fee                  0\n",
              "city                          0\n",
              "host_has_profile_pic          0\n",
              "host_identity_verified        0\n",
              "host_response_rate        18055\n",
              "host_since                    0\n",
              "instant_bookable              0\n",
              "number_of_reviews             0\n",
              "review_scores_rating          0\n",
              "bedrooms                     69\n",
              "beds                         70\n",
              "Amenity                       0\n",
              "has_cleaning_fee              0\n",
              "City_idx                      0\n",
              "property                      0\n",
              "has_internet                  0\n",
              "has_kitchen                   0\n",
              "has_heating                   0\n",
              "has_essentials                0\n",
              "has_smoke_detector            0\n",
              "has_aircon                    0\n",
              "has_tv                        0\n",
              "has_shampoo                   0\n",
              "has_hangers                   0\n",
              "has_cmd                       0\n",
              "dtype: int64"
            ]
          },
          "metadata": {
            "tags": []
          },
          "execution_count": 43
        }
      ]
    },
    {
      "cell_type": "markdown",
      "metadata": {
        "id": "i9jKFT4KP2-A",
        "colab_type": "text"
      },
      "source": [
        "## **Transform the 3 columns for imputation in target column 'host_response_rate'**"
      ]
    },
    {
      "cell_type": "code",
      "metadata": {
        "id": "z-FdMFG_Ox8e",
        "colab_type": "code",
        "outputId": "b3a6a4ab-7dda-48eb-9d29-96bb9e0e6b1b",
        "colab": {
          "base_uri": "https://localhost:8080/",
          "height": 314
        }
      },
      "source": [
        "print(d4.host_has_profile_pic.unique())\n",
        "d4.host_has_profile_pic.loc[d4.host_has_profile_pic==d4.host_has_profile_pic.unique()[0]] = 0\n",
        "d4.host_has_profile_pic.loc[d4.host_has_profile_pic==d4.host_has_profile_pic.unique()[1]] = 1\n",
        "print(d4.host_has_profile_pic.unique())"
      ],
      "execution_count": 0,
      "outputs": [
        {
          "output_type": "stream",
          "text": [
            "['t' 'f']\n"
          ],
          "name": "stdout"
        },
        {
          "output_type": "stream",
          "text": [
            "/usr/local/lib/python3.6/dist-packages/pandas/core/indexing.py:190: SettingWithCopyWarning: \n",
            "A value is trying to be set on a copy of a slice from a DataFrame\n",
            "\n",
            "See the caveats in the documentation: http://pandas.pydata.org/pandas-docs/stable/indexing.html#indexing-view-versus-copy\n",
            "  self._setitem_with_indexer(indexer, value)\n",
            "/usr/local/lib/python3.6/dist-packages/ipykernel_launcher.py:2: SettingWithCopyWarning: \n",
            "A value is trying to be set on a copy of a slice from a DataFrame\n",
            "\n",
            "See the caveats in the documentation: http://pandas.pydata.org/pandas-docs/stable/indexing.html#indexing-view-versus-copy\n",
            "  \n"
          ],
          "name": "stderr"
        },
        {
          "output_type": "stream",
          "text": [
            "[0 1]\n"
          ],
          "name": "stdout"
        },
        {
          "output_type": "stream",
          "text": [
            "/usr/local/lib/python3.6/dist-packages/ipykernel_launcher.py:3: SettingWithCopyWarning: \n",
            "A value is trying to be set on a copy of a slice from a DataFrame\n",
            "\n",
            "See the caveats in the documentation: http://pandas.pydata.org/pandas-docs/stable/indexing.html#indexing-view-versus-copy\n",
            "  This is separate from the ipykernel package so we can avoid doing imports until\n"
          ],
          "name": "stderr"
        }
      ]
    },
    {
      "cell_type": "code",
      "metadata": {
        "id": "8GoU3zFkOye7",
        "colab_type": "code",
        "outputId": "d5805b1d-794e-40da-b08c-88fd9884fc3b",
        "colab": {
          "base_uri": "https://localhost:8080/",
          "height": 314
        }
      },
      "source": [
        "print(d4.host_identity_verified.unique())\n",
        "d4.host_identity_verified.loc[d4.host_identity_verified==d4.host_identity_verified.unique()[0]] = 0\n",
        "d4.host_identity_verified.loc[d4.host_identity_verified==d4.host_identity_verified.unique()[1]] = 1\n",
        "print(d4.host_identity_verified.unique())"
      ],
      "execution_count": 0,
      "outputs": [
        {
          "output_type": "stream",
          "text": [
            "['t' 'f']\n"
          ],
          "name": "stdout"
        },
        {
          "output_type": "stream",
          "text": [
            "/usr/local/lib/python3.6/dist-packages/pandas/core/indexing.py:190: SettingWithCopyWarning: \n",
            "A value is trying to be set on a copy of a slice from a DataFrame\n",
            "\n",
            "See the caveats in the documentation: http://pandas.pydata.org/pandas-docs/stable/indexing.html#indexing-view-versus-copy\n",
            "  self._setitem_with_indexer(indexer, value)\n",
            "/usr/local/lib/python3.6/dist-packages/ipykernel_launcher.py:2: SettingWithCopyWarning: \n",
            "A value is trying to be set on a copy of a slice from a DataFrame\n",
            "\n",
            "See the caveats in the documentation: http://pandas.pydata.org/pandas-docs/stable/indexing.html#indexing-view-versus-copy\n",
            "  \n"
          ],
          "name": "stderr"
        },
        {
          "output_type": "stream",
          "text": [
            "[0 1]\n"
          ],
          "name": "stdout"
        },
        {
          "output_type": "stream",
          "text": [
            "/usr/local/lib/python3.6/dist-packages/ipykernel_launcher.py:3: SettingWithCopyWarning: \n",
            "A value is trying to be set on a copy of a slice from a DataFrame\n",
            "\n",
            "See the caveats in the documentation: http://pandas.pydata.org/pandas-docs/stable/indexing.html#indexing-view-versus-copy\n",
            "  This is separate from the ipykernel package so we can avoid doing imports until\n"
          ],
          "name": "stderr"
        }
      ]
    },
    {
      "cell_type": "code",
      "metadata": {
        "id": "wmknyzSsOz3V",
        "colab_type": "code",
        "outputId": "db3bf6d9-5358-4054-ef09-13a9fd14bf2a",
        "colab": {
          "base_uri": "https://localhost:8080/",
          "height": 804
        }
      },
      "source": [
        "d4.host_response_rate = d4.host_response_rate.str.strip(\"%\").astype(float)/100;\n",
        "\n",
        "d4.host_response_rate.fillna(d4.groupby(\n",
        "    [ 'host_has_profile_pic', 'host_identity_verified'])\\\n",
        "                             ['host_response_rate'].transform('median'),\\\n",
        "                             inplace = True)\n",
        "d4.isnull().sum()"
      ],
      "execution_count": 0,
      "outputs": [
        {
          "output_type": "stream",
          "text": [
            "/usr/local/lib/python3.6/dist-packages/pandas/core/generic.py:5096: SettingWithCopyWarning: \n",
            "A value is trying to be set on a copy of a slice from a DataFrame.\n",
            "Try using .loc[row_indexer,col_indexer] = value instead\n",
            "\n",
            "See the caveats in the documentation: http://pandas.pydata.org/pandas-docs/stable/indexing.html#indexing-view-versus-copy\n",
            "  self[name] = value\n",
            "/usr/local/lib/python3.6/dist-packages/pandas/core/generic.py:6130: SettingWithCopyWarning: \n",
            "A value is trying to be set on a copy of a slice from a DataFrame\n",
            "\n",
            "See the caveats in the documentation: http://pandas.pydata.org/pandas-docs/stable/indexing.html#indexing-view-versus-copy\n",
            "  self._update_inplace(new_data)\n"
          ],
          "name": "stderr"
        },
        {
          "output_type": "execute_result",
          "data": {
            "text/plain": [
              "id                          0\n",
              "log_price                   0\n",
              "property_type               0\n",
              "room_type                   0\n",
              "accommodates                0\n",
              "bathrooms                 152\n",
              "bed_type                    0\n",
              "cancellation_policy         0\n",
              "cleaning_fee                0\n",
              "city                        0\n",
              "host_has_profile_pic        0\n",
              "host_identity_verified      0\n",
              "host_response_rate          0\n",
              "host_since                  0\n",
              "instant_bookable            0\n",
              "number_of_reviews           0\n",
              "review_scores_rating        0\n",
              "bedrooms                   69\n",
              "beds                       70\n",
              "Amenity                     0\n",
              "has_cleaning_fee            0\n",
              "City_idx                    0\n",
              "property                    0\n",
              "has_internet                0\n",
              "has_kitchen                 0\n",
              "has_heating                 0\n",
              "has_essentials              0\n",
              "has_smoke_detector          0\n",
              "has_aircon                  0\n",
              "has_tv                      0\n",
              "has_shampoo                 0\n",
              "has_hangers                 0\n",
              "has_cmd                     0\n",
              "dtype: int64"
            ]
          },
          "metadata": {
            "tags": []
          },
          "execution_count": 46
        }
      ]
    },
    {
      "cell_type": "markdown",
      "metadata": {
        "id": "CVeh_X84QA5Y",
        "colab_type": "text"
      },
      "source": [
        "## **Imputate the rest 3 columns.**"
      ]
    },
    {
      "cell_type": "code",
      "metadata": {
        "id": "ToOSbd2yO4cI",
        "colab_type": "code",
        "outputId": "d0e6f072-2ec6-4078-cc6c-4632978e928c",
        "colab": {
          "base_uri": "https://localhost:8080/",
          "height": 122
        }
      },
      "source": [
        "d4.bathrooms.fillna(d4.bathrooms.mode()[0],inplace = True)\n",
        "d4.bedrooms.fillna(d4.bedrooms.mode()[0],inplace = True)\n",
        "d4.beds.fillna(d4.beds.mode()[0],inplace = True)\n",
        "d4.isnull().any().sum()"
      ],
      "execution_count": 0,
      "outputs": [
        {
          "output_type": "stream",
          "text": [
            "/usr/local/lib/python3.6/dist-packages/pandas/core/generic.py:6130: SettingWithCopyWarning: \n",
            "A value is trying to be set on a copy of a slice from a DataFrame\n",
            "\n",
            "See the caveats in the documentation: http://pandas.pydata.org/pandas-docs/stable/indexing.html#indexing-view-versus-copy\n",
            "  self._update_inplace(new_data)\n"
          ],
          "name": "stderr"
        },
        {
          "output_type": "execute_result",
          "data": {
            "text/plain": [
              "0"
            ]
          },
          "metadata": {
            "tags": []
          },
          "execution_count": 50
        }
      ]
    },
    {
      "cell_type": "code",
      "metadata": {
        "id": "2eugDBEpPu6x",
        "colab_type": "code",
        "colab": {}
      },
      "source": [
        ""
      ],
      "execution_count": 0,
      "outputs": []
    },
    {
      "cell_type": "markdown",
      "metadata": {
        "id": "LQtERml5ppnx",
        "colab_type": "text"
      },
      "source": [
        "# **This should have work↓**"
      ]
    },
    {
      "cell_type": "code",
      "metadata": {
        "id": "JvbsJq9Qb9WG",
        "colab_type": "code",
        "outputId": "6cfa2c08-24b6-48bf-e51e-7f7cd18abce1",
        "colab": {
          "base_uri": "https://localhost:8080/",
          "height": 791
        }
      },
      "source": [
        "has_amenity = pd.DataFrame(\n",
        "    {'has_internet':list(range(73849)), 'has_kitchen': list(range(73849)),'has_heating': list(range(73849)),'has_essentials': list(range(73849)),\n",
        "     'has_smoke_detector':list(range(73849)), 'has_aircon':list(range(73849)), 'has_tv':list(range(73849)), 'has_shampoo':list(range(73849)), 'has_hangers':list(range(73849)), 'has_cmd':list(range(73849))\n",
        "                           })\n",
        "def add_vals(df):\n",
        "    for i in range(len(df.columns.values)):\n",
        "        col = df.columns.values[i]\n",
        "        for j in range(len(d2.Amenity)):\n",
        "            if top_10_amenity[i] in d2.Amenity[j]:\n",
        "                df.at[j,col] = 1\n",
        "            else:\n",
        "                df.at[j,col] = 0\n",
        "                \n",
        "add_vals(has_amenity)\n",
        "print(has_amenity.head())"
      ],
      "execution_count": 0,
      "outputs": [
        {
          "output_type": "error",
          "ename": "KeyError",
          "evalue": "ignored",
          "traceback": [
            "\u001b[0;31m---------------------------------------------------------------------------\u001b[0m",
            "\u001b[0;31mKeyError\u001b[0m                                  Traceback (most recent call last)",
            "\u001b[0;32m<ipython-input-55-21482aea5f22>\u001b[0m in \u001b[0;36m<module>\u001b[0;34m()\u001b[0m\n\u001b[1;32m     12\u001b[0m                 \u001b[0mdf\u001b[0m\u001b[0;34m.\u001b[0m\u001b[0mat\u001b[0m\u001b[0;34m[\u001b[0m\u001b[0mj\u001b[0m\u001b[0;34m,\u001b[0m\u001b[0mcol\u001b[0m\u001b[0;34m]\u001b[0m \u001b[0;34m=\u001b[0m \u001b[0;36m0\u001b[0m\u001b[0;34m\u001b[0m\u001b[0;34m\u001b[0m\u001b[0m\n\u001b[1;32m     13\u001b[0m \u001b[0;34m\u001b[0m\u001b[0m\n\u001b[0;32m---> 14\u001b[0;31m \u001b[0madd_vals\u001b[0m\u001b[0;34m(\u001b[0m\u001b[0mhas_amenity\u001b[0m\u001b[0;34m)\u001b[0m\u001b[0;34m\u001b[0m\u001b[0;34m\u001b[0m\u001b[0m\n\u001b[0m\u001b[1;32m     15\u001b[0m \u001b[0mprint\u001b[0m\u001b[0;34m(\u001b[0m\u001b[0mhas_amenity\u001b[0m\u001b[0;34m.\u001b[0m\u001b[0mhead\u001b[0m\u001b[0;34m(\u001b[0m\u001b[0;34m)\u001b[0m\u001b[0;34m)\u001b[0m\u001b[0;34m\u001b[0m\u001b[0;34m\u001b[0m\u001b[0m\n",
            "\u001b[0;32m<ipython-input-55-21482aea5f22>\u001b[0m in \u001b[0;36madd_vals\u001b[0;34m(df)\u001b[0m\n\u001b[1;32m      7\u001b[0m         \u001b[0mcol\u001b[0m \u001b[0;34m=\u001b[0m \u001b[0mdf\u001b[0m\u001b[0;34m.\u001b[0m\u001b[0mcolumns\u001b[0m\u001b[0;34m.\u001b[0m\u001b[0mvalues\u001b[0m\u001b[0;34m[\u001b[0m\u001b[0mi\u001b[0m\u001b[0;34m]\u001b[0m\u001b[0;34m\u001b[0m\u001b[0;34m\u001b[0m\u001b[0m\n\u001b[1;32m      8\u001b[0m         \u001b[0;32mfor\u001b[0m \u001b[0mj\u001b[0m \u001b[0;32min\u001b[0m \u001b[0mrange\u001b[0m\u001b[0;34m(\u001b[0m\u001b[0mlen\u001b[0m\u001b[0;34m(\u001b[0m\u001b[0md2\u001b[0m\u001b[0;34m.\u001b[0m\u001b[0mAmenity\u001b[0m\u001b[0;34m)\u001b[0m\u001b[0;34m)\u001b[0m\u001b[0;34m:\u001b[0m\u001b[0;34m\u001b[0m\u001b[0;34m\u001b[0m\u001b[0m\n\u001b[0;32m----> 9\u001b[0;31m             \u001b[0;32mif\u001b[0m \u001b[0mtop_10_amenity\u001b[0m\u001b[0;34m[\u001b[0m\u001b[0mi\u001b[0m\u001b[0;34m]\u001b[0m \u001b[0;32min\u001b[0m \u001b[0md2\u001b[0m\u001b[0;34m.\u001b[0m\u001b[0mAmenity\u001b[0m\u001b[0;34m[\u001b[0m\u001b[0mj\u001b[0m\u001b[0;34m]\u001b[0m\u001b[0;34m:\u001b[0m\u001b[0;34m\u001b[0m\u001b[0;34m\u001b[0m\u001b[0m\n\u001b[0m\u001b[1;32m     10\u001b[0m                 \u001b[0mdf\u001b[0m\u001b[0;34m.\u001b[0m\u001b[0mat\u001b[0m\u001b[0;34m[\u001b[0m\u001b[0mj\u001b[0m\u001b[0;34m,\u001b[0m\u001b[0mcol\u001b[0m\u001b[0;34m]\u001b[0m \u001b[0;34m=\u001b[0m \u001b[0;36m1\u001b[0m\u001b[0;34m\u001b[0m\u001b[0;34m\u001b[0m\u001b[0m\n\u001b[1;32m     11\u001b[0m             \u001b[0;32melse\u001b[0m\u001b[0;34m:\u001b[0m\u001b[0;34m\u001b[0m\u001b[0;34m\u001b[0m\u001b[0m\n",
            "\u001b[0;32m/usr/local/lib/python3.6/dist-packages/pandas/core/series.py\u001b[0m in \u001b[0;36m__getitem__\u001b[0;34m(self, key)\u001b[0m\n\u001b[1;32m    866\u001b[0m         \u001b[0mkey\u001b[0m \u001b[0;34m=\u001b[0m \u001b[0mcom\u001b[0m\u001b[0;34m.\u001b[0m\u001b[0mapply_if_callable\u001b[0m\u001b[0;34m(\u001b[0m\u001b[0mkey\u001b[0m\u001b[0;34m,\u001b[0m \u001b[0mself\u001b[0m\u001b[0;34m)\u001b[0m\u001b[0;34m\u001b[0m\u001b[0;34m\u001b[0m\u001b[0m\n\u001b[1;32m    867\u001b[0m         \u001b[0;32mtry\u001b[0m\u001b[0;34m:\u001b[0m\u001b[0;34m\u001b[0m\u001b[0;34m\u001b[0m\u001b[0m\n\u001b[0;32m--> 868\u001b[0;31m             \u001b[0mresult\u001b[0m \u001b[0;34m=\u001b[0m \u001b[0mself\u001b[0m\u001b[0;34m.\u001b[0m\u001b[0mindex\u001b[0m\u001b[0;34m.\u001b[0m\u001b[0mget_value\u001b[0m\u001b[0;34m(\u001b[0m\u001b[0mself\u001b[0m\u001b[0;34m,\u001b[0m \u001b[0mkey\u001b[0m\u001b[0;34m)\u001b[0m\u001b[0;34m\u001b[0m\u001b[0;34m\u001b[0m\u001b[0m\n\u001b[0m\u001b[1;32m    869\u001b[0m \u001b[0;34m\u001b[0m\u001b[0m\n\u001b[1;32m    870\u001b[0m             \u001b[0;32mif\u001b[0m \u001b[0;32mnot\u001b[0m \u001b[0mis_scalar\u001b[0m\u001b[0;34m(\u001b[0m\u001b[0mresult\u001b[0m\u001b[0;34m)\u001b[0m\u001b[0;34m:\u001b[0m\u001b[0;34m\u001b[0m\u001b[0;34m\u001b[0m\u001b[0m\n",
            "\u001b[0;32m/usr/local/lib/python3.6/dist-packages/pandas/core/indexes/base.py\u001b[0m in \u001b[0;36mget_value\u001b[0;34m(self, series, key)\u001b[0m\n\u001b[1;32m   4373\u001b[0m         \u001b[0;32mtry\u001b[0m\u001b[0;34m:\u001b[0m\u001b[0;34m\u001b[0m\u001b[0;34m\u001b[0m\u001b[0m\n\u001b[1;32m   4374\u001b[0m             return self._engine.get_value(s, k,\n\u001b[0;32m-> 4375\u001b[0;31m                                           tz=getattr(series.dtype, 'tz', None))\n\u001b[0m\u001b[1;32m   4376\u001b[0m         \u001b[0;32mexcept\u001b[0m \u001b[0mKeyError\u001b[0m \u001b[0;32mas\u001b[0m \u001b[0me1\u001b[0m\u001b[0;34m:\u001b[0m\u001b[0;34m\u001b[0m\u001b[0;34m\u001b[0m\u001b[0m\n\u001b[1;32m   4377\u001b[0m             \u001b[0;32mif\u001b[0m \u001b[0mlen\u001b[0m\u001b[0;34m(\u001b[0m\u001b[0mself\u001b[0m\u001b[0;34m)\u001b[0m \u001b[0;34m>\u001b[0m \u001b[0;36m0\u001b[0m \u001b[0;32mand\u001b[0m \u001b[0;34m(\u001b[0m\u001b[0mself\u001b[0m\u001b[0;34m.\u001b[0m\u001b[0mholds_integer\u001b[0m\u001b[0;34m(\u001b[0m\u001b[0;34m)\u001b[0m \u001b[0;32mor\u001b[0m \u001b[0mself\u001b[0m\u001b[0;34m.\u001b[0m\u001b[0mis_boolean\u001b[0m\u001b[0;34m(\u001b[0m\u001b[0;34m)\u001b[0m\u001b[0;34m)\u001b[0m\u001b[0;34m:\u001b[0m\u001b[0;34m\u001b[0m\u001b[0;34m\u001b[0m\u001b[0m\n",
            "\u001b[0;32mpandas/_libs/index.pyx\u001b[0m in \u001b[0;36mpandas._libs.index.IndexEngine.get_value\u001b[0;34m()\u001b[0m\n",
            "\u001b[0;32mpandas/_libs/index.pyx\u001b[0m in \u001b[0;36mpandas._libs.index.IndexEngine.get_value\u001b[0;34m()\u001b[0m\n",
            "\u001b[0;32mpandas/_libs/index.pyx\u001b[0m in \u001b[0;36mpandas._libs.index.IndexEngine.get_loc\u001b[0;34m()\u001b[0m\n",
            "\u001b[0;32mpandas/_libs/hashtable_class_helper.pxi\u001b[0m in \u001b[0;36mpandas._libs.hashtable.Int64HashTable.get_item\u001b[0;34m()\u001b[0m\n",
            "\u001b[0;32mpandas/_libs/hashtable_class_helper.pxi\u001b[0m in \u001b[0;36mpandas._libs.hashtable.Int64HashTable.get_item\u001b[0;34m()\u001b[0m\n",
            "\u001b[0;31mKeyError\u001b[0m: 92"
          ]
        }
      ]
    },
    {
      "cell_type": "markdown",
      "metadata": {
        "id": "OynnfyfMXMzy",
        "colab_type": "text"
      },
      "source": [
        "## **Save it as csv.file**"
      ]
    },
    {
      "cell_type": "code",
      "metadata": {
        "id": "YSqd07NWmgTN",
        "colab_type": "code",
        "colab": {}
      },
      "source": [
        "from google.colab import files\n",
        "\n",
        "d3.to_csv('df.csv',index = False)\n",
        "files.download('df.csv')"
      ],
      "execution_count": 0,
      "outputs": []
    },
    {
      "cell_type": "markdown",
      "metadata": {
        "id": "w8lozQk7kFw0",
        "colab_type": "text"
      },
      "source": [
        "## **Fill the null value in column 'review_scores_rating' using groupby**"
      ]
    },
    {
      "cell_type": "code",
      "metadata": {
        "id": "gmrma2eXbga8",
        "colab_type": "code",
        "outputId": "f9c4396c-7c3e-44a4-fab2-8775f2429429",
        "colab": {
          "base_uri": "https://localhost:8080/"
        }
      },
      "source": [
        "'''\n",
        "d2 = d1.copy()\n",
        "d2.review_scores_rating.fillna(d2.groupby(['room_type', 'property_type', 'cleaning_fee', 'cancellation_policy'])['review_scores_rating'].transform('median'),inplace = True)\n",
        "d2.isnull().sum()\n",
        "d2.review_scores_rating.fillna(d2.groupby(['room_type', 'property_type'])['review_scores_rating'].transform('median'),inplace = True)\n",
        "d2.isnull().sum()\n",
        "'''"
      ],
      "execution_count": 0,
      "outputs": [
        {
          "output_type": "execute_result",
          "data": {
            "text/plain": [
              "id                            0\n",
              "log_price                     0\n",
              "property_type                 0\n",
              "room_type                     0\n",
              "accommodates                  0\n",
              "bathrooms                   200\n",
              "bed_type                      0\n",
              "cancellation_policy           0\n",
              "cleaning_fee                  0\n",
              "city                          0\n",
              "host_has_profile_pic        188\n",
              "host_identity_verified      188\n",
              "host_response_rate        18299\n",
              "host_since                  188\n",
              "instant_bookable              0\n",
              "last_review               15827\n",
              "number_of_reviews             0\n",
              "review_scores_rating         33\n",
              "bedrooms                     91\n",
              "beds                        131\n",
              "Amenity                       0\n",
              "has_cleaning_fee              0\n",
              "dtype: int64"
            ]
          },
          "metadata": {
            "tags": []
          },
          "execution_count": 42
        }
      ]
    },
    {
      "cell_type": "markdown",
      "metadata": {
        "id": "PogEuXhPSr61",
        "colab_type": "text"
      },
      "source": [
        "# **Word Cloud**"
      ]
    },
    {
      "cell_type": "code",
      "metadata": {
        "id": "6Ka2B81qSver",
        "colab_type": "code",
        "colab": {}
      },
      "source": [
        "import numpy as np\n",
        "import pandas as pd\n",
        "from os import path\n",
        "from PIL import Image\n",
        "from wordcloud import WordCloud, STOPWORDS, ImageColorGenerator\n",
        "import matplotlib.pyplot as plt\n",
        "%matplotlib inline"
      ],
      "execution_count": 0,
      "outputs": []
    },
    {
      "cell_type": "code",
      "metadata": {
        "id": "6udGO5zRHbe6",
        "colab_type": "code",
        "outputId": "31adcc79-5b68-4e69-a1f3-b6bedd876f6d",
        "colab": {
          "base_uri": "https://localhost:8080/",
          "height": 479
        }
      },
      "source": [
        "d3.head()"
      ],
      "execution_count": 0,
      "outputs": [
        {
          "output_type": "execute_result",
          "data": {
            "text/html": [
              "<div>\n",
              "<style scoped>\n",
              "    .dataframe tbody tr th:only-of-type {\n",
              "        vertical-align: middle;\n",
              "    }\n",
              "\n",
              "    .dataframe tbody tr th {\n",
              "        vertical-align: top;\n",
              "    }\n",
              "\n",
              "    .dataframe thead th {\n",
              "        text-align: right;\n",
              "    }\n",
              "</style>\n",
              "<table border=\"1\" class=\"dataframe\">\n",
              "  <thead>\n",
              "    <tr style=\"text-align: right;\">\n",
              "      <th></th>\n",
              "      <th>id</th>\n",
              "      <th>log_price</th>\n",
              "      <th>property_type</th>\n",
              "      <th>room_type</th>\n",
              "      <th>accommodates</th>\n",
              "      <th>bathrooms</th>\n",
              "      <th>bed_type</th>\n",
              "      <th>cancellation_policy</th>\n",
              "      <th>cleaning_fee</th>\n",
              "      <th>city</th>\n",
              "      <th>host_has_profile_pic</th>\n",
              "      <th>host_identity_verified</th>\n",
              "      <th>host_response_rate</th>\n",
              "      <th>host_since</th>\n",
              "      <th>instant_bookable</th>\n",
              "      <th>number_of_reviews</th>\n",
              "      <th>review_scores_rating</th>\n",
              "      <th>bedrooms</th>\n",
              "      <th>beds</th>\n",
              "      <th>Amenity</th>\n",
              "      <th>has_cleaning_fee</th>\n",
              "      <th>has_internet</th>\n",
              "      <th>has_kitchen</th>\n",
              "      <th>has_heating</th>\n",
              "      <th>has_essentials</th>\n",
              "      <th>has_smoke_detector</th>\n",
              "      <th>has_aircon</th>\n",
              "      <th>has_tv</th>\n",
              "      <th>has_shampoo</th>\n",
              "      <th>has_hangers</th>\n",
              "      <th>has_cmd</th>\n",
              "    </tr>\n",
              "  </thead>\n",
              "  <tbody>\n",
              "    <tr>\n",
              "      <th>0</th>\n",
              "      <td>6901257.0</td>\n",
              "      <td>5.010635</td>\n",
              "      <td>Apartment</td>\n",
              "      <td>Entire home/apt</td>\n",
              "      <td>3.0</td>\n",
              "      <td>1.0</td>\n",
              "      <td>Real Bed</td>\n",
              "      <td>strict</td>\n",
              "      <td>True</td>\n",
              "      <td>NYC</td>\n",
              "      <td>t</td>\n",
              "      <td>t</td>\n",
              "      <td>NaN</td>\n",
              "      <td>2012-03-26</td>\n",
              "      <td>f</td>\n",
              "      <td>2.0</td>\n",
              "      <td>100.0</td>\n",
              "      <td>1.0</td>\n",
              "      <td>1.0</td>\n",
              "      <td>[Wireless Internet, Air conditioning, Kitchen,...</td>\n",
              "      <td>1.0</td>\n",
              "      <td>1.0</td>\n",
              "      <td>1.0</td>\n",
              "      <td>1.0</td>\n",
              "      <td>1.0</td>\n",
              "      <td>0.0</td>\n",
              "      <td>1.0</td>\n",
              "      <td>0.0</td>\n",
              "      <td>0.0</td>\n",
              "      <td>0.0</td>\n",
              "      <td>0.0</td>\n",
              "    </tr>\n",
              "    <tr>\n",
              "      <th>1</th>\n",
              "      <td>6304928.0</td>\n",
              "      <td>5.129899</td>\n",
              "      <td>Apartment</td>\n",
              "      <td>Entire home/apt</td>\n",
              "      <td>7.0</td>\n",
              "      <td>1.0</td>\n",
              "      <td>Real Bed</td>\n",
              "      <td>strict</td>\n",
              "      <td>True</td>\n",
              "      <td>NYC</td>\n",
              "      <td>t</td>\n",
              "      <td>f</td>\n",
              "      <td>100%</td>\n",
              "      <td>2017-06-19</td>\n",
              "      <td>t</td>\n",
              "      <td>6.0</td>\n",
              "      <td>93.0</td>\n",
              "      <td>3.0</td>\n",
              "      <td>3.0</td>\n",
              "      <td>[Wireless Internet, Air conditioning, Kitchen,...</td>\n",
              "      <td>1.0</td>\n",
              "      <td>1.0</td>\n",
              "      <td>1.0</td>\n",
              "      <td>1.0</td>\n",
              "      <td>1.0</td>\n",
              "      <td>1.0</td>\n",
              "      <td>1.0</td>\n",
              "      <td>0.0</td>\n",
              "      <td>1.0</td>\n",
              "      <td>1.0</td>\n",
              "      <td>0.0</td>\n",
              "    </tr>\n",
              "    <tr>\n",
              "      <th>2</th>\n",
              "      <td>7919400.0</td>\n",
              "      <td>4.976734</td>\n",
              "      <td>Apartment</td>\n",
              "      <td>Entire home/apt</td>\n",
              "      <td>5.0</td>\n",
              "      <td>1.0</td>\n",
              "      <td>Real Bed</td>\n",
              "      <td>moderate</td>\n",
              "      <td>True</td>\n",
              "      <td>NYC</td>\n",
              "      <td>t</td>\n",
              "      <td>t</td>\n",
              "      <td>100%</td>\n",
              "      <td>2016-10-25</td>\n",
              "      <td>t</td>\n",
              "      <td>10.0</td>\n",
              "      <td>92.0</td>\n",
              "      <td>1.0</td>\n",
              "      <td>3.0</td>\n",
              "      <td>[TV, Cable TV, Wireless Internet, Air conditio...</td>\n",
              "      <td>1.0</td>\n",
              "      <td>1.0</td>\n",
              "      <td>1.0</td>\n",
              "      <td>1.0</td>\n",
              "      <td>1.0</td>\n",
              "      <td>1.0</td>\n",
              "      <td>1.0</td>\n",
              "      <td>1.0</td>\n",
              "      <td>1.0</td>\n",
              "      <td>1.0</td>\n",
              "      <td>1.0</td>\n",
              "    </tr>\n",
              "    <tr>\n",
              "      <th>3</th>\n",
              "      <td>13418779.0</td>\n",
              "      <td>6.620073</td>\n",
              "      <td>House</td>\n",
              "      <td>Entire home/apt</td>\n",
              "      <td>4.0</td>\n",
              "      <td>1.0</td>\n",
              "      <td>Real Bed</td>\n",
              "      <td>flexible</td>\n",
              "      <td>True</td>\n",
              "      <td>SF</td>\n",
              "      <td>t</td>\n",
              "      <td>t</td>\n",
              "      <td>NaN</td>\n",
              "      <td>2015-04-19</td>\n",
              "      <td>f</td>\n",
              "      <td>0.0</td>\n",
              "      <td>NaN</td>\n",
              "      <td>2.0</td>\n",
              "      <td>2.0</td>\n",
              "      <td>[TV, Cable TV, Internet, Wireless Internet, Ki...</td>\n",
              "      <td>1.0</td>\n",
              "      <td>1.0</td>\n",
              "      <td>1.0</td>\n",
              "      <td>1.0</td>\n",
              "      <td>1.0</td>\n",
              "      <td>1.0</td>\n",
              "      <td>0.0</td>\n",
              "      <td>1.0</td>\n",
              "      <td>0.0</td>\n",
              "      <td>0.0</td>\n",
              "      <td>1.0</td>\n",
              "    </tr>\n",
              "    <tr>\n",
              "      <th>4</th>\n",
              "      <td>3808709.0</td>\n",
              "      <td>4.744932</td>\n",
              "      <td>Apartment</td>\n",
              "      <td>Entire home/apt</td>\n",
              "      <td>2.0</td>\n",
              "      <td>1.0</td>\n",
              "      <td>Real Bed</td>\n",
              "      <td>moderate</td>\n",
              "      <td>True</td>\n",
              "      <td>DC</td>\n",
              "      <td>t</td>\n",
              "      <td>t</td>\n",
              "      <td>100%</td>\n",
              "      <td>2015-03-01</td>\n",
              "      <td>t</td>\n",
              "      <td>4.0</td>\n",
              "      <td>40.0</td>\n",
              "      <td>0.0</td>\n",
              "      <td>1.0</td>\n",
              "      <td>[TV, Internet, Wireless Internet, Air conditio...</td>\n",
              "      <td>1.0</td>\n",
              "      <td>1.0</td>\n",
              "      <td>1.0</td>\n",
              "      <td>1.0</td>\n",
              "      <td>1.0</td>\n",
              "      <td>1.0</td>\n",
              "      <td>1.0</td>\n",
              "      <td>1.0</td>\n",
              "      <td>1.0</td>\n",
              "      <td>0.0</td>\n",
              "      <td>1.0</td>\n",
              "    </tr>\n",
              "  </tbody>\n",
              "</table>\n",
              "</div>"
            ],
            "text/plain": [
              "           id  log_price property_type  ... has_shampoo  has_hangers  has_cmd\n",
              "0   6901257.0   5.010635     Apartment  ...         0.0          0.0      0.0\n",
              "1   6304928.0   5.129899     Apartment  ...         1.0          1.0      0.0\n",
              "2   7919400.0   4.976734     Apartment  ...         1.0          1.0      1.0\n",
              "3  13418779.0   6.620073         House  ...         0.0          0.0      1.0\n",
              "4   3808709.0   4.744932     Apartment  ...         1.0          0.0      1.0\n",
              "\n",
              "[5 rows x 31 columns]"
            ]
          },
          "metadata": {
            "tags": []
          },
          "execution_count": 99
        }
      ]
    },
    {
      "cell_type": "code",
      "metadata": {
        "id": "QtHr92eIHrwS",
        "colab_type": "code",
        "outputId": "4d520ce5-39c3-4577-b914-b4bdb11cdef7",
        "colab": {
          "base_uri": "https://localhost:8080/",
          "height": 125
        }
      },
      "source": [
        "print('There are {} observations and {} features in this dataset. \\n'.format(d3.shape[0], d3.shape[1]))\n",
        "print('There are {} types of amenity in this dataset such as {}... \\n'.format(len(amen), \n",
        "                                                                             ','.join(i for i in amen.keys())))\n",
        "print('And the top 10 are {}'.format(', '.join(i for i in top_10_amenity)))"
      ],
      "execution_count": 0,
      "outputs": [
        {
          "output_type": "stream",
          "text": [
            "There are 74108 observations and 31 features in this dataset. \n",
            "\n",
            "There are 131 types of amenity in this dataset such as Wireless Internet,Air conditioning,Kitchen,Heating,Family/kid friendly,Essentials,Hair dryer,Iron,translation missing: en.hosting_amenity_50,Washer,Dryer,Smoke detector,Fire extinguisher,Shampoo,Hangers,TV,Cable TV,Breakfast,Buzzer/wireless intercom,Carbon monoxide detector,Laptop friendly workspace,Internet,Indoor fireplace,First aid kit,Elevator in building,Pool,Free parking on premises,Gym,Hot tub,Wheelchair accessible,Doorman,Dog(s),Cat(s),Other pet(s),Lock on bedroom door,Pets live on this property,Private entrance,Hot water,Bed linens,Extra pillows and blankets,Coffee maker,Refrigerator,Dishes and silverware,Garden or backyard,Pets allowed,Safety card,24-hour check-in,Self Check-In,Lockbox,Suitable for events,translation missing: en.hosting_amenity_49,Elevator,Microwave,Cooking basics,Oven,Stove,Smoking allowed,Outlet covers,Bathtub,Dishwasher,Single level home,Luggage dropoff allowed,Step-free access,Wide clearance to bed,Accessible-height bed,Wide doorway,Accessible-height toilet,Wide entryway,Hot water kettle,Babysitter recommendations,Pack ’n Play/travel crib,Keypad,Free parking on street,Smart lock,Wide hallway clearance,Flat, smooth pathway to front door,Well-lit path to entrance,Long term stays allowed,,Private living room,Children’s books and toys,Children’s dinnerware,BBQ grill,Patio or balcony,Host greets you,Smartlock,Ethernet connection,Fixed grab bars for shower & toilet,High chair,Room-darkening shades,Changing table,Stair gates,Window guards,Table corner guards,Crib,Other,Private bathroom,Doorman Entry,Baby monitor,Baby bath,Fireplace guards,Game console,Firm mattress,Pocket wifi,Cleaning before checkout,Handheld shower head,Waterfront,Ground floor access,EV charger,Wide clearance to shower & toilet,Beach essentials,Beachfront,Bathtub with shower chair,Lake access,Washer / Dryer,Disabled parking spot,Roll-in shower with chair,Air purifier,Ski in/Ski out,Path to entrance lit at night,Firm matress,Paid parking off premises,Flat smooth pathway to front door,Grab-rails for shower and toilet,Body soap,Hand soap,Bath towel,Hand or paper towel,Toilet paper,Wide clearance to shower and toilet... \n",
            "\n",
            "And the top 10 are Wireless Internet, Kitchen, Heating, Essentials, Smoke detector, Air conditioning, TV, Shampoo, Hangers, Carbon monoxide detector\n"
          ],
          "name": "stdout"
        }
      ]
    },
    {
      "cell_type": "code",
      "metadata": {
        "id": "J2pnx0_7JVT-",
        "colab_type": "code",
        "outputId": "3999850f-6171-45e8-84fb-9e175c63daa6",
        "colab": {
          "base_uri": "https://localhost:8080/",
          "height": 203
        }
      },
      "source": [
        "wordcloud = d3[['city','Amenity','log_price']]\n",
        "wordcloud.head()"
      ],
      "execution_count": 0,
      "outputs": [
        {
          "output_type": "execute_result",
          "data": {
            "text/html": [
              "<div>\n",
              "<style scoped>\n",
              "    .dataframe tbody tr th:only-of-type {\n",
              "        vertical-align: middle;\n",
              "    }\n",
              "\n",
              "    .dataframe tbody tr th {\n",
              "        vertical-align: top;\n",
              "    }\n",
              "\n",
              "    .dataframe thead th {\n",
              "        text-align: right;\n",
              "    }\n",
              "</style>\n",
              "<table border=\"1\" class=\"dataframe\">\n",
              "  <thead>\n",
              "    <tr style=\"text-align: right;\">\n",
              "      <th></th>\n",
              "      <th>city</th>\n",
              "      <th>Amenity</th>\n",
              "      <th>log_price</th>\n",
              "    </tr>\n",
              "  </thead>\n",
              "  <tbody>\n",
              "    <tr>\n",
              "      <th>0</th>\n",
              "      <td>NYC</td>\n",
              "      <td>[Wireless Internet, Air conditioning, Kitchen,...</td>\n",
              "      <td>5.010635</td>\n",
              "    </tr>\n",
              "    <tr>\n",
              "      <th>1</th>\n",
              "      <td>NYC</td>\n",
              "      <td>[Wireless Internet, Air conditioning, Kitchen,...</td>\n",
              "      <td>5.129899</td>\n",
              "    </tr>\n",
              "    <tr>\n",
              "      <th>2</th>\n",
              "      <td>NYC</td>\n",
              "      <td>[TV, Cable TV, Wireless Internet, Air conditio...</td>\n",
              "      <td>4.976734</td>\n",
              "    </tr>\n",
              "    <tr>\n",
              "      <th>3</th>\n",
              "      <td>SF</td>\n",
              "      <td>[TV, Cable TV, Internet, Wireless Internet, Ki...</td>\n",
              "      <td>6.620073</td>\n",
              "    </tr>\n",
              "    <tr>\n",
              "      <th>4</th>\n",
              "      <td>DC</td>\n",
              "      <td>[TV, Internet, Wireless Internet, Air conditio...</td>\n",
              "      <td>4.744932</td>\n",
              "    </tr>\n",
              "  </tbody>\n",
              "</table>\n",
              "</div>"
            ],
            "text/plain": [
              "  city                                            Amenity  log_price\n",
              "0  NYC  [Wireless Internet, Air conditioning, Kitchen,...   5.010635\n",
              "1  NYC  [Wireless Internet, Air conditioning, Kitchen,...   5.129899\n",
              "2  NYC  [TV, Cable TV, Wireless Internet, Air conditio...   4.976734\n",
              "3   SF  [TV, Cable TV, Internet, Wireless Internet, Ki...   6.620073\n",
              "4   DC  [TV, Internet, Wireless Internet, Air conditio...   4.744932"
            ]
          },
          "metadata": {
            "tags": []
          },
          "execution_count": 119
        }
      ]
    },
    {
      "cell_type": "code",
      "metadata": {
        "id": "-alXncJPJuwl",
        "colab_type": "code",
        "outputId": "9408ca51-2b74-4d9f-e527-09b82ff350a8",
        "colab": {
          "base_uri": "https://localhost:8080/",
          "height": 254
        }
      },
      "source": [
        "d3.groupby('city').mean().sort_values(by = 'log_price',ascending = False ).head()"
      ],
      "execution_count": 0,
      "outputs": [
        {
          "output_type": "execute_result",
          "data": {
            "text/html": [
              "<div>\n",
              "<style scoped>\n",
              "    .dataframe tbody tr th:only-of-type {\n",
              "        vertical-align: middle;\n",
              "    }\n",
              "\n",
              "    .dataframe tbody tr th {\n",
              "        vertical-align: top;\n",
              "    }\n",
              "\n",
              "    .dataframe thead th {\n",
              "        text-align: right;\n",
              "    }\n",
              "</style>\n",
              "<table border=\"1\" class=\"dataframe\">\n",
              "  <thead>\n",
              "    <tr style=\"text-align: right;\">\n",
              "      <th></th>\n",
              "      <th>id</th>\n",
              "      <th>log_price</th>\n",
              "      <th>accommodates</th>\n",
              "      <th>bathrooms</th>\n",
              "      <th>number_of_reviews</th>\n",
              "      <th>review_scores_rating</th>\n",
              "      <th>bedrooms</th>\n",
              "      <th>beds</th>\n",
              "      <th>has_cleaning_fee</th>\n",
              "      <th>has_internet</th>\n",
              "      <th>has_kitchen</th>\n",
              "      <th>has_heating</th>\n",
              "      <th>has_essentials</th>\n",
              "      <th>has_smoke_detector</th>\n",
              "      <th>has_aircon</th>\n",
              "      <th>has_tv</th>\n",
              "      <th>has_shampoo</th>\n",
              "      <th>has_hangers</th>\n",
              "      <th>has_cmd</th>\n",
              "    </tr>\n",
              "    <tr>\n",
              "      <th>city</th>\n",
              "      <th></th>\n",
              "      <th></th>\n",
              "      <th></th>\n",
              "      <th></th>\n",
              "      <th></th>\n",
              "      <th></th>\n",
              "      <th></th>\n",
              "      <th></th>\n",
              "      <th></th>\n",
              "      <th></th>\n",
              "      <th></th>\n",
              "      <th></th>\n",
              "      <th></th>\n",
              "      <th></th>\n",
              "      <th></th>\n",
              "      <th></th>\n",
              "      <th></th>\n",
              "      <th></th>\n",
              "      <th></th>\n",
              "    </tr>\n",
              "  </thead>\n",
              "  <tbody>\n",
              "    <tr>\n",
              "      <th>SF</th>\n",
              "      <td>1.120639e+07</td>\n",
              "      <td>5.169831</td>\n",
              "      <td>3.170997</td>\n",
              "      <td>1.259548</td>\n",
              "      <td>28.710129</td>\n",
              "      <td>95.022790</td>\n",
              "      <td>1.348280</td>\n",
              "      <td>1.715688</td>\n",
              "      <td>0.745138</td>\n",
              "      <td>0.958906</td>\n",
              "      <td>0.913125</td>\n",
              "      <td>0.897500</td>\n",
              "      <td>0.863437</td>\n",
              "      <td>0.832031</td>\n",
              "      <td>0.737656</td>\n",
              "      <td>0.697031</td>\n",
              "      <td>0.672031</td>\n",
              "      <td>0.668594</td>\n",
              "      <td>0.645625</td>\n",
              "    </tr>\n",
              "    <tr>\n",
              "      <th>DC</th>\n",
              "      <td>1.128756e+07</td>\n",
              "      <td>4.986512</td>\n",
              "      <td>3.541007</td>\n",
              "      <td>1.314417</td>\n",
              "      <td>19.922914</td>\n",
              "      <td>94.830934</td>\n",
              "      <td>1.332394</td>\n",
              "      <td>1.807997</td>\n",
              "      <td>0.661211</td>\n",
              "      <td>0.964317</td>\n",
              "      <td>0.912206</td>\n",
              "      <td>0.905494</td>\n",
              "      <td>0.863452</td>\n",
              "      <td>0.827416</td>\n",
              "      <td>0.749161</td>\n",
              "      <td>0.695107</td>\n",
              "      <td>0.661191</td>\n",
              "      <td>0.650238</td>\n",
              "      <td>0.635753</td>\n",
              "    </tr>\n",
              "    <tr>\n",
              "      <th>Boston</th>\n",
              "      <td>1.100847e+07</td>\n",
              "      <td>4.883952</td>\n",
              "      <td>3.301990</td>\n",
              "      <td>1.236926</td>\n",
              "      <td>25.697721</td>\n",
              "      <td>93.597518</td>\n",
              "      <td>1.343723</td>\n",
              "      <td>1.761905</td>\n",
              "      <td>0.764926</td>\n",
              "      <td>0.966435</td>\n",
              "      <td>0.909722</td>\n",
              "      <td>0.912037</td>\n",
              "      <td>0.865451</td>\n",
              "      <td>0.841146</td>\n",
              "      <td>0.747106</td>\n",
              "      <td>0.709201</td>\n",
              "      <td>0.673611</td>\n",
              "      <td>0.673032</td>\n",
              "      <td>0.641782</td>\n",
              "    </tr>\n",
              "    <tr>\n",
              "      <th>LA</th>\n",
              "      <td>1.128919e+07</td>\n",
              "      <td>4.720429</td>\n",
              "      <td>3.409334</td>\n",
              "      <td>1.350724</td>\n",
              "      <td>21.332456</td>\n",
              "      <td>94.304133</td>\n",
              "      <td>1.335373</td>\n",
              "      <td>1.864446</td>\n",
              "      <td>0.780787</td>\n",
              "      <td>0.961175</td>\n",
              "      <td>0.909677</td>\n",
              "      <td>0.903990</td>\n",
              "      <td>0.862657</td>\n",
              "      <td>0.837535</td>\n",
              "      <td>0.747302</td>\n",
              "      <td>0.709104</td>\n",
              "      <td>0.669652</td>\n",
              "      <td>0.664457</td>\n",
              "      <td>0.640410</td>\n",
              "    </tr>\n",
              "    <tr>\n",
              "      <th>NYC</th>\n",
              "      <td>1.127766e+07</td>\n",
              "      <td>4.719387</td>\n",
              "      <td>2.820391</td>\n",
              "      <td>1.131117</td>\n",
              "      <td>18.134030</td>\n",
              "      <td>93.509081</td>\n",
              "      <td>1.160977</td>\n",
              "      <td>1.558577</td>\n",
              "      <td>0.707890</td>\n",
              "      <td>0.961482</td>\n",
              "      <td>0.912944</td>\n",
              "      <td>0.907170</td>\n",
              "      <td>0.865218</td>\n",
              "      <td>0.831663</td>\n",
              "      <td>0.744920</td>\n",
              "      <td>0.708462</td>\n",
              "      <td>0.666292</td>\n",
              "      <td>0.665356</td>\n",
              "      <td>0.632768</td>\n",
              "    </tr>\n",
              "  </tbody>\n",
              "</table>\n",
              "</div>"
            ],
            "text/plain": [
              "                  id  log_price  ...  has_hangers   has_cmd\n",
              "city                             ...                       \n",
              "SF      1.120639e+07   5.169831  ...     0.668594  0.645625\n",
              "DC      1.128756e+07   4.986512  ...     0.650238  0.635753\n",
              "Boston  1.100847e+07   4.883952  ...     0.673032  0.641782\n",
              "LA      1.128919e+07   4.720429  ...     0.664457  0.640410\n",
              "NYC     1.127766e+07   4.719387  ...     0.665356  0.632768\n",
              "\n",
              "[5 rows x 19 columns]"
            ]
          },
          "metadata": {
            "tags": []
          },
          "execution_count": 122
        }
      ]
    },
    {
      "cell_type": "code",
      "metadata": {
        "id": "ct96ycloKDaP",
        "colab_type": "code",
        "outputId": "23ac976b-c15e-45cf-ba5d-89bb0a0f1996",
        "colab": {
          "base_uri": "https://localhost:8080/",
          "height": 345
        }
      },
      "source": [
        "d3.groupby('city').describe().head(7)"
      ],
      "execution_count": 0,
      "outputs": [
        {
          "output_type": "execute_result",
          "data": {
            "text/html": [
              "<div>\n",
              "<style scoped>\n",
              "    .dataframe tbody tr th:only-of-type {\n",
              "        vertical-align: middle;\n",
              "    }\n",
              "\n",
              "    .dataframe tbody tr th {\n",
              "        vertical-align: top;\n",
              "    }\n",
              "\n",
              "    .dataframe thead tr th {\n",
              "        text-align: left;\n",
              "    }\n",
              "\n",
              "    .dataframe thead tr:last-of-type th {\n",
              "        text-align: right;\n",
              "    }\n",
              "</style>\n",
              "<table border=\"1\" class=\"dataframe\">\n",
              "  <thead>\n",
              "    <tr>\n",
              "      <th></th>\n",
              "      <th colspan=\"8\" halign=\"left\">id</th>\n",
              "      <th colspan=\"8\" halign=\"left\">log_price</th>\n",
              "      <th colspan=\"8\" halign=\"left\">accommodates</th>\n",
              "      <th colspan=\"8\" halign=\"left\">bathrooms</th>\n",
              "      <th colspan=\"8\" halign=\"left\">number_of_reviews</th>\n",
              "      <th>...</th>\n",
              "      <th colspan=\"8\" halign=\"left\">has_aircon</th>\n",
              "      <th colspan=\"8\" halign=\"left\">has_tv</th>\n",
              "      <th colspan=\"8\" halign=\"left\">has_shampoo</th>\n",
              "      <th colspan=\"8\" halign=\"left\">has_hangers</th>\n",
              "      <th colspan=\"8\" halign=\"left\">has_cmd</th>\n",
              "    </tr>\n",
              "    <tr>\n",
              "      <th></th>\n",
              "      <th>count</th>\n",
              "      <th>mean</th>\n",
              "      <th>std</th>\n",
              "      <th>min</th>\n",
              "      <th>25%</th>\n",
              "      <th>50%</th>\n",
              "      <th>75%</th>\n",
              "      <th>max</th>\n",
              "      <th>count</th>\n",
              "      <th>mean</th>\n",
              "      <th>std</th>\n",
              "      <th>min</th>\n",
              "      <th>25%</th>\n",
              "      <th>50%</th>\n",
              "      <th>75%</th>\n",
              "      <th>max</th>\n",
              "      <th>count</th>\n",
              "      <th>mean</th>\n",
              "      <th>std</th>\n",
              "      <th>min</th>\n",
              "      <th>25%</th>\n",
              "      <th>50%</th>\n",
              "      <th>75%</th>\n",
              "      <th>max</th>\n",
              "      <th>count</th>\n",
              "      <th>mean</th>\n",
              "      <th>std</th>\n",
              "      <th>min</th>\n",
              "      <th>25%</th>\n",
              "      <th>50%</th>\n",
              "      <th>75%</th>\n",
              "      <th>max</th>\n",
              "      <th>count</th>\n",
              "      <th>mean</th>\n",
              "      <th>std</th>\n",
              "      <th>min</th>\n",
              "      <th>25%</th>\n",
              "      <th>50%</th>\n",
              "      <th>75%</th>\n",
              "      <th>max</th>\n",
              "      <th>...</th>\n",
              "      <th>count</th>\n",
              "      <th>mean</th>\n",
              "      <th>std</th>\n",
              "      <th>min</th>\n",
              "      <th>25%</th>\n",
              "      <th>50%</th>\n",
              "      <th>75%</th>\n",
              "      <th>max</th>\n",
              "      <th>count</th>\n",
              "      <th>mean</th>\n",
              "      <th>std</th>\n",
              "      <th>min</th>\n",
              "      <th>25%</th>\n",
              "      <th>50%</th>\n",
              "      <th>75%</th>\n",
              "      <th>max</th>\n",
              "      <th>count</th>\n",
              "      <th>mean</th>\n",
              "      <th>std</th>\n",
              "      <th>min</th>\n",
              "      <th>25%</th>\n",
              "      <th>50%</th>\n",
              "      <th>75%</th>\n",
              "      <th>max</th>\n",
              "      <th>count</th>\n",
              "      <th>mean</th>\n",
              "      <th>std</th>\n",
              "      <th>min</th>\n",
              "      <th>25%</th>\n",
              "      <th>50%</th>\n",
              "      <th>75%</th>\n",
              "      <th>max</th>\n",
              "      <th>count</th>\n",
              "      <th>mean</th>\n",
              "      <th>std</th>\n",
              "      <th>min</th>\n",
              "      <th>25%</th>\n",
              "      <th>50%</th>\n",
              "      <th>75%</th>\n",
              "      <th>max</th>\n",
              "    </tr>\n",
              "    <tr>\n",
              "      <th>city</th>\n",
              "      <th></th>\n",
              "      <th></th>\n",
              "      <th></th>\n",
              "      <th></th>\n",
              "      <th></th>\n",
              "      <th></th>\n",
              "      <th></th>\n",
              "      <th></th>\n",
              "      <th></th>\n",
              "      <th></th>\n",
              "      <th></th>\n",
              "      <th></th>\n",
              "      <th></th>\n",
              "      <th></th>\n",
              "      <th></th>\n",
              "      <th></th>\n",
              "      <th></th>\n",
              "      <th></th>\n",
              "      <th></th>\n",
              "      <th></th>\n",
              "      <th></th>\n",
              "      <th></th>\n",
              "      <th></th>\n",
              "      <th></th>\n",
              "      <th></th>\n",
              "      <th></th>\n",
              "      <th></th>\n",
              "      <th></th>\n",
              "      <th></th>\n",
              "      <th></th>\n",
              "      <th></th>\n",
              "      <th></th>\n",
              "      <th></th>\n",
              "      <th></th>\n",
              "      <th></th>\n",
              "      <th></th>\n",
              "      <th></th>\n",
              "      <th></th>\n",
              "      <th></th>\n",
              "      <th></th>\n",
              "      <th></th>\n",
              "      <th></th>\n",
              "      <th></th>\n",
              "      <th></th>\n",
              "      <th></th>\n",
              "      <th></th>\n",
              "      <th></th>\n",
              "      <th></th>\n",
              "      <th></th>\n",
              "      <th></th>\n",
              "      <th></th>\n",
              "      <th></th>\n",
              "      <th></th>\n",
              "      <th></th>\n",
              "      <th></th>\n",
              "      <th></th>\n",
              "      <th></th>\n",
              "      <th></th>\n",
              "      <th></th>\n",
              "      <th></th>\n",
              "      <th></th>\n",
              "      <th></th>\n",
              "      <th></th>\n",
              "      <th></th>\n",
              "      <th></th>\n",
              "      <th></th>\n",
              "      <th></th>\n",
              "      <th></th>\n",
              "      <th></th>\n",
              "      <th></th>\n",
              "      <th></th>\n",
              "      <th></th>\n",
              "      <th></th>\n",
              "      <th></th>\n",
              "      <th></th>\n",
              "      <th></th>\n",
              "      <th></th>\n",
              "      <th></th>\n",
              "      <th></th>\n",
              "      <th></th>\n",
              "      <th></th>\n",
              "    </tr>\n",
              "  </thead>\n",
              "  <tbody>\n",
              "    <tr>\n",
              "      <th>Boston</th>\n",
              "      <td>3467.0</td>\n",
              "      <td>1.100847e+07</td>\n",
              "      <td>6.192742e+06</td>\n",
              "      <td>6715.0</td>\n",
              "      <td>5764698.50</td>\n",
              "      <td>11622471.0</td>\n",
              "      <td>16419512.50</td>\n",
              "      <td>21177066.0</td>\n",
              "      <td>3467.0</td>\n",
              "      <td>4.883952</td>\n",
              "      <td>0.664770</td>\n",
              "      <td>2.833213</td>\n",
              "      <td>4.382027</td>\n",
              "      <td>4.912655</td>\n",
              "      <td>5.298317</td>\n",
              "      <td>7.244228</td>\n",
              "      <td>3467.0</td>\n",
              "      <td>3.301990</td>\n",
              "      <td>2.186145</td>\n",
              "      <td>1.0</td>\n",
              "      <td>2.0</td>\n",
              "      <td>2.0</td>\n",
              "      <td>4.0</td>\n",
              "      <td>16.0</td>\n",
              "      <td>3461.0</td>\n",
              "      <td>1.236926</td>\n",
              "      <td>0.509085</td>\n",
              "      <td>0.0</td>\n",
              "      <td>1.0</td>\n",
              "      <td>1.0</td>\n",
              "      <td>1.0</td>\n",
              "      <td>6.0</td>\n",
              "      <td>3467.0</td>\n",
              "      <td>25.697721</td>\n",
              "      <td>45.108010</td>\n",
              "      <td>0.0</td>\n",
              "      <td>1.0</td>\n",
              "      <td>7.0</td>\n",
              "      <td>29.0</td>\n",
              "      <td>380.0</td>\n",
              "      <td>...</td>\n",
              "      <td>3456.0</td>\n",
              "      <td>0.747106</td>\n",
              "      <td>0.434733</td>\n",
              "      <td>0.0</td>\n",
              "      <td>0.0</td>\n",
              "      <td>1.0</td>\n",
              "      <td>1.0</td>\n",
              "      <td>1.0</td>\n",
              "      <td>3456.0</td>\n",
              "      <td>0.709201</td>\n",
              "      <td>0.454197</td>\n",
              "      <td>0.0</td>\n",
              "      <td>0.0</td>\n",
              "      <td>1.0</td>\n",
              "      <td>1.0</td>\n",
              "      <td>1.0</td>\n",
              "      <td>3456.0</td>\n",
              "      <td>0.673611</td>\n",
              "      <td>0.468959</td>\n",
              "      <td>0.0</td>\n",
              "      <td>0.0</td>\n",
              "      <td>1.0</td>\n",
              "      <td>1.0</td>\n",
              "      <td>1.0</td>\n",
              "      <td>3456.0</td>\n",
              "      <td>0.673032</td>\n",
              "      <td>0.469173</td>\n",
              "      <td>0.0</td>\n",
              "      <td>0.0</td>\n",
              "      <td>1.0</td>\n",
              "      <td>1.0</td>\n",
              "      <td>1.0</td>\n",
              "      <td>3456.0</td>\n",
              "      <td>0.641782</td>\n",
              "      <td>0.479546</td>\n",
              "      <td>0.0</td>\n",
              "      <td>0.0</td>\n",
              "      <td>1.0</td>\n",
              "      <td>1.0</td>\n",
              "      <td>1.0</td>\n",
              "    </tr>\n",
              "    <tr>\n",
              "      <th>Chicago</th>\n",
              "      <td>3719.0</td>\n",
              "      <td>1.132062e+07</td>\n",
              "      <td>6.083140e+06</td>\n",
              "      <td>5506.0</td>\n",
              "      <td>6429022.50</td>\n",
              "      <td>12431405.0</td>\n",
              "      <td>16393077.50</td>\n",
              "      <td>21215451.0</td>\n",
              "      <td>3719.0</td>\n",
              "      <td>4.620079</td>\n",
              "      <td>0.700238</td>\n",
              "      <td>2.302585</td>\n",
              "      <td>4.174387</td>\n",
              "      <td>4.595120</td>\n",
              "      <td>5.017280</td>\n",
              "      <td>7.313220</td>\n",
              "      <td>3719.0</td>\n",
              "      <td>3.813122</td>\n",
              "      <td>2.533536</td>\n",
              "      <td>1.0</td>\n",
              "      <td>2.0</td>\n",
              "      <td>3.0</td>\n",
              "      <td>5.0</td>\n",
              "      <td>16.0</td>\n",
              "      <td>3716.0</td>\n",
              "      <td>1.283235</td>\n",
              "      <td>0.567668</td>\n",
              "      <td>0.0</td>\n",
              "      <td>1.0</td>\n",
              "      <td>1.0</td>\n",
              "      <td>1.5</td>\n",
              "      <td>8.0</td>\n",
              "      <td>3719.0</td>\n",
              "      <td>26.235816</td>\n",
              "      <td>38.895808</td>\n",
              "      <td>0.0</td>\n",
              "      <td>3.0</td>\n",
              "      <td>11.0</td>\n",
              "      <td>34.0</td>\n",
              "      <td>391.0</td>\n",
              "      <td>...</td>\n",
              "      <td>3705.0</td>\n",
              "      <td>0.739001</td>\n",
              "      <td>0.439238</td>\n",
              "      <td>0.0</td>\n",
              "      <td>0.0</td>\n",
              "      <td>1.0</td>\n",
              "      <td>1.0</td>\n",
              "      <td>1.0</td>\n",
              "      <td>3705.0</td>\n",
              "      <td>0.705533</td>\n",
              "      <td>0.455864</td>\n",
              "      <td>0.0</td>\n",
              "      <td>0.0</td>\n",
              "      <td>1.0</td>\n",
              "      <td>1.0</td>\n",
              "      <td>1.0</td>\n",
              "      <td>3705.0</td>\n",
              "      <td>0.671255</td>\n",
              "      <td>0.469820</td>\n",
              "      <td>0.0</td>\n",
              "      <td>0.0</td>\n",
              "      <td>1.0</td>\n",
              "      <td>1.0</td>\n",
              "      <td>1.0</td>\n",
              "      <td>3705.0</td>\n",
              "      <td>0.659379</td>\n",
              "      <td>0.473982</td>\n",
              "      <td>0.0</td>\n",
              "      <td>0.0</td>\n",
              "      <td>1.0</td>\n",
              "      <td>1.0</td>\n",
              "      <td>1.0</td>\n",
              "      <td>3705.0</td>\n",
              "      <td>0.643185</td>\n",
              "      <td>0.479124</td>\n",
              "      <td>0.0</td>\n",
              "      <td>0.0</td>\n",
              "      <td>1.0</td>\n",
              "      <td>1.0</td>\n",
              "      <td>1.0</td>\n",
              "    </tr>\n",
              "    <tr>\n",
              "      <th>DC</th>\n",
              "      <td>5682.0</td>\n",
              "      <td>1.128756e+07</td>\n",
              "      <td>6.121282e+06</td>\n",
              "      <td>941.0</td>\n",
              "      <td>6187631.25</td>\n",
              "      <td>12353358.5</td>\n",
              "      <td>16479873.50</td>\n",
              "      <td>21203877.0</td>\n",
              "      <td>5682.0</td>\n",
              "      <td>4.986512</td>\n",
              "      <td>0.821164</td>\n",
              "      <td>2.302585</td>\n",
              "      <td>4.442651</td>\n",
              "      <td>4.828314</td>\n",
              "      <td>5.416100</td>\n",
              "      <td>7.600402</td>\n",
              "      <td>5682.0</td>\n",
              "      <td>3.541007</td>\n",
              "      <td>2.182928</td>\n",
              "      <td>1.0</td>\n",
              "      <td>2.0</td>\n",
              "      <td>3.0</td>\n",
              "      <td>4.0</td>\n",
              "      <td>16.0</td>\n",
              "      <td>5674.0</td>\n",
              "      <td>1.314417</td>\n",
              "      <td>0.667228</td>\n",
              "      <td>0.0</td>\n",
              "      <td>1.0</td>\n",
              "      <td>1.0</td>\n",
              "      <td>1.5</td>\n",
              "      <td>8.0</td>\n",
              "      <td>5682.0</td>\n",
              "      <td>19.922914</td>\n",
              "      <td>37.565607</td>\n",
              "      <td>0.0</td>\n",
              "      <td>0.0</td>\n",
              "      <td>5.0</td>\n",
              "      <td>21.0</td>\n",
              "      <td>495.0</td>\n",
              "      <td>...</td>\n",
              "      <td>5661.0</td>\n",
              "      <td>0.749161</td>\n",
              "      <td>0.433534</td>\n",
              "      <td>0.0</td>\n",
              "      <td>0.0</td>\n",
              "      <td>1.0</td>\n",
              "      <td>1.0</td>\n",
              "      <td>1.0</td>\n",
              "      <td>5661.0</td>\n",
              "      <td>0.695107</td>\n",
              "      <td>0.460403</td>\n",
              "      <td>0.0</td>\n",
              "      <td>0.0</td>\n",
              "      <td>1.0</td>\n",
              "      <td>1.0</td>\n",
              "      <td>1.0</td>\n",
              "      <td>5661.0</td>\n",
              "      <td>0.661191</td>\n",
              "      <td>0.473347</td>\n",
              "      <td>0.0</td>\n",
              "      <td>0.0</td>\n",
              "      <td>1.0</td>\n",
              "      <td>1.0</td>\n",
              "      <td>1.0</td>\n",
              "      <td>5661.0</td>\n",
              "      <td>0.650238</td>\n",
              "      <td>0.476937</td>\n",
              "      <td>0.0</td>\n",
              "      <td>0.0</td>\n",
              "      <td>1.0</td>\n",
              "      <td>1.0</td>\n",
              "      <td>1.0</td>\n",
              "      <td>5661.0</td>\n",
              "      <td>0.635753</td>\n",
              "      <td>0.481261</td>\n",
              "      <td>0.0</td>\n",
              "      <td>0.0</td>\n",
              "      <td>1.0</td>\n",
              "      <td>1.0</td>\n",
              "      <td>1.0</td>\n",
              "    </tr>\n",
              "    <tr>\n",
              "      <th>LA</th>\n",
              "      <td>22412.0</td>\n",
              "      <td>1.128919e+07</td>\n",
              "      <td>6.072524e+06</td>\n",
              "      <td>344.0</td>\n",
              "      <td>6292432.75</td>\n",
              "      <td>12275670.5</td>\n",
              "      <td>16395863.75</td>\n",
              "      <td>21230903.0</td>\n",
              "      <td>22412.0</td>\n",
              "      <td>4.720429</td>\n",
              "      <td>0.739364</td>\n",
              "      <td>2.302585</td>\n",
              "      <td>4.248495</td>\n",
              "      <td>4.605170</td>\n",
              "      <td>5.135798</td>\n",
              "      <td>7.600402</td>\n",
              "      <td>22412.0</td>\n",
              "      <td>3.409334</td>\n",
              "      <td>2.430184</td>\n",
              "      <td>1.0</td>\n",
              "      <td>2.0</td>\n",
              "      <td>2.0</td>\n",
              "      <td>4.0</td>\n",
              "      <td>16.0</td>\n",
              "      <td>22368.0</td>\n",
              "      <td>1.350724</td>\n",
              "      <td>0.749751</td>\n",
              "      <td>0.0</td>\n",
              "      <td>1.0</td>\n",
              "      <td>1.0</td>\n",
              "      <td>1.5</td>\n",
              "      <td>8.0</td>\n",
              "      <td>22412.0</td>\n",
              "      <td>21.332456</td>\n",
              "      <td>38.106010</td>\n",
              "      <td>0.0</td>\n",
              "      <td>1.0</td>\n",
              "      <td>6.0</td>\n",
              "      <td>25.0</td>\n",
              "      <td>605.0</td>\n",
              "      <td>...</td>\n",
              "      <td>22331.0</td>\n",
              "      <td>0.747302</td>\n",
              "      <td>0.434569</td>\n",
              "      <td>0.0</td>\n",
              "      <td>0.0</td>\n",
              "      <td>1.0</td>\n",
              "      <td>1.0</td>\n",
              "      <td>1.0</td>\n",
              "      <td>22331.0</td>\n",
              "      <td>0.709104</td>\n",
              "      <td>0.454186</td>\n",
              "      <td>0.0</td>\n",
              "      <td>0.0</td>\n",
              "      <td>1.0</td>\n",
              "      <td>1.0</td>\n",
              "      <td>1.0</td>\n",
              "      <td>22331.0</td>\n",
              "      <td>0.669652</td>\n",
              "      <td>0.470349</td>\n",
              "      <td>0.0</td>\n",
              "      <td>0.0</td>\n",
              "      <td>1.0</td>\n",
              "      <td>1.0</td>\n",
              "      <td>1.0</td>\n",
              "      <td>22331.0</td>\n",
              "      <td>0.664457</td>\n",
              "      <td>0.472190</td>\n",
              "      <td>0.0</td>\n",
              "      <td>0.0</td>\n",
              "      <td>1.0</td>\n",
              "      <td>1.0</td>\n",
              "      <td>1.0</td>\n",
              "      <td>22331.0</td>\n",
              "      <td>0.640410</td>\n",
              "      <td>0.479891</td>\n",
              "      <td>0.0</td>\n",
              "      <td>0.0</td>\n",
              "      <td>1.0</td>\n",
              "      <td>1.0</td>\n",
              "      <td>1.0</td>\n",
              "    </tr>\n",
              "    <tr>\n",
              "      <th>NYC</th>\n",
              "      <td>32142.0</td>\n",
              "      <td>1.127766e+07</td>\n",
              "      <td>6.074073e+06</td>\n",
              "      <td>2404.0</td>\n",
              "      <td>6269617.50</td>\n",
              "      <td>12284174.5</td>\n",
              "      <td>16405857.25</td>\n",
              "      <td>21228356.0</td>\n",
              "      <td>32142.0</td>\n",
              "      <td>4.719387</td>\n",
              "      <td>0.661928</td>\n",
              "      <td>0.000000</td>\n",
              "      <td>4.248495</td>\n",
              "      <td>4.653960</td>\n",
              "      <td>5.164786</td>\n",
              "      <td>7.600402</td>\n",
              "      <td>32142.0</td>\n",
              "      <td>2.820391</td>\n",
              "      <td>1.853004</td>\n",
              "      <td>1.0</td>\n",
              "      <td>2.0</td>\n",
              "      <td>2.0</td>\n",
              "      <td>4.0</td>\n",
              "      <td>16.0</td>\n",
              "      <td>32063.0</td>\n",
              "      <td>1.131117</td>\n",
              "      <td>0.399995</td>\n",
              "      <td>0.0</td>\n",
              "      <td>1.0</td>\n",
              "      <td>1.0</td>\n",
              "      <td>1.0</td>\n",
              "      <td>8.0</td>\n",
              "      <td>32142.0</td>\n",
              "      <td>18.134030</td>\n",
              "      <td>32.860777</td>\n",
              "      <td>0.0</td>\n",
              "      <td>1.0</td>\n",
              "      <td>5.0</td>\n",
              "      <td>20.0</td>\n",
              "      <td>474.0</td>\n",
              "      <td>...</td>\n",
              "      <td>32037.0</td>\n",
              "      <td>0.744920</td>\n",
              "      <td>0.435913</td>\n",
              "      <td>0.0</td>\n",
              "      <td>0.0</td>\n",
              "      <td>1.0</td>\n",
              "      <td>1.0</td>\n",
              "      <td>1.0</td>\n",
              "      <td>32037.0</td>\n",
              "      <td>0.708462</td>\n",
              "      <td>0.454478</td>\n",
              "      <td>0.0</td>\n",
              "      <td>0.0</td>\n",
              "      <td>1.0</td>\n",
              "      <td>1.0</td>\n",
              "      <td>1.0</td>\n",
              "      <td>32037.0</td>\n",
              "      <td>0.666292</td>\n",
              "      <td>0.471544</td>\n",
              "      <td>0.0</td>\n",
              "      <td>0.0</td>\n",
              "      <td>1.0</td>\n",
              "      <td>1.0</td>\n",
              "      <td>1.0</td>\n",
              "      <td>32037.0</td>\n",
              "      <td>0.665356</td>\n",
              "      <td>0.471873</td>\n",
              "      <td>0.0</td>\n",
              "      <td>0.0</td>\n",
              "      <td>1.0</td>\n",
              "      <td>1.0</td>\n",
              "      <td>1.0</td>\n",
              "      <td>32037.0</td>\n",
              "      <td>0.632768</td>\n",
              "      <td>0.482058</td>\n",
              "      <td>0.0</td>\n",
              "      <td>0.0</td>\n",
              "      <td>1.0</td>\n",
              "      <td>1.0</td>\n",
              "      <td>1.0</td>\n",
              "    </tr>\n",
              "    <tr>\n",
              "      <th>SF</th>\n",
              "      <td>6427.0</td>\n",
              "      <td>1.120639e+07</td>\n",
              "      <td>6.056293e+06</td>\n",
              "      <td>3781.0</td>\n",
              "      <td>6281223.00</td>\n",
              "      <td>12086985.0</td>\n",
              "      <td>16325196.00</td>\n",
              "      <td>21213790.0</td>\n",
              "      <td>6427.0</td>\n",
              "      <td>5.169831</td>\n",
              "      <td>0.679815</td>\n",
              "      <td>2.302585</td>\n",
              "      <td>4.682131</td>\n",
              "      <td>5.105945</td>\n",
              "      <td>5.560682</td>\n",
              "      <td>7.598399</td>\n",
              "      <td>6427.0</td>\n",
              "      <td>3.170997</td>\n",
              "      <td>1.980887</td>\n",
              "      <td>1.0</td>\n",
              "      <td>2.0</td>\n",
              "      <td>2.0</td>\n",
              "      <td>4.0</td>\n",
              "      <td>16.0</td>\n",
              "      <td>6415.0</td>\n",
              "      <td>1.259548</td>\n",
              "      <td>0.558037</td>\n",
              "      <td>0.0</td>\n",
              "      <td>1.0</td>\n",
              "      <td>1.0</td>\n",
              "      <td>1.5</td>\n",
              "      <td>8.0</td>\n",
              "      <td>6427.0</td>\n",
              "      <td>28.710129</td>\n",
              "      <td>51.479815</td>\n",
              "      <td>0.0</td>\n",
              "      <td>1.0</td>\n",
              "      <td>7.0</td>\n",
              "      <td>31.0</td>\n",
              "      <td>542.0</td>\n",
              "      <td>...</td>\n",
              "      <td>6400.0</td>\n",
              "      <td>0.737656</td>\n",
              "      <td>0.439943</td>\n",
              "      <td>0.0</td>\n",
              "      <td>0.0</td>\n",
              "      <td>1.0</td>\n",
              "      <td>1.0</td>\n",
              "      <td>1.0</td>\n",
              "      <td>6400.0</td>\n",
              "      <td>0.697031</td>\n",
              "      <td>0.459578</td>\n",
              "      <td>0.0</td>\n",
              "      <td>0.0</td>\n",
              "      <td>1.0</td>\n",
              "      <td>1.0</td>\n",
              "      <td>1.0</td>\n",
              "      <td>6400.0</td>\n",
              "      <td>0.672031</td>\n",
              "      <td>0.469510</td>\n",
              "      <td>0.0</td>\n",
              "      <td>0.0</td>\n",
              "      <td>1.0</td>\n",
              "      <td>1.0</td>\n",
              "      <td>1.0</td>\n",
              "      <td>6400.0</td>\n",
              "      <td>0.668594</td>\n",
              "      <td>0.470756</td>\n",
              "      <td>0.0</td>\n",
              "      <td>0.0</td>\n",
              "      <td>1.0</td>\n",
              "      <td>1.0</td>\n",
              "      <td>1.0</td>\n",
              "      <td>6400.0</td>\n",
              "      <td>0.645625</td>\n",
              "      <td>0.478361</td>\n",
              "      <td>0.0</td>\n",
              "      <td>0.0</td>\n",
              "      <td>1.0</td>\n",
              "      <td>1.0</td>\n",
              "      <td>1.0</td>\n",
              "    </tr>\n",
              "  </tbody>\n",
              "</table>\n",
              "<p>6 rows × 152 columns</p>\n",
              "</div>"
            ],
            "text/plain": [
              "              id                                      ... has_cmd               \n",
              "           count          mean           std     min  ...     25%  50%  75%  max\n",
              "city                                                  ...                       \n",
              "Boston    3467.0  1.100847e+07  6.192742e+06  6715.0  ...     0.0  1.0  1.0  1.0\n",
              "Chicago   3719.0  1.132062e+07  6.083140e+06  5506.0  ...     0.0  1.0  1.0  1.0\n",
              "DC        5682.0  1.128756e+07  6.121282e+06   941.0  ...     0.0  1.0  1.0  1.0\n",
              "LA       22412.0  1.128919e+07  6.072524e+06   344.0  ...     0.0  1.0  1.0  1.0\n",
              "NYC      32142.0  1.127766e+07  6.074073e+06  2404.0  ...     0.0  1.0  1.0  1.0\n",
              "SF        6427.0  1.120639e+07  6.056293e+06  3781.0  ...     0.0  1.0  1.0  1.0\n",
              "\n",
              "[6 rows x 152 columns]"
            ]
          },
          "metadata": {
            "tags": []
          },
          "execution_count": 121
        }
      ]
    },
    {
      "cell_type": "code",
      "metadata": {
        "id": "zYNzLwuobImj",
        "colab_type": "code",
        "outputId": "a8d27a0e-d4ef-4bb0-8aef-81512b23ca07",
        "colab": {
          "base_uri": "https://localhost:8080/",
          "height": 636
        }
      },
      "source": [
        "city = d3.groupby('city')\n",
        "plt.figure(figsize = (15,10))\n",
        "city.size().sort_values(ascending = False).plot.bar()\n",
        "plt.xticks(rotation = 50)\n",
        "plt.xlabel('City of Origin')\n",
        "plt.ylabel('Number of AirBnB buildings')\n",
        "plt.show()"
      ],
      "execution_count": 0,
      "outputs": [
        {
          "output_type": "display_data",
          "data": {
            "image/png": "[encoded data removed]",
            "text/plain": [
              "<Figure size 1080x720 with 1 Axes>"
            ]
          },
          "metadata": {
            "tags": []
          }
        }
      ]
    },
    {
      "cell_type": "code",
      "metadata": {
        "id": "3adEawcfL3al",
        "colab_type": "code",
        "colab": {}
      },
      "source": [
        "?WordCloud"
      ],
      "execution_count": 0,
      "outputs": []
    },
    {
      "cell_type": "code",
      "metadata": {
        "id": "_HupaMrmNEVm",
        "colab_type": "code",
        "outputId": "bb53800c-f39d-425a-cc77-11c6b0a2623d",
        "colab": {
          "base_uri": "https://localhost:8080/",
          "height": 34
        }
      },
      "source": [
        "type(d3.Amenity[1])"
      ],
      "execution_count": 0,
      "outputs": [
        {
          "output_type": "execute_result",
          "data": {
            "text/plain": [
              "list"
            ]
          },
          "metadata": {
            "tags": []
          },
          "execution_count": 132
        }
      ]
    },
    {
      "cell_type": "code",
      "metadata": {
        "id": "1SWVv7aHMGt5",
        "colab_type": "code",
        "outputId": "126008fb-daff-4a11-b28e-d9336b4dd73d",
        "colab": {
          "base_uri": "https://localhost:8080/",
          "height": 237
        }
      },
      "source": [
        "text = []\n",
        "try:\n",
        "    for _ in d3.Amenity:\n",
        "        for j in _:\n",
        "            text.append(j)\n",
        "except TypeError:\n",
        "    print('How possible!')\n",
        "\n",
        "wordcloud = WordCloud().generate(text[0])\n",
        "plt.imshow(wordcloud, interpolation = 'bilinear')\n",
        "plt.axis('off')\n",
        "plt.show()"
      ],
      "execution_count": 0,
      "outputs": [
        {
          "output_type": "stream",
          "text": [
            "How possible!\n"
          ],
          "name": "stdout"
        },
        {
          "output_type": "display_data",
          "data": {
            "image/png": "[encoded data removed]",
            "text/plain": [
              "<Figure size 432x288 with 1 Axes>"
            ]
          },
          "metadata": {
            "tags": []
          }
        }
      ]
    }
  ]
}