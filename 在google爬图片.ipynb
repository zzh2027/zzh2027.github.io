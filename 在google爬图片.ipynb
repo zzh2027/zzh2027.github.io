{
 "cells": [
  {
   "cell_type": "code",
   "execution_count": 47,
   "metadata": {},
   "outputs": [],
   "source": [
    "import unittest\n",
    "from selenium import webdriver\n",
    "from selenium.webdriver import Chrome\n",
    "from selenium.webdriver.common.keys import Keys\n",
    "from selenium.webdriver.support.ui import Select\n",
    "from selenium.common.exceptions import ElementClickInterceptedException,ElementNotInteractableException, NoSuchElementException, StaleElementReferenceException\n",
    "from selenium.webdriver.common.action_chains import ActionChains\n",
    "from selenium.webdriver.support.ui import WebDriverWait\n",
    "from selenium.webdriver.support import expected_conditions as EC \n",
    "from selenium.webdriver.common.action_chains import ActionChains  \n",
    "from selenium.webdriver.common.by import By\n",
    "import base64\n",
    "import requests\n",
    "from requests.exceptions import InvalidSchema\n",
    "import time\n",
    "import json\n",
    "import os\n",
    "import glob\n",
    "import matplotlib.pyplot as plt\n",
    "import matplotlib.image as mpimg\n",
    "import numpy as np\n",
    "import re"
   ]
  },
  {
   "cell_type": "code",
   "execution_count": 51,
   "metadata": {},
   "outputs": [],
   "source": [
    "class ScrapeGoogle(object):\n",
    "    \n",
    "    def __init__(self, web_root = r\"C:\\Users\\huyia\\1_jupyter\\爬数据爬图片\", pic_root = r\"C:\\Users\\huyia\\OneDrive\\Pictures\"):\n",
    "        os.chdir(web_root)\n",
    "        self.web_root = web_root\n",
    "        self.pic_root = pic_root\n",
    "        self.driver = Chrome()\n",
    "        \n",
    "    def __clickable(self, elem_id, typ = 'id'):\n",
    "        ## wait until the button can be clicked\n",
    "        driver = self.driver\n",
    "        wait = WebDriverWait(driver, 10)\n",
    "        actions = ActionChains(driver)\n",
    "        if typ == 'id':\n",
    "            element = wait.until(EC.element_to_be_clickable((By.ID, elem_id)))\n",
    "        elif typ == 'path':\n",
    "            element = wait.until(EC.element_to_be_clickable((By.XPATH, elem_id)))\n",
    "        actions.move_to_element(element).perform()\n",
    "        driver.execute_script(\"arguments[0].click();\", element)   \n",
    "    \n",
    "    def __rollandclick(self, button):\n",
    "        try:\n",
    "            button.click()\n",
    "        except (ElementClickInterceptedException, ElementNotInteractableException) as e:\n",
    "            ActionChains(self.driver).key_down(Keys.DOWN).perform()\n",
    "            self.__rollandclick(button)\n",
    "        \n",
    "    def Google_login(self, search = 'Avengers', pic_size = 'large',\n",
    "                     folder = \"Google Pictures\",\n",
    "                     url = \"https://www.google.com/?&bih=937&biw=1920&hl=en\"):\n",
    "        driver = self.driver\n",
    "        driver.get(url)\n",
    "        driver.maximize_window()\n",
    "        driver.implicitly_wait(5)\n",
    "        os.chdir(self.pic_root)\n",
    "        try:\n",
    "            os.makedirs(folder)\n",
    "        except FileExistsError:\n",
    "            pass\n",
    "        os.chdir(self.pic_root + \"\\\\\" + folder)\n",
    "        ## 在Google搜索框里输入内容\n",
    "        enter = \"q\"\n",
    "        button = driver.find_element_by_name(enter)\n",
    "        button.send_keys(search)\n",
    "        button.send_keys(Keys.ENTER)\n",
    "        ##进入图片搜索结果\n",
    "        image_id = \"hdtb-msb-vis\"\n",
    "        driver.find_element_by_id(image_id).click()\n",
    "        ##tools添加筛选条件\n",
    "        path = \"\"\"//*[@id=\"yDmH0d\"]/div[2]/c-wiz/div[1]/div/div[1]/div[2]/div[2]/div/div\"\"\"\n",
    "        driver.find_element_by_xpath(path).click()\n",
    "        ## 选择size\n",
    "        size_button = \"\"\"//*[@id=\"yDmH0d\"]/div[2]/c-wiz/div[2]/c-wiz[1]/div/div/div[2]/div/div[1]/div/div[1]\"\"\"\n",
    "        self.__clickable(elem_id = size_button, typ = 'path')\n",
    "        size = {\"any\":\"\"\"//*[@id=\"yDmH0d\"]/div[2]/c-wiz/div[2]/c-wiz[1]/div/div/div[3]/div/span\"\"\", \n",
    "                \"large\":\"\"\"//*[@id=\"yDmH0d\"]/div[2]/c-wiz/div[2]/c-wiz[1]/div/div/div[3]/div/a[1]\"\"\", \n",
    "                \"medium\":\"\"\"//*[@id=\"yDmH0d\"]/div[2]/c-wiz/div[2]/c-wiz[1]/div/div/div[3]/div/a[2]\"\"\", \n",
    "                \"icon\":\"\"\"//*[@id=\"yDmH0d\"]/div[2]/c-wiz/div[2]/c-wiz[1]/div/div/div[3]/div/a[3]\"\"\"}\n",
    "        path = size[pic_size]\n",
    "        driver.find_element_by_xpath(path).click()\n",
    "        ##点击每个图片，然后从新的图片上获取link\n",
    "        for i in range(65,101):\n",
    "            ## 图片的预览，不可下载\n",
    "            try:\n",
    "                prev = driver.find_element_by_xpath(f\"\"\"//*[@id=\"islrg\"]/div[1]/div[{i}]/a[1]/div[1]/img\"\"\")\n",
    "            except NoSuchElementException:\n",
    "                continue\n",
    "            self.__rollandclick(prev)\n",
    "            time.sleep(2)\n",
    "            ## 这是可以保存的图片链接\n",
    "            path = \"\"\"//*[@id=\"Sva75c\"]/div/div/div[3]/div[2]/c-wiz/div[1]/div[1]/div/div[2]/a/img\"\"\"\n",
    "            url = driver.find_element_by_xpath(path).get_attribute('src')\n",
    "            time.sleep(2)\n",
    "            try:\n",
    "                pic = requests.get(url)\n",
    "                with open(f'{i}.png', 'wb') as f:\n",
    "                    f.write(pic.content)\n",
    "            except InvalidSchema:\n",
    "                pic = base64.b64decode(url[23:].replace(\"\\n\",\"\"))\n",
    "                with open(f'{i}.jpg', 'wb') as f:\n",
    "                    f.write(pic)\n",
    "        os.chdir(self.pic_root)"
   ]
  },
  {
   "cell_type": "code",
   "execution_count": 52,
   "metadata": {},
   "outputs": [],
   "source": [
    "test = ScrapeGoogle()"
   ]
  },
  {
   "cell_type": "code",
   "execution_count": 53,
   "metadata": {
    "collapsed": true
   },
   "outputs": [
    {
     "ename": "NameError",
     "evalue": "name 'pic_root' is not defined",
     "output_type": "error",
     "traceback": [
      "\u001b[1;31m---------------------------------------------------------------------------\u001b[0m",
      "\u001b[1;31mNameError\u001b[0m                                 Traceback (most recent call last)",
      "\u001b[1;32m<ipython-input-53-b141ce1470b6>\u001b[0m in \u001b[0;36m<module>\u001b[1;34m\u001b[0m\n\u001b[1;32m----> 1\u001b[1;33m \u001b[0mtest\u001b[0m\u001b[1;33m.\u001b[0m\u001b[0mGoogle_login\u001b[0m\u001b[1;33m(\u001b[0m\u001b[1;33m)\u001b[0m\u001b[1;33m\u001b[0m\u001b[1;33m\u001b[0m\u001b[0m\n\u001b[0m",
      "\u001b[1;32m<ipython-input-51-23b099ff2887>\u001b[0m in \u001b[0;36mGoogle_login\u001b[1;34m(self, search, pic_size, folder, url)\u001b[0m\n\u001b[0;32m     80\u001b[0m                 \u001b[1;32mwith\u001b[0m \u001b[0mopen\u001b[0m\u001b[1;33m(\u001b[0m\u001b[1;34mf'{i}.jpg'\u001b[0m\u001b[1;33m,\u001b[0m \u001b[1;34m'wb'\u001b[0m\u001b[1;33m)\u001b[0m \u001b[1;32mas\u001b[0m \u001b[0mf\u001b[0m\u001b[1;33m:\u001b[0m\u001b[1;33m\u001b[0m\u001b[1;33m\u001b[0m\u001b[0m\n\u001b[0;32m     81\u001b[0m                     \u001b[0mf\u001b[0m\u001b[1;33m.\u001b[0m\u001b[0mwrite\u001b[0m\u001b[1;33m(\u001b[0m\u001b[0mpic\u001b[0m\u001b[1;33m)\u001b[0m\u001b[1;33m\u001b[0m\u001b[1;33m\u001b[0m\u001b[0m\n\u001b[1;32m---> 82\u001b[1;33m         \u001b[0mos\u001b[0m\u001b[1;33m.\u001b[0m\u001b[0mchdir\u001b[0m\u001b[1;33m(\u001b[0m\u001b[0mpic_root\u001b[0m\u001b[1;33m)\u001b[0m\u001b[1;33m\u001b[0m\u001b[1;33m\u001b[0m\u001b[0m\n\u001b[0m",
      "\u001b[1;31mNameError\u001b[0m: name 'pic_root' is not defined"
     ]
    }
   ],
   "source": [
    "test.Google_login()"
   ]
  },
  {
   "cell_type": "code",
   "execution_count": 71,
   "metadata": {},
   "outputs": [],
   "source": [
    "local_folder = os.path.abspath('.')\n",
    "### 1.2store all image names\\n\",\n",
    "jpeg = glob.glob(local_folder+\"\\\\*.jpeg\")\n",
    "jpg  = glob.glob(local_folder+\"\\\\*.jpg\")\n",
    "png  = glob.glob(local_folder+\"\\\\*.png\")\n",
    "pictures = jpeg+jpg+png"
   ]
  },
  {
   "cell_type": "code",
   "execution_count": 72,
   "metadata": {},
   "outputs": [
    {
     "data": {
      "text/plain": [
       "['10.png',\n",
       " '11.png',\n",
       " '12.png',\n",
       " '13.png',\n",
       " '14.png',\n",
       " '15.png',\n",
       " '16.png',\n",
       " '17.png',\n",
       " '18.png',\n",
       " '19.png']"
      ]
     },
     "execution_count": 72,
     "metadata": {},
     "output_type": "execute_result"
    }
   ],
   "source": [
    "os.listdir()[:10]"
   ]
  },
  {
   "cell_type": "code",
   "execution_count": 73,
   "metadata": {},
   "outputs": [
    {
     "ename": "UnidentifiedImageError",
     "evalue": "cannot identify image file 'C:\\\\Users\\\\huyia\\\\OneDrive\\\\Pictures\\\\Google Pictures\\\\42.png'",
     "output_type": "error",
     "traceback": [
      "\u001b[1;31m---------------------------------------------------------------------------\u001b[0m",
      "\u001b[1;31mUnidentifiedImageError\u001b[0m                    Traceback (most recent call last)",
      "\u001b[1;32m<ipython-input-73-719fcc4a433a>\u001b[0m in \u001b[0;36m<module>\u001b[1;34m\u001b[0m\n\u001b[0;32m      1\u001b[0m \u001b[1;32mimport\u001b[0m \u001b[0mmatplotlib\u001b[0m\u001b[1;33m.\u001b[0m\u001b[0mimage\u001b[0m \u001b[1;32mas\u001b[0m \u001b[0mmpimg\u001b[0m\u001b[1;33m\u001b[0m\u001b[1;33m\u001b[0m\u001b[0m\n\u001b[0;32m      2\u001b[0m \u001b[1;32mfor\u001b[0m \u001b[0mpic\u001b[0m \u001b[1;32min\u001b[0m \u001b[0mpictures\u001b[0m\u001b[1;33m:\u001b[0m\u001b[1;33m\u001b[0m\u001b[1;33m\u001b[0m\u001b[0m\n\u001b[1;32m----> 3\u001b[1;33m     \u001b[0mpicd\u001b[0m \u001b[1;33m=\u001b[0m \u001b[0mplt\u001b[0m\u001b[1;33m.\u001b[0m\u001b[0mimread\u001b[0m\u001b[1;33m(\u001b[0m\u001b[0mpic\u001b[0m\u001b[1;33m,\u001b[0m\u001b[1;36m0\u001b[0m\u001b[1;33m)\u001b[0m\u001b[1;33m\u001b[0m\u001b[1;33m\u001b[0m\u001b[0m\n\u001b[0m\u001b[0;32m      4\u001b[0m     \u001b[0mvert\u001b[0m\u001b[1;33m,\u001b[0m \u001b[0mhori\u001b[0m \u001b[1;33m=\u001b[0m \u001b[0mpicd\u001b[0m\u001b[1;33m.\u001b[0m\u001b[0mshape\u001b[0m\u001b[1;33m[\u001b[0m\u001b[1;33m:\u001b[0m\u001b[1;36m2\u001b[0m\u001b[1;33m]\u001b[0m\u001b[1;33m\u001b[0m\u001b[1;33m\u001b[0m\u001b[0m\n\u001b[0;32m      5\u001b[0m     \u001b[0msize\u001b[0m \u001b[1;33m=\u001b[0m \u001b[0mos\u001b[0m\u001b[1;33m.\u001b[0m\u001b[0mpath\u001b[0m\u001b[1;33m.\u001b[0m\u001b[0mgetsize\u001b[0m\u001b[1;33m(\u001b[0m\u001b[0mpic\u001b[0m\u001b[1;33m)\u001b[0m\u001b[1;33m/\u001b[0m\u001b[1;36m1024\u001b[0m\u001b[1;33m\u001b[0m\u001b[1;33m\u001b[0m\u001b[0m\n",
      "\u001b[1;32mD:\\Anaconda_zzh\\lib\\site-packages\\matplotlib\\pyplot.py\u001b[0m in \u001b[0;36mimread\u001b[1;34m(fname, format)\u001b[0m\n\u001b[0;32m   2133\u001b[0m \u001b[1;33m@\u001b[0m\u001b[0mdocstring\u001b[0m\u001b[1;33m.\u001b[0m\u001b[0mcopy\u001b[0m\u001b[1;33m(\u001b[0m\u001b[0mmatplotlib\u001b[0m\u001b[1;33m.\u001b[0m\u001b[0mimage\u001b[0m\u001b[1;33m.\u001b[0m\u001b[0mimread\u001b[0m\u001b[1;33m)\u001b[0m\u001b[1;33m\u001b[0m\u001b[1;33m\u001b[0m\u001b[0m\n\u001b[0;32m   2134\u001b[0m \u001b[1;32mdef\u001b[0m \u001b[0mimread\u001b[0m\u001b[1;33m(\u001b[0m\u001b[0mfname\u001b[0m\u001b[1;33m,\u001b[0m \u001b[0mformat\u001b[0m\u001b[1;33m=\u001b[0m\u001b[1;32mNone\u001b[0m\u001b[1;33m)\u001b[0m\u001b[1;33m:\u001b[0m\u001b[1;33m\u001b[0m\u001b[1;33m\u001b[0m\u001b[0m\n\u001b[1;32m-> 2135\u001b[1;33m     \u001b[1;32mreturn\u001b[0m \u001b[0mmatplotlib\u001b[0m\u001b[1;33m.\u001b[0m\u001b[0mimage\u001b[0m\u001b[1;33m.\u001b[0m\u001b[0mimread\u001b[0m\u001b[1;33m(\u001b[0m\u001b[0mfname\u001b[0m\u001b[1;33m,\u001b[0m \u001b[0mformat\u001b[0m\u001b[1;33m)\u001b[0m\u001b[1;33m\u001b[0m\u001b[1;33m\u001b[0m\u001b[0m\n\u001b[0m\u001b[0;32m   2136\u001b[0m \u001b[1;33m\u001b[0m\u001b[0m\n\u001b[0;32m   2137\u001b[0m \u001b[1;33m\u001b[0m\u001b[0m\n",
      "\u001b[1;32mD:\\Anaconda_zzh\\lib\\site-packages\\matplotlib\\image.py\u001b[0m in \u001b[0;36mimread\u001b[1;34m(fname, format)\u001b[0m\n\u001b[0;32m   1415\u001b[0m                              \u001b[1;34m'with Pillow installed matplotlib can handle '\u001b[0m\u001b[1;33m\u001b[0m\u001b[1;33m\u001b[0m\u001b[0m\n\u001b[0;32m   1416\u001b[0m                              'more images' % list(handlers))\n\u001b[1;32m-> 1417\u001b[1;33m         \u001b[1;32mwith\u001b[0m \u001b[0mImage\u001b[0m\u001b[1;33m.\u001b[0m\u001b[0mopen\u001b[0m\u001b[1;33m(\u001b[0m\u001b[0mfname\u001b[0m\u001b[1;33m)\u001b[0m \u001b[1;32mas\u001b[0m \u001b[0mimage\u001b[0m\u001b[1;33m:\u001b[0m\u001b[1;33m\u001b[0m\u001b[1;33m\u001b[0m\u001b[0m\n\u001b[0m\u001b[0;32m   1418\u001b[0m             \u001b[1;32mreturn\u001b[0m \u001b[0mpil_to_array\u001b[0m\u001b[1;33m(\u001b[0m\u001b[0mimage\u001b[0m\u001b[1;33m)\u001b[0m\u001b[1;33m\u001b[0m\u001b[1;33m\u001b[0m\u001b[0m\n\u001b[0;32m   1419\u001b[0m \u001b[1;33m\u001b[0m\u001b[0m\n",
      "\u001b[1;32mD:\\Anaconda_zzh\\lib\\site-packages\\PIL\\Image.py\u001b[0m in \u001b[0;36mopen\u001b[1;34m(fp, mode)\u001b[0m\n\u001b[0;32m   2860\u001b[0m         \u001b[0mwarnings\u001b[0m\u001b[1;33m.\u001b[0m\u001b[0mwarn\u001b[0m\u001b[1;33m(\u001b[0m\u001b[0mmessage\u001b[0m\u001b[1;33m)\u001b[0m\u001b[1;33m\u001b[0m\u001b[1;33m\u001b[0m\u001b[0m\n\u001b[0;32m   2861\u001b[0m     raise UnidentifiedImageError(\n\u001b[1;32m-> 2862\u001b[1;33m         \u001b[1;34m\"cannot identify image file %r\"\u001b[0m \u001b[1;33m%\u001b[0m \u001b[1;33m(\u001b[0m\u001b[0mfilename\u001b[0m \u001b[1;32mif\u001b[0m \u001b[0mfilename\u001b[0m \u001b[1;32melse\u001b[0m \u001b[0mfp\u001b[0m\u001b[1;33m)\u001b[0m\u001b[1;33m\u001b[0m\u001b[1;33m\u001b[0m\u001b[0m\n\u001b[0m\u001b[0;32m   2863\u001b[0m     )\n\u001b[0;32m   2864\u001b[0m \u001b[1;33m\u001b[0m\u001b[0m\n",
      "\u001b[1;31mUnidentifiedImageError\u001b[0m: cannot identify image file 'C:\\\\Users\\\\huyia\\\\OneDrive\\\\Pictures\\\\Google Pictures\\\\42.png'"
     ]
    }
   ],
   "source": [
    "import matplotlib.image as mpimg\n",
    "for pic in pictures:\n",
    "    picd = plt.imread(pic,0)\n",
    "    vert, hori = picd.shape[:2]\n",
    "    size = os.path.getsize(pic)/1024\n",
    "    if size < 200:\n",
    "        ## 小于200KB的图片就删掉\n",
    "        os.remove(pic)\n"
   ]
  },
  {
   "cell_type": "code",
   "execution_count": 17,
   "metadata": {
    "collapsed": true
   },
   "outputs": [
    {
     "data": {
      "text/plain": [
       "'data:image/jpeg;base64,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'"
      ]
     },
     "execution_count": 17,
     "metadata": {},
     "output_type": "execute_result"
    }
   ],
   "source": [
    "driver = test.driver\n",
    "path = \"\"\"//*[@id=\"Sva75c\"]/div/div/div[3]/div[2]/c-wiz/div[1]/div[1]/div/div[2]/a/img\"\"\"\n",
    "url = driver.find_element_by_xpath(path).get_attribute('src')\n",
    "url"
   ]
  },
  {
   "cell_type": "code",
   "execution_count": 20,
   "metadata": {},
   "outputs": [
    {
     "data": {
      "text/plain": [
       "22"
      ]
     },
     "execution_count": 20,
     "metadata": {},
     "output_type": "execute_result"
    }
   ],
   "source": [
    "url.index(\",\")"
   ]
  },
  {
   "cell_type": "code",
   "execution_count": 21,
   "metadata": {},
   "outputs": [
    {
     "data": {
      "text/plain": [
       "22"
      ]
     },
     "execution_count": 21,
     "metadata": {},
     "output_type": "execute_result"
    }
   ],
   "source": [
    "len(\"data:image/jpeg;base64\")"
   ]
  },
  {
   "cell_type": "code",
   "execution_count": 23,
   "metadata": {},
   "outputs": [],
   "source": [
    "import base64\n",
    "pic = base64.b64decode(url[23:].replace(\"\\n\",\"\"))"
   ]
  },
  {
   "cell_type": "code",
   "execution_count": 27,
   "metadata": {},
   "outputs": [],
   "source": [
    "with open(f'100.jpg', 'wb') as f:\n",
    "    f.write(pic)"
   ]
  },
  {
   "cell_type": "code",
   "execution_count": 30,
   "metadata": {},
   "outputs": [],
   "source": [
    "## 打开tools\n",
    "driver.find_element_by_xpath(\"\"\"//*[@id=\"yDmH0d\"]/div[2]/c-wiz/div[1]/div/div[1]/div[2]/div[2]/div\"\"\").click()"
   ]
  },
  {
   "cell_type": "code",
   "execution_count": 31,
   "metadata": {},
   "outputs": [],
   "source": [
    "## 选择size\n",
    "driver.find_element_by_xpath(\"\"\"//*[@id=\"yDmH0d\"]/div[2]/c-wiz/div[2]/c-wiz[1]/div/div/div[2]/div/div[1]/div/div[1]\"\"\").click()"
   ]
  },
  {
   "cell_type": "code",
   "execution_count": 32,
   "metadata": {},
   "outputs": [],
   "source": [
    "size = {'any':\"\"\"//*[@id=\"yDmH0d\"]/div[2]/c-wiz/div[2]/c-wiz[1]/div/div/div[3]/div/span\"\"\", \n",
    "       \"large\":\"\"\"//*[@id=\"yDmH0d\"]/div[2]/c-wiz/div[2]/c-wiz[1]/div/div/div[3]/div/a[1]\"\"\", \n",
    "       \"medium\":\"\"\"//*[@id=\"yDmH0d\"]/div[2]/c-wiz/div[2]/c-wiz[1]/div/div/div[3]/div/a[2]\"\"\", \n",
    "       \"icon\":\"\"\"//*[@id=\"yDmH0d\"]/div[2]/c-wiz/div[2]/c-wiz[1]/div/div/div[3]/div/a[3]\"\"\"}\n",
    "path = size['large']\n",
    "driver.find_element_by_xpath(path).click()\n"
   ]
  },
  {
   "cell_type": "code",
   "execution_count": 47,
   "metadata": {},
   "outputs": [],
   "source": [
    "for i in range(1,200):\n",
    "    if i%50 == 0:\n",
    "        driver.execute_script(f\"var q=document.documentElement.scrollTop={i*50}\")\n",
    "    picture = driver.find_element_by_xpath(f\"\"\"//*[@id=\"islrg\"]/div[1]/div[{i}]/a[1]/div[1]/img\"\"\")\n",
    "    picture.click()\n",
    "    picture_path = \"\"\"//*[@id=\"Sva75c\"]/div/div/div[3]/div[2]/c-wiz/div[1]/div[1]/div/div[2]/a/img\"\"\"\n",
    "    \n",
    "    "
   ]
  },
  {
   "cell_type": "code",
   "execution_count": 45,
   "metadata": {},
   "outputs": [],
   "source": [
    "cnt = 1\n",
    "for picture in pictures:\n",
    "    print(picture)\n",
    "    \"\"\"pic = requests.get(url)\n",
    "    with open(f'{cnt}.jpg', 'wb') as f:\n",
    "        f.write(pic.content)\n",
    "    cnt += 1\"\"\"\n"
   ]
  },
  {
   "cell_type": "code",
   "execution_count": 65,
   "metadata": {},
   "outputs": [],
   "source": [
    "\n",
    "pictures = driver.find_elements_by_class_name(\"rg_i Q4LuWd tx8vtf\")"
   ]
  },
  {
   "cell_type": "code",
   "execution_count": 59,
   "metadata": {},
   "outputs": [],
   "source": [
    "url = pictures.get_attribute('href')\n",
    "pic = requests.get(url)\n",
    "with open(f'{cnt}.jpg', 'wb') as f:\n",
    "    f.write(pic.content)\n",
    "cnt += 1"
   ]
  },
  {
   "cell_type": "code",
   "execution_count": 67,
   "metadata": {},
   "outputs": [
    {
     "data": {
      "text/plain": [
       "0"
      ]
     },
     "execution_count": 67,
     "metadata": {},
     "output_type": "execute_result"
    }
   ],
   "source": [
    "len(pictures)"
   ]
  },
  {
   "cell_type": "code",
   "execution_count": 68,
   "metadata": {},
   "outputs": [],
   "source": [
    "i = 1\n",
    "picture = driver.find_element_by_xpath(f\"\"\"//*[@id=\"islrg\"]/div[1]/div[{i}]/a[1]/div[1]/img\"\"\")\n",
    "picture.click()"
   ]
  },
  {
   "cell_type": "code",
   "execution_count": 70,
   "metadata": {},
   "outputs": [],
   "source": [
    "path = \"\"\"//*[@id=\"Sva75c\"]/div/div/div[3]/div[2]/c-wiz/div[1]/div[1]/div/div[2]/a/img\"\"\"\n",
    "path = \"\"\"//*[@id=\"Sva75c\"]/div/div/div[3]/div[2]/c-wiz/div[1]/div[1]/div/div[2]/a/img\"\"\"\n",
    "url = driver.find_element_by_xpath(path).get_attribute('src')\n",
    "pic = requests.get(url)\n",
    "with open(f'{cnt}.jpg', 'wb') as f:\n",
    "    f.write(pic.content)"
   ]
  },
  {
   "cell_type": "code",
   "execution_count": null,
   "metadata": {},
   "outputs": [],
   "source": []
  }
 ],
 "metadata": {
  "kernelspec": {
   "display_name": "Python 3",
   "language": "python",
   "name": "python3"
  },
  "language_info": {
   "codemirror_mode": {
    "name": "ipython",
    "version": 3
   },
   "file_extension": ".py",
   "mimetype": "text/x-python",
   "name": "python",
   "nbconvert_exporter": "python",
   "pygments_lexer": "ipython3",
   "version": "3.7.6"
  }
 },
 "nbformat": 4,
 "nbformat_minor": 4
}
