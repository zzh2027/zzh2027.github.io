{
  "nbformat": 4,
  "nbformat_minor": 0,
  "metadata": {
    "colab": {
      "name": "Team4_Predictive_Model_Multi-class_Classification.ipynb",
      "provenance": [],
      "collapsed_sections": []
    },
    "kernelspec": {
      "name": "python3",
      "display_name": "Python 3"
    }
  },
  "cells": [
    {
      "cell_type": "markdown",
      "metadata": {
        "id": "eMKnmQq28pzW",
        "colab_type": "text"
      },
      "source": [
        "To begin with:\n",
        "1. Since some category is combined with '/' which means there are more than one primary product category. We manually created dummy variables for modeling. For example, if one record has two category, it will show both 1 under the two category column.\n",
        "2.Tried two modeling methods: 1)Random Forest 2)KNN. Both tried hyperparameter tunning.\n",
        "3. Fiting two kinds of models is due to fixing the issue of unbalance data. First is to predict whether the source is Costco; Second is to predict which source it is among Walmart, Sams Club, Sears and Target (Without data of Costco).\n"
      ]
    },
    {
      "cell_type": "code",
      "metadata": {
        "id": "D3i9aN9L6KK2",
        "colab_type": "code",
        "colab": {}
      },
      "source": [
        "# Import packages needed\n",
        "from google.colab import drive\n",
        "import os\n",
        "import pandas as pd\n",
        "import numpy as np\n",
        "from sklearn.model_selection import train_test_split\n",
        "import random\n",
        "from sklearn.ensemble import RandomForestClassifier\n",
        "from sklearn.model_selection import GridSearchCV \n",
        "from sklearn import metrics\n",
        "from sklearn.neighbors import KNeighborsClassifier\n",
        "from sklearn.model_selection import cross_val_score\n",
        "from sklearn.utils import shuffle\n",
        "from sklearn.metrics import multilabel_confusion_matrix\n",
        "from sklearn.metrics import confusion_matrix"
      ],
      "execution_count": 0,
      "outputs": []
    },
    {
      "cell_type": "markdown",
      "metadata": {
        "id": "Ijm242WU_cVi",
        "colab_type": "text"
      },
      "source": [
        "# Data Preparation"
      ]
    },
    {
      "cell_type": "code",
      "metadata": {
        "id": "9Z9LQfbHGMcl",
        "colab_type": "code",
        "outputId": "31f114eb-ab4e-43df-b00e-d3db8612bcce",
        "colab": {
          "base_uri": "https://localhost:8080/",
          "height": 33
        }
      },
      "source": [
        "from google.colab import drive\n",
        "drive.mount('/content/drive')"
      ],
      "execution_count": 0,
      "outputs": [
        {
          "output_type": "stream",
          "text": [
            "Mounted at /content/drive\n"
          ],
          "name": "stdout"
        }
      ]
    },
    {
      "cell_type": "code",
      "metadata": {
        "id": "FKZjEDtzzM_7",
        "colab_type": "code",
        "outputId": "fce75a93-1a8f-48ea-bd55-05b7ae118726",
        "colab": {
          "base_uri": "https://localhost:8080/",
          "height": 200
        }
      },
      "source": [
        "#direct to shared google drive\n",
        "os.chdir('/content/drive/Shared drives/Capstone - Team 4/FINAL SUBMISSIONS') # Your own path where you save the data\n",
        "os.listdir()"
      ],
      "execution_count": 0,
      "outputs": [
        {
          "output_type": "execute_result",
          "data": {
            "text/plain": [
              "['Team4_Predictive_Model_Multi-class_Classification.ipynb',\n",
              " 'Top_Seller_List.xlsx',\n",
              " 'Team4_Data_For_Predictive_Modeling.xlsx',\n",
              " 'Team4_Merged_12Amazon_and_Seller-Source_627823_Records.csv',\n",
              " 'Team4_Searchable_Database.csv',\n",
              " 'Team4_Search_Tool.ipynb',\n",
              " 'Team4_Brand_With_Category.csv',\n",
              " 'Team4_Seller_Locations(State & Country).csv',\n",
              " 'Team4_Extra_Data_Preprocessing_For_Seller_Level_Modeling.ipynb',\n",
              " 'Team4_Data Import(12 files) and Match with Seller_Source_4_NoDup.ipynb',\n",
              " 'Team4_Documentation.gdoc']"
            ]
          },
          "metadata": {
            "tags": []
          },
          "execution_count": 121
        }
      ]
    },
    {
      "cell_type": "code",
      "metadata": {
        "id": "Md-L1sDazwQf",
        "colab_type": "code",
        "outputId": "41dde2ec-73d4-4508-e0b3-999bc53f72fe",
        "colab": {
          "base_uri": "https://localhost:8080/",
          "height": 484
        }
      },
      "source": [
        "# Load data for modeling\n",
        "df = pd.read_excel('Team4_Data_For_Predictive_Modeling.xlsx')\n",
        "# Take a look of the original data\n",
        "df.head()"
      ],
      "execution_count": 0,
      "outputs": [
        {
          "output_type": "execute_result",
          "data": {
            "text/html": [
              "<div>\n",
              "<style scoped>\n",
              "    .dataframe tbody tr th:only-of-type {\n",
              "        vertical-align: middle;\n",
              "    }\n",
              "\n",
              "    .dataframe tbody tr th {\n",
              "        vertical-align: top;\n",
              "    }\n",
              "\n",
              "    .dataframe thead th {\n",
              "        text-align: right;\n",
              "    }\n",
              "</style>\n",
              "<table border=\"1\" class=\"dataframe\">\n",
              "  <thead>\n",
              "    <tr style=\"text-align: right;\">\n",
              "      <th></th>\n",
              "      <th>Unnamed: 0</th>\n",
              "      <th>Index</th>\n",
              "      <th>Url</th>\n",
              "      <th>Seller_name</th>\n",
              "      <th>Seller_url</th>\n",
              "      <th>Brand_name</th>\n",
              "      <th>Brand_url</th>\n",
              "      <th>listing_count</th>\n",
              "      <th>Marketplace</th>\n",
              "      <th>Sources</th>\n",
              "      <th>Category</th>\n",
              "      <th>Product_names</th>\n",
              "      <th>Brand_average_rating</th>\n",
              "      <th>Number_of_customer_review</th>\n",
              "    </tr>\n",
              "  </thead>\n",
              "  <tbody>\n",
              "    <tr>\n",
              "      <th>0</th>\n",
              "      <td>80000.0</td>\n",
              "      <td>141725</td>\n",
              "      <td>https://www.amazon.com/gp/search/other/ref=sr_...</td>\n",
              "      <td>point and ship</td>\n",
              "      <td>https://www.amazon.com/s/ref=sr_hi_1?me=A3SWC7...</td>\n",
              "      <td>OTC</td>\n",
              "      <td>https://www.amazon.com/s/ref=sr_in_o_p_4_38?me...</td>\n",
              "      <td>3</td>\n",
              "      <td>Amazon.com</td>\n",
              "      <td>walmart</td>\n",
              "      <td>Automative Parts &amp; Accessories</td>\n",
              "      <td>['OTC 6660 Compression Tester Adapter', 'OTC (...</td>\n",
              "      <td>4.7</td>\n",
              "      <td>25.0</td>\n",
              "    </tr>\n",
              "    <tr>\n",
              "      <th>1</th>\n",
              "      <td>80001.0</td>\n",
              "      <td>141726</td>\n",
              "      <td>https://www.amazon.com/gp/search/other/ref=sr_...</td>\n",
              "      <td>point and ship</td>\n",
              "      <td>https://www.amazon.com/s/ref=sr_hi_1?me=A3SWC7...</td>\n",
              "      <td>OTC</td>\n",
              "      <td>https://www.amazon.com/s/ref=sr_in_o_p_4_38?me...</td>\n",
              "      <td>3</td>\n",
              "      <td>Amazon.com</td>\n",
              "      <td>sams club</td>\n",
              "      <td>Automative Parts &amp; Accessories</td>\n",
              "      <td>['OTC 6660 Compression Tester Adapter', 'OTC (...</td>\n",
              "      <td>4.7</td>\n",
              "      <td>25.0</td>\n",
              "    </tr>\n",
              "    <tr>\n",
              "      <th>2</th>\n",
              "      <td>80002.0</td>\n",
              "      <td>154772</td>\n",
              "      <td>https://www.amazon.com/gp/search/other/ref=sr_...</td>\n",
              "      <td>gatzies</td>\n",
              "      <td>https://www.amazon.com/s/ref=sr_hi_1?me=A3TX4Y...</td>\n",
              "      <td>OTC</td>\n",
              "      <td>https://www.amazon.com/s/ref=sr_in_o_p_4_268?m...</td>\n",
              "      <td>1</td>\n",
              "      <td>Amazon.com</td>\n",
              "      <td>costco</td>\n",
              "      <td>Automative Parts &amp; Accessories</td>\n",
              "      <td>['150 Count Multicolored Flexible Plastic Stra...</td>\n",
              "      <td>3.6</td>\n",
              "      <td>5.0</td>\n",
              "    </tr>\n",
              "    <tr>\n",
              "      <th>3</th>\n",
              "      <td>80003.0</td>\n",
              "      <td>161321</td>\n",
              "      <td>https://www.amazon.com/gp/search/other/ref=sr_...</td>\n",
              "      <td>bw direct</td>\n",
              "      <td>https://www.amazon.com/s/ref=sr_hi_1?me=A3UKOA...</td>\n",
              "      <td>OTC</td>\n",
              "      <td>https://www.amazon.com/s/ref=sr_in_o_p_4_2?me=...</td>\n",
              "      <td>1</td>\n",
              "      <td>Amazon.com</td>\n",
              "      <td>sears</td>\n",
              "      <td>Automative Parts &amp; Accessories</td>\n",
              "      <td>['OTC 4600 Punch and Chisel Set - 16 Piece']</td>\n",
              "      <td>4.2</td>\n",
              "      <td>47.0</td>\n",
              "    </tr>\n",
              "    <tr>\n",
              "      <th>4</th>\n",
              "      <td>80005.0</td>\n",
              "      <td>183139</td>\n",
              "      <td>https://www.amazon.com/gp/search/other/ref=sr_...</td>\n",
              "      <td>isale-usave (usa)</td>\n",
              "      <td>https://www.amazon.com/s/ref=sr_hi_1?me=A8JAGP...</td>\n",
              "      <td>OTC</td>\n",
              "      <td>https://www.amazon.com/s/ref=sr_in_o_p_4_8?me=...</td>\n",
              "      <td>2</td>\n",
              "      <td>Amazon.com</td>\n",
              "      <td>costco</td>\n",
              "      <td>Automative Parts &amp; Accessories</td>\n",
              "      <td>['OTC Dancing Monkey: Solar Powered Novelty To...</td>\n",
              "      <td>3.9</td>\n",
              "      <td>190.0</td>\n",
              "    </tr>\n",
              "  </tbody>\n",
              "</table>\n",
              "</div>"
            ],
            "text/plain": [
              "   Unnamed: 0   Index  ... Brand_average_rating Number_of_customer_review\n",
              "0     80000.0  141725  ...                  4.7                      25.0\n",
              "1     80001.0  141726  ...                  4.7                      25.0\n",
              "2     80002.0  154772  ...                  3.6                       5.0\n",
              "3     80003.0  161321  ...                  4.2                      47.0\n",
              "4     80005.0  183139  ...                  3.9                     190.0\n",
              "\n",
              "[5 rows x 14 columns]"
            ]
          },
          "metadata": {
            "tags": []
          },
          "execution_count": 122
        }
      ]
    },
    {
      "cell_type": "code",
      "metadata": {
        "id": "QeSaHJag9wNq",
        "colab_type": "code",
        "colab": {}
      },
      "source": [
        "# Select variables for modeling\n",
        "df = df[['Sources','Category','Brand_average_rating','Number_of_customer_review']]\n",
        "# For easy aggregation, convert all strings to lower cases\n",
        "df['Category']=df['Category'].str.lower()"
      ],
      "execution_count": 0,
      "outputs": []
    },
    {
      "cell_type": "code",
      "metadata": {
        "id": "aybjjENOulF8",
        "colab_type": "code",
        "outputId": "131b2265-3cf0-4978-8ea6-5e9a00105eb6",
        "colab": {
          "base_uri": "https://localhost:8080/",
          "height": 416
        }
      },
      "source": [
        "# Since categries are strings, we need to create dummy variables for the categry variable.\n",
        "# First, look at how many categories there are.\n",
        "df['Category'].unique()"
      ],
      "execution_count": 0,
      "outputs": [
        {
          "output_type": "execute_result",
          "data": {
            "text/plain": [
              "array(['automative parts & accessories',\n",
              "       'tools & home improvement / appliance', 'sports & outdoors',\n",
              "       'health, household & baby care', 'home & kitchen',\n",
              "       'beauty & personal care', 'pet supplies', 'garden & outdoor',\n",
              "       'toys & games', 'clothing, shoes & jewelry', 'office product',\n",
              "       'grocery & gourmet food', 'industrial & scientific', 'electronics',\n",
              "       'health, household & baby care / beauty & personal care',\n",
              "       'tools & home improvement', 'baby', 'arts, crafts & sewing',\n",
              "       'health, household & baby care / industrial & scientific',\n",
              "       'cell phones & accessories', 'sports & outdoors / toys & games',\n",
              "       'office product / arts, crafts & sewing',\n",
              "       'baby / pet supplies / toys & games',\n",
              "       'sports & outdoors / garden & outdoor',\n",
              "       'electronics / office product',\n",
              "       'home & kitchen / industrial & scientific / baby',\n",
              "       'tools & home improvement / office product',\n",
              "       'home & kitchen / tools & home improvement',\n",
              "       'industrial & scientific / automative parts & accessories',\n",
              "       'tools & home improvement / pet supplies',\n",
              "       'tools & home improvement / garden & outdoor', 'appliance',\n",
              "       'home & kitchen / sports & outdoors / electronics',\n",
              "       'automative parts & accessories / appliance',\n",
              "       'health, household & baby care / tools & home improvement'],\n",
              "      dtype=object)"
            ]
          },
          "metadata": {
            "tags": []
          },
          "execution_count": 124
        }
      ]
    },
    {
      "cell_type": "code",
      "metadata": {
        "id": "bTr5Y64BREzN",
        "colab_type": "code",
        "colab": {}
      },
      "source": [
        "# Define a function to create dummy variables for the category variable\n",
        "def create_dummy(df):\n",
        "    # List all categories\n",
        "    All_category_names = ['clothing, shoes & jewelry','home & kitchen','sports & outdoors','health, household & baby care','tools & home improvement','industrial & scientific','electronics','grocery & gourmet food',\n",
        "                            'baby','office product','beauty & personal care','pet supplies','garden & outdoor','cell phones & accessories','automative parts & accessories','arts, crafts & sewing','toys & games','appliance']\n",
        "\n",
        "    # Create columns for dummy variables\n",
        "    for i in All_category_names:\n",
        "        df[i] = ''\n",
        "    # Create dummy variables for category mannully\n",
        "    for index, row in df.iterrows():\n",
        "        category = row['Category']\n",
        "        if '/' in category:\n",
        "            category = category.split('/')\n",
        "            category = [x.strip(' ') for x in category]\n",
        "        else:\n",
        "            category = [category]\n",
        "        dummy = [x in category for x in All_category_names]\n",
        "        dummy_final = list(map(int, dummy))\n",
        "        # Put it back to the dataframe\n",
        "        for count, ele in enumerate(All_category_names):\n",
        "            df[ele][index] = dummy_final[count]\n",
        "    return df"
      ],
      "execution_count": 0,
      "outputs": []
    },
    {
      "cell_type": "code",
      "metadata": {
        "id": "HpMCt_vFoaK7",
        "colab_type": "code",
        "outputId": "87c6926a-c8ed-4082-b718-0a60db589532",
        "colab": {
          "base_uri": "https://localhost:8080/",
          "height": 773
        }
      },
      "source": [
        "# Call the function to process the dataframe\n",
        "create_dummy(df)"
      ],
      "execution_count": 0,
      "outputs": [
        {
          "output_type": "stream",
          "text": [
            "/usr/local/lib/python3.6/dist-packages/ipykernel_launcher.py:21: SettingWithCopyWarning: \n",
            "A value is trying to be set on a copy of a slice from a DataFrame\n",
            "\n",
            "See the caveats in the documentation: https://pandas.pydata.org/pandas-docs/stable/user_guide/indexing.html#returning-a-view-versus-a-copy\n"
          ],
          "name": "stderr"
        },
        {
          "output_type": "execute_result",
          "data": {
            "text/html": [
              "<div>\n",
              "<style scoped>\n",
              "    .dataframe tbody tr th:only-of-type {\n",
              "        vertical-align: middle;\n",
              "    }\n",
              "\n",
              "    .dataframe tbody tr th {\n",
              "        vertical-align: top;\n",
              "    }\n",
              "\n",
              "    .dataframe thead th {\n",
              "        text-align: right;\n",
              "    }\n",
              "</style>\n",
              "<table border=\"1\" class=\"dataframe\">\n",
              "  <thead>\n",
              "    <tr style=\"text-align: right;\">\n",
              "      <th></th>\n",
              "      <th>Sources</th>\n",
              "      <th>Category</th>\n",
              "      <th>Brand_average_rating</th>\n",
              "      <th>Number_of_customer_review</th>\n",
              "      <th>clothing, shoes &amp; jewelry</th>\n",
              "      <th>home &amp; kitchen</th>\n",
              "      <th>sports &amp; outdoors</th>\n",
              "      <th>health, household &amp; baby care</th>\n",
              "      <th>tools &amp; home improvement</th>\n",
              "      <th>industrial &amp; scientific</th>\n",
              "      <th>electronics</th>\n",
              "      <th>grocery &amp; gourmet food</th>\n",
              "      <th>baby</th>\n",
              "      <th>office product</th>\n",
              "      <th>beauty &amp; personal care</th>\n",
              "      <th>pet supplies</th>\n",
              "      <th>garden &amp; outdoor</th>\n",
              "      <th>cell phones &amp; accessories</th>\n",
              "      <th>automative parts &amp; accessories</th>\n",
              "      <th>arts, crafts &amp; sewing</th>\n",
              "      <th>toys &amp; games</th>\n",
              "      <th>appliance</th>\n",
              "    </tr>\n",
              "  </thead>\n",
              "  <tbody>\n",
              "    <tr>\n",
              "      <th>0</th>\n",
              "      <td>walmart</td>\n",
              "      <td>automative parts &amp; accessories</td>\n",
              "      <td>4.70</td>\n",
              "      <td>25.0</td>\n",
              "      <td>0</td>\n",
              "      <td>0</td>\n",
              "      <td>0</td>\n",
              "      <td>0</td>\n",
              "      <td>0</td>\n",
              "      <td>0</td>\n",
              "      <td>0</td>\n",
              "      <td>0</td>\n",
              "      <td>0</td>\n",
              "      <td>0</td>\n",
              "      <td>0</td>\n",
              "      <td>0</td>\n",
              "      <td>0</td>\n",
              "      <td>0</td>\n",
              "      <td>1</td>\n",
              "      <td>0</td>\n",
              "      <td>0</td>\n",
              "      <td>0</td>\n",
              "    </tr>\n",
              "    <tr>\n",
              "      <th>1</th>\n",
              "      <td>sams club</td>\n",
              "      <td>automative parts &amp; accessories</td>\n",
              "      <td>4.70</td>\n",
              "      <td>25.0</td>\n",
              "      <td>0</td>\n",
              "      <td>0</td>\n",
              "      <td>0</td>\n",
              "      <td>0</td>\n",
              "      <td>0</td>\n",
              "      <td>0</td>\n",
              "      <td>0</td>\n",
              "      <td>0</td>\n",
              "      <td>0</td>\n",
              "      <td>0</td>\n",
              "      <td>0</td>\n",
              "      <td>0</td>\n",
              "      <td>0</td>\n",
              "      <td>0</td>\n",
              "      <td>1</td>\n",
              "      <td>0</td>\n",
              "      <td>0</td>\n",
              "      <td>0</td>\n",
              "    </tr>\n",
              "    <tr>\n",
              "      <th>2</th>\n",
              "      <td>costco</td>\n",
              "      <td>automative parts &amp; accessories</td>\n",
              "      <td>3.60</td>\n",
              "      <td>5.0</td>\n",
              "      <td>0</td>\n",
              "      <td>0</td>\n",
              "      <td>0</td>\n",
              "      <td>0</td>\n",
              "      <td>0</td>\n",
              "      <td>0</td>\n",
              "      <td>0</td>\n",
              "      <td>0</td>\n",
              "      <td>0</td>\n",
              "      <td>0</td>\n",
              "      <td>0</td>\n",
              "      <td>0</td>\n",
              "      <td>0</td>\n",
              "      <td>0</td>\n",
              "      <td>1</td>\n",
              "      <td>0</td>\n",
              "      <td>0</td>\n",
              "      <td>0</td>\n",
              "    </tr>\n",
              "    <tr>\n",
              "      <th>3</th>\n",
              "      <td>sears</td>\n",
              "      <td>automative parts &amp; accessories</td>\n",
              "      <td>4.20</td>\n",
              "      <td>47.0</td>\n",
              "      <td>0</td>\n",
              "      <td>0</td>\n",
              "      <td>0</td>\n",
              "      <td>0</td>\n",
              "      <td>0</td>\n",
              "      <td>0</td>\n",
              "      <td>0</td>\n",
              "      <td>0</td>\n",
              "      <td>0</td>\n",
              "      <td>0</td>\n",
              "      <td>0</td>\n",
              "      <td>0</td>\n",
              "      <td>0</td>\n",
              "      <td>0</td>\n",
              "      <td>1</td>\n",
              "      <td>0</td>\n",
              "      <td>0</td>\n",
              "      <td>0</td>\n",
              "    </tr>\n",
              "    <tr>\n",
              "      <th>4</th>\n",
              "      <td>costco</td>\n",
              "      <td>automative parts &amp; accessories</td>\n",
              "      <td>3.90</td>\n",
              "      <td>190.0</td>\n",
              "      <td>0</td>\n",
              "      <td>0</td>\n",
              "      <td>0</td>\n",
              "      <td>0</td>\n",
              "      <td>0</td>\n",
              "      <td>0</td>\n",
              "      <td>0</td>\n",
              "      <td>0</td>\n",
              "      <td>0</td>\n",
              "      <td>0</td>\n",
              "      <td>0</td>\n",
              "      <td>0</td>\n",
              "      <td>0</td>\n",
              "      <td>0</td>\n",
              "      <td>1</td>\n",
              "      <td>0</td>\n",
              "      <td>0</td>\n",
              "      <td>0</td>\n",
              "    </tr>\n",
              "    <tr>\n",
              "      <th>...</th>\n",
              "      <td>...</td>\n",
              "      <td>...</td>\n",
              "      <td>...</td>\n",
              "      <td>...</td>\n",
              "      <td>...</td>\n",
              "      <td>...</td>\n",
              "      <td>...</td>\n",
              "      <td>...</td>\n",
              "      <td>...</td>\n",
              "      <td>...</td>\n",
              "      <td>...</td>\n",
              "      <td>...</td>\n",
              "      <td>...</td>\n",
              "      <td>...</td>\n",
              "      <td>...</td>\n",
              "      <td>...</td>\n",
              "      <td>...</td>\n",
              "      <td>...</td>\n",
              "      <td>...</td>\n",
              "      <td>...</td>\n",
              "      <td>...</td>\n",
              "      <td>...</td>\n",
              "    </tr>\n",
              "    <tr>\n",
              "      <th>2257</th>\n",
              "      <td>costco</td>\n",
              "      <td>toys &amp; games</td>\n",
              "      <td>4.50</td>\n",
              "      <td>4314.0</td>\n",
              "      <td>0</td>\n",
              "      <td>0</td>\n",
              "      <td>0</td>\n",
              "      <td>0</td>\n",
              "      <td>0</td>\n",
              "      <td>0</td>\n",
              "      <td>0</td>\n",
              "      <td>0</td>\n",
              "      <td>0</td>\n",
              "      <td>0</td>\n",
              "      <td>0</td>\n",
              "      <td>0</td>\n",
              "      <td>0</td>\n",
              "      <td>0</td>\n",
              "      <td>0</td>\n",
              "      <td>0</td>\n",
              "      <td>1</td>\n",
              "      <td>0</td>\n",
              "    </tr>\n",
              "    <tr>\n",
              "      <th>2258</th>\n",
              "      <td>costco</td>\n",
              "      <td>arts, crafts &amp; sewing</td>\n",
              "      <td>4.45</td>\n",
              "      <td>692.0</td>\n",
              "      <td>0</td>\n",
              "      <td>0</td>\n",
              "      <td>0</td>\n",
              "      <td>0</td>\n",
              "      <td>0</td>\n",
              "      <td>0</td>\n",
              "      <td>0</td>\n",
              "      <td>0</td>\n",
              "      <td>0</td>\n",
              "      <td>0</td>\n",
              "      <td>0</td>\n",
              "      <td>0</td>\n",
              "      <td>0</td>\n",
              "      <td>0</td>\n",
              "      <td>0</td>\n",
              "      <td>1</td>\n",
              "      <td>0</td>\n",
              "      <td>0</td>\n",
              "    </tr>\n",
              "    <tr>\n",
              "      <th>2259</th>\n",
              "      <td>costco</td>\n",
              "      <td>arts, crafts &amp; sewing</td>\n",
              "      <td>4.50</td>\n",
              "      <td>32.0</td>\n",
              "      <td>0</td>\n",
              "      <td>0</td>\n",
              "      <td>0</td>\n",
              "      <td>0</td>\n",
              "      <td>0</td>\n",
              "      <td>0</td>\n",
              "      <td>0</td>\n",
              "      <td>0</td>\n",
              "      <td>0</td>\n",
              "      <td>0</td>\n",
              "      <td>0</td>\n",
              "      <td>0</td>\n",
              "      <td>0</td>\n",
              "      <td>0</td>\n",
              "      <td>0</td>\n",
              "      <td>1</td>\n",
              "      <td>0</td>\n",
              "      <td>0</td>\n",
              "    </tr>\n",
              "    <tr>\n",
              "      <th>2260</th>\n",
              "      <td>walmart</td>\n",
              "      <td>arts, crafts &amp; sewing</td>\n",
              "      <td>5.00</td>\n",
              "      <td>1.0</td>\n",
              "      <td>0</td>\n",
              "      <td>0</td>\n",
              "      <td>0</td>\n",
              "      <td>0</td>\n",
              "      <td>0</td>\n",
              "      <td>0</td>\n",
              "      <td>0</td>\n",
              "      <td>0</td>\n",
              "      <td>0</td>\n",
              "      <td>0</td>\n",
              "      <td>0</td>\n",
              "      <td>0</td>\n",
              "      <td>0</td>\n",
              "      <td>0</td>\n",
              "      <td>0</td>\n",
              "      <td>1</td>\n",
              "      <td>0</td>\n",
              "      <td>0</td>\n",
              "    </tr>\n",
              "    <tr>\n",
              "      <th>2261</th>\n",
              "      <td>costco</td>\n",
              "      <td>arts, crafts &amp; sewing</td>\n",
              "      <td>4.75</td>\n",
              "      <td>1336.0</td>\n",
              "      <td>0</td>\n",
              "      <td>0</td>\n",
              "      <td>0</td>\n",
              "      <td>0</td>\n",
              "      <td>0</td>\n",
              "      <td>0</td>\n",
              "      <td>0</td>\n",
              "      <td>0</td>\n",
              "      <td>0</td>\n",
              "      <td>0</td>\n",
              "      <td>0</td>\n",
              "      <td>0</td>\n",
              "      <td>0</td>\n",
              "      <td>0</td>\n",
              "      <td>0</td>\n",
              "      <td>1</td>\n",
              "      <td>0</td>\n",
              "      <td>0</td>\n",
              "    </tr>\n",
              "  </tbody>\n",
              "</table>\n",
              "<p>2262 rows × 22 columns</p>\n",
              "</div>"
            ],
            "text/plain": [
              "        Sources                        Category  ...  toys & games  appliance\n",
              "0       walmart  automative parts & accessories  ...             0          0\n",
              "1     sams club  automative parts & accessories  ...             0          0\n",
              "2        costco  automative parts & accessories  ...             0          0\n",
              "3         sears  automative parts & accessories  ...             0          0\n",
              "4        costco  automative parts & accessories  ...             0          0\n",
              "...         ...                             ...  ...           ...        ...\n",
              "2257     costco                    toys & games  ...             1          0\n",
              "2258     costco           arts, crafts & sewing  ...             0          0\n",
              "2259     costco           arts, crafts & sewing  ...             0          0\n",
              "2260    walmart           arts, crafts & sewing  ...             0          0\n",
              "2261     costco           arts, crafts & sewing  ...             0          0\n",
              "\n",
              "[2262 rows x 22 columns]"
            ]
          },
          "metadata": {
            "tags": []
          },
          "execution_count": 126
        }
      ]
    },
    {
      "cell_type": "code",
      "metadata": {
        "id": "mBFAeKfnMxHb",
        "colab_type": "code",
        "colab": {}
      },
      "source": [
        "# Drop the original category variable\n",
        "df = df.drop(['Category'], axis=1)\n",
        "# Drop missing value\n",
        "df=df.dropna()"
      ],
      "execution_count": 0,
      "outputs": []
    },
    {
      "cell_type": "code",
      "metadata": {
        "id": "x_vdTiocrdM0",
        "colab_type": "code",
        "outputId": "2fdec133-b3b7-40b4-81ca-778e4ef48758",
        "colab": {
          "base_uri": "https://localhost:8080/",
          "height": 497
        }
      },
      "source": [
        "# Take a look of the target variable to decide how to sample the data\n",
        "df.groupby(['Sources']).agg({'Sources':'count'})"
      ],
      "execution_count": 0,
      "outputs": [
        {
          "output_type": "execute_result",
          "data": {
            "text/html": [
              "<div>\n",
              "<style scoped>\n",
              "    .dataframe tbody tr th:only-of-type {\n",
              "        vertical-align: middle;\n",
              "    }\n",
              "\n",
              "    .dataframe tbody tr th {\n",
              "        vertical-align: top;\n",
              "    }\n",
              "\n",
              "    .dataframe thead th {\n",
              "        text-align: right;\n",
              "    }\n",
              "</style>\n",
              "<table border=\"1\" class=\"dataframe\">\n",
              "  <thead>\n",
              "    <tr style=\"text-align: right;\">\n",
              "      <th></th>\n",
              "      <th>Sources</th>\n",
              "    </tr>\n",
              "    <tr>\n",
              "      <th>Sources</th>\n",
              "      <th></th>\n",
              "    </tr>\n",
              "  </thead>\n",
              "  <tbody>\n",
              "    <tr>\n",
              "      <th>amazon.com.indc llc</th>\n",
              "      <td>1</td>\n",
              "    </tr>\n",
              "    <tr>\n",
              "      <th>best buy</th>\n",
              "      <td>7</td>\n",
              "    </tr>\n",
              "    <tr>\n",
              "      <th>bj's wholesale</th>\n",
              "      <td>4</td>\n",
              "    </tr>\n",
              "    <tr>\n",
              "      <th>costco</th>\n",
              "      <td>1584</td>\n",
              "    </tr>\n",
              "    <tr>\n",
              "      <th>home depot</th>\n",
              "      <td>1</td>\n",
              "    </tr>\n",
              "    <tr>\n",
              "      <th>ingram micro</th>\n",
              "      <td>6</td>\n",
              "    </tr>\n",
              "    <tr>\n",
              "      <th>lowes</th>\n",
              "      <td>10</td>\n",
              "    </tr>\n",
              "    <tr>\n",
              "      <th>lowes.(canada)</th>\n",
              "      <td>1</td>\n",
              "    </tr>\n",
              "    <tr>\n",
              "      <th>office depot</th>\n",
              "      <td>1</td>\n",
              "    </tr>\n",
              "    <tr>\n",
              "      <th>sams club</th>\n",
              "      <td>125</td>\n",
              "    </tr>\n",
              "    <tr>\n",
              "      <th>sears</th>\n",
              "      <td>281</td>\n",
              "    </tr>\n",
              "    <tr>\n",
              "      <th>target</th>\n",
              "      <td>40</td>\n",
              "    </tr>\n",
              "    <tr>\n",
              "      <th>vitacost.com</th>\n",
              "      <td>2</td>\n",
              "    </tr>\n",
              "    <tr>\n",
              "      <th>walmart</th>\n",
              "      <td>141</td>\n",
              "    </tr>\n",
              "  </tbody>\n",
              "</table>\n",
              "</div>"
            ],
            "text/plain": [
              "                     Sources\n",
              "Sources                     \n",
              "amazon.com.indc llc        1\n",
              "best buy                   7\n",
              "bj's wholesale             4\n",
              "costco                  1584\n",
              "home depot                 1\n",
              "ingram micro               6\n",
              "lowes                     10\n",
              "lowes.(canada)             1\n",
              "office depot               1\n",
              "sams club                125\n",
              "sears                    281\n",
              "target                    40\n",
              "vitacost.com               2\n",
              "walmart                  141"
            ]
          },
          "metadata": {
            "tags": []
          },
          "execution_count": 128
        }
      ]
    },
    {
      "cell_type": "markdown",
      "metadata": {
        "id": "_tbYWbrm52kE",
        "colab_type": "text"
      },
      "source": [
        "# Predicting is the source Costco?"
      ]
    },
    {
      "cell_type": "markdown",
      "metadata": {
        "id": "MI0IjCOA5s3u",
        "colab_type": "text"
      },
      "source": [
        "### Data Preprocessing"
      ]
    },
    {
      "cell_type": "code",
      "metadata": {
        "id": "o0FNtnJ27lZH",
        "colab_type": "code",
        "colab": {}
      },
      "source": [
        "# Copy the original dataframe\n",
        "df1=df\n",
        "# Append a new column as dummy variable indicating if this brand sourced from Costco\n",
        "a=[]\n",
        "for index, row in df1.iterrows():\n",
        "  if row['Sources']=='costco':\n",
        "    a.append(1)\n",
        "  else:\n",
        "    a.append(0)\n",
        "df1['If Costco']=a\n",
        "\n",
        "\n",
        "# Shuffle data to keep the data random\n",
        "df1=shuffle(df1)"
      ],
      "execution_count": 0,
      "outputs": []
    },
    {
      "cell_type": "markdown",
      "metadata": {
        "id": "iEpWCnyRLq8i",
        "colab_type": "text"
      },
      "source": [
        "### Modeling\n"
      ]
    },
    {
      "cell_type": "code",
      "metadata": {
        "id": "K3QCqf2bs9h0",
        "colab_type": "code",
        "outputId": "124a1d39-b9d4-4947-a5a2-5487a0483281",
        "colab": {
          "base_uri": "https://localhost:8080/",
          "height": 50
        }
      },
      "source": [
        "# Prepare features and target variable\n",
        "X = df1.iloc[:,1:-2]\n",
        "y = df1['If Costco']\n",
        "\n",
        "# Split data to training and validation partitions\n",
        "X_train, X_test, y_train, y_test = train_test_split(X, y, train_size=0.8, random_state=123)\n",
        "print(X_train.shape)\n",
        "print(X_test.shape)"
      ],
      "execution_count": 0,
      "outputs": [
        {
          "output_type": "stream",
          "text": [
            "(1763, 19)\n",
            "(441, 19)\n"
          ],
          "name": "stdout"
        }
      ]
    },
    {
      "cell_type": "markdown",
      "metadata": {
        "id": "5rzw8D8UdogH",
        "colab_type": "text"
      },
      "source": [
        "#### Random Forest Model on **all dataset**"
      ]
    },
    {
      "cell_type": "code",
      "metadata": {
        "id": "sHsJpWjytFZb",
        "colab_type": "code",
        "outputId": "6e44c9a8-3cbc-4cb5-d2f5-c982afeb8216",
        "colab": {
          "base_uri": "https://localhost:8080/",
          "height": 50
        }
      },
      "source": [
        "# Fit a random forest model with hyper parameters tuning\n",
        "rfc = RandomForestClassifier(random_state = 2020, n_jobs=-1, oob_score = True) ## max_features= 'sqrt' ,n_estimators=50\n",
        "param_grid = { \n",
        "    'n_estimators': [800, 850],\n",
        "    'max_features': ['auto', 'log2'], \n",
        "    'class_weight': ['balanced', 'balanced_subsample']\n",
        "}## max_features: 'sqrt' works the same as 'auto'\n",
        "#\n",
        "#\n",
        "CV_rfc = GridSearchCV(estimator=rfc, param_grid=param_grid, cv= 5)\n",
        "RF_model = CV_rfc.fit(X_train, y_train)\n",
        "print(CV_rfc.best_params_)\n",
        "y_pred_73 = RF_model.predict(X_test)\n",
        "print('The Accuracy for test is:', metrics.accuracy_score(y_test, y_pred_73))"
      ],
      "execution_count": 0,
      "outputs": [
        {
          "output_type": "stream",
          "text": [
            "{'class_weight': 'balanced', 'max_features': 'auto', 'n_estimators': 800}\n",
            "The Accuracy for test is: 0.7074829931972789\n"
          ],
          "name": "stdout"
        }
      ]
    },
    {
      "cell_type": "markdown",
      "metadata": {
        "id": "CNqvV21nNL2-",
        "colab_type": "text"
      },
      "source": [
        "##### Confusion Matrix"
      ]
    },
    {
      "cell_type": "code",
      "metadata": {
        "id": "9tUDri4oNPd9",
        "colab_type": "code",
        "outputId": "4ba39397-74cd-4596-8baf-c7fb56b775bf",
        "colab": {
          "base_uri": "https://localhost:8080/",
          "height": 167
        }
      },
      "source": [
        "ConfusionMatrix = confusion_matrix(y_test, y_pred_73)\n",
        "pd.crosstab(y_test, y_pred_73, rownames=['True'], colnames=['Predicted'], margins=True)"
      ],
      "execution_count": 0,
      "outputs": [
        {
          "output_type": "execute_result",
          "data": {
            "text/html": [
              "<div>\n",
              "<style scoped>\n",
              "    .dataframe tbody tr th:only-of-type {\n",
              "        vertical-align: middle;\n",
              "    }\n",
              "\n",
              "    .dataframe tbody tr th {\n",
              "        vertical-align: top;\n",
              "    }\n",
              "\n",
              "    .dataframe thead th {\n",
              "        text-align: right;\n",
              "    }\n",
              "</style>\n",
              "<table border=\"1\" class=\"dataframe\">\n",
              "  <thead>\n",
              "    <tr style=\"text-align: right;\">\n",
              "      <th>Predicted</th>\n",
              "      <th>0</th>\n",
              "      <th>1</th>\n",
              "      <th>All</th>\n",
              "    </tr>\n",
              "    <tr>\n",
              "      <th>True</th>\n",
              "      <th></th>\n",
              "      <th></th>\n",
              "      <th></th>\n",
              "    </tr>\n",
              "  </thead>\n",
              "  <tbody>\n",
              "    <tr>\n",
              "      <th>0</th>\n",
              "      <td>59</td>\n",
              "      <td>53</td>\n",
              "      <td>112</td>\n",
              "    </tr>\n",
              "    <tr>\n",
              "      <th>1</th>\n",
              "      <td>76</td>\n",
              "      <td>253</td>\n",
              "      <td>329</td>\n",
              "    </tr>\n",
              "    <tr>\n",
              "      <th>All</th>\n",
              "      <td>135</td>\n",
              "      <td>306</td>\n",
              "      <td>441</td>\n",
              "    </tr>\n",
              "  </tbody>\n",
              "</table>\n",
              "</div>"
            ],
            "text/plain": [
              "Predicted    0    1  All\n",
              "True                    \n",
              "0           59   53  112\n",
              "1           76  253  329\n",
              "All        135  306  441"
            ]
          },
          "metadata": {
            "tags": []
          },
          "execution_count": 169
        }
      ]
    },
    {
      "cell_type": "code",
      "metadata": {
        "id": "n72KDFD3OYwf",
        "colab_type": "code",
        "outputId": "680130bb-9d9a-4db8-d5de-2a05de05192e",
        "colab": {
          "base_uri": "https://localhost:8080/",
          "height": 50
        }
      },
      "source": [
        "np.set_printoptions(precision=2)\n",
        "ConfusionMatrix = confusion_matrix(y_test, y_pred_73)\n",
        "cm_normalized = ConfusionMatrix.astype('float')/ConfusionMatrix.sum(axis=1)[:, np.newaxis]\n",
        "cm_normalized"
      ],
      "execution_count": 0,
      "outputs": [
        {
          "output_type": "execute_result",
          "data": {
            "text/plain": [
              "array([[0.53, 0.47],\n",
              "       [0.23, 0.77]])"
            ]
          },
          "metadata": {
            "tags": []
          },
          "execution_count": 170
        }
      ]
    },
    {
      "cell_type": "markdown",
      "metadata": {
        "id": "YZOglFL1d-cy",
        "colab_type": "text"
      },
      "source": [
        "#### Random Forest Model on **part of dataset**\n",
        "select part of costco data from all, then number of all sources are more balanced"
      ]
    },
    {
      "cell_type": "code",
      "metadata": {
        "id": "dpzgxQn8eP4I",
        "colab_type": "code",
        "colab": {}
      },
      "source": [
        "### Select part of the costco data\n",
        "X = df1.iloc[:,1:-2]\n",
        "y = df1['If Costco']\n",
        "costco_index = y.loc[y.values == 1].index\n",
        "average_num = int((len(y) - len(costco_index))/1)## how many costco data should be used\n",
        "left_index = random.sample(list(costco_index), average_num)## sample them\n",
        "y_balanced_costco = y.loc[left_index]\n",
        "X_balanced_costco = X.loc[left_index]\n",
        "### Kepp all other sources\n",
        "not_costco_index = y.loc[y.values == 0].index\n",
        "y_balanced_not_costco = y.loc[not_costco_index]\n",
        "X_balanced_not_costco = X.loc[not_costco_index]\n",
        "\n",
        "### Merge them together for modeling\n",
        "y_balanced = pd.concat([y_balanced_costco,y_balanced_not_costco])\n",
        "X_balanced = pd.concat([X_balanced_costco,X_balanced_not_costco])\n",
        "\n",
        "### Split X and y\n",
        "y = y_balanced\n",
        "X = X_balanced"
      ],
      "execution_count": 0,
      "outputs": []
    },
    {
      "cell_type": "code",
      "metadata": {
        "id": "j4G729qLeBnS",
        "colab_type": "code",
        "outputId": "ee790b40-f9ae-486c-be6a-1124b9e1bd04",
        "colab": {
          "base_uri": "https://localhost:8080/",
          "height": 50
        }
      },
      "source": [
        "# Fit a random forest model with hyper parameters tuning\n",
        "rfc = RandomForestClassifier(random_state = 2020, n_jobs=-1, oob_score = True) ## max_features= 'sqrt' ,n_estimators=50\n",
        "param_grid = { \n",
        "    'n_estimators': [800, 850],\n",
        "    'max_features': ['auto', 'log2'], \n",
        "    'class_weight': ['balanced', 'balanced_subsample']\n",
        "}\n",
        "## \n",
        "## \n",
        "CV_rfc = GridSearchCV(estimator=rfc, param_grid=param_grid, cv= 5)\n",
        "RF_model = CV_rfc.fit(X, y)\n",
        "print(CV_rfc.best_params_)\n",
        "y_pred = RF_model.predict(X)\n",
        "print('The Accuracy for test is:', metrics.accuracy_score(y, y_pred))"
      ],
      "execution_count": 0,
      "outputs": [
        {
          "output_type": "stream",
          "text": [
            "{'class_weight': 'balanced', 'max_features': 'auto', 'n_estimators': 800}\n",
            "The Accuracy for test is: 0.9129032258064517\n"
          ],
          "name": "stdout"
        }
      ]
    },
    {
      "cell_type": "markdown",
      "metadata": {
        "id": "T6tLffjFJqH6",
        "colab_type": "text"
      },
      "source": [
        "##### Confusion Matrix"
      ]
    },
    {
      "cell_type": "code",
      "metadata": {
        "id": "tx367YcYjA5j",
        "colab_type": "code",
        "outputId": "63545809-89ba-44eb-e18c-17533e82633b",
        "colab": {
          "base_uri": "https://localhost:8080/",
          "height": 167
        }
      },
      "source": [
        "pd.crosstab(y, y_pred, rownames=['True'], colnames=['Predicted'], margins=True)"
      ],
      "execution_count": 0,
      "outputs": [
        {
          "output_type": "execute_result",
          "data": {
            "text/html": [
              "<div>\n",
              "<style scoped>\n",
              "    .dataframe tbody tr th:only-of-type {\n",
              "        vertical-align: middle;\n",
              "    }\n",
              "\n",
              "    .dataframe tbody tr th {\n",
              "        vertical-align: top;\n",
              "    }\n",
              "\n",
              "    .dataframe thead th {\n",
              "        text-align: right;\n",
              "    }\n",
              "</style>\n",
              "<table border=\"1\" class=\"dataframe\">\n",
              "  <thead>\n",
              "    <tr style=\"text-align: right;\">\n",
              "      <th>Predicted</th>\n",
              "      <th>0</th>\n",
              "      <th>1</th>\n",
              "      <th>All</th>\n",
              "    </tr>\n",
              "    <tr>\n",
              "      <th>True</th>\n",
              "      <th></th>\n",
              "      <th></th>\n",
              "      <th></th>\n",
              "    </tr>\n",
              "  </thead>\n",
              "  <tbody>\n",
              "    <tr>\n",
              "      <th>0</th>\n",
              "      <td>581</td>\n",
              "      <td>39</td>\n",
              "      <td>620</td>\n",
              "    </tr>\n",
              "    <tr>\n",
              "      <th>1</th>\n",
              "      <td>69</td>\n",
              "      <td>551</td>\n",
              "      <td>620</td>\n",
              "    </tr>\n",
              "    <tr>\n",
              "      <th>All</th>\n",
              "      <td>650</td>\n",
              "      <td>590</td>\n",
              "      <td>1240</td>\n",
              "    </tr>\n",
              "  </tbody>\n",
              "</table>\n",
              "</div>"
            ],
            "text/plain": [
              "Predicted    0    1   All\n",
              "True                     \n",
              "0          581   39   620\n",
              "1           69  551   620\n",
              "All        650  590  1240"
            ]
          },
          "metadata": {
            "tags": []
          },
          "execution_count": 157
        }
      ]
    },
    {
      "cell_type": "code",
      "metadata": {
        "id": "d4y3W243r-CO",
        "colab_type": "code",
        "outputId": "beb4ec39-3313-4a83-b2e7-2b4b8e3eb2e7",
        "colab": {
          "base_uri": "https://localhost:8080/",
          "height": 166
        }
      },
      "source": [
        "from sklearn.metrics import classification_report as report\n",
        "print(report(y, y_pred))"
      ],
      "execution_count": 0,
      "outputs": [
        {
          "output_type": "stream",
          "text": [
            "              precision    recall  f1-score   support\n",
            "\n",
            "           0       0.89      0.94      0.91       620\n",
            "           1       0.93      0.89      0.91       620\n",
            "\n",
            "    accuracy                           0.91      1240\n",
            "   macro avg       0.91      0.91      0.91      1240\n",
            "weighted avg       0.91      0.91      0.91      1240\n",
            "\n"
          ],
          "name": "stdout"
        }
      ]
    },
    {
      "cell_type": "markdown",
      "metadata": {
        "id": "sClt5P75JuA7",
        "colab_type": "text"
      },
      "source": [
        "##### Confusion Matrix in percentage"
      ]
    },
    {
      "cell_type": "code",
      "metadata": {
        "id": "PARseOTgwwaQ",
        "colab_type": "code",
        "outputId": "24dc3c77-cdcd-4415-f402-8141a5d3940a",
        "colab": {
          "base_uri": "https://localhost:8080/",
          "height": 50
        }
      },
      "source": [
        "np.set_printoptions(precision=2)\n",
        "ConfusionMatrix = confusion_matrix(y, y_pred)\n",
        "cm_normalized = ConfusionMatrix.astype('float')/ConfusionMatrix.sum(axis=1)[:, np.newaxis]\n",
        "cm_normalized"
      ],
      "execution_count": 0,
      "outputs": [
        {
          "output_type": "execute_result",
          "data": {
            "text/plain": [
              "array([[0.94, 0.06],\n",
              "       [0.11, 0.89]])"
            ]
          },
          "metadata": {
            "tags": []
          },
          "execution_count": 161
        }
      ]
    },
    {
      "cell_type": "code",
      "metadata": {
        "id": "8tsUBCYSWg5p",
        "colab_type": "code",
        "outputId": "a60a9e65-e808-427f-f810-5125ac800502",
        "colab": {
          "base_uri": "https://localhost:8080/",
          "height": 297
        }
      },
      "source": [
        "import matplotlib.pyplot as plt\n",
        "print(RF_model.best_estimator_.feature_importances_) # Use inbuilt class feature_importances of tree based classifiers\n",
        "# Plot graph of feature importances for better visualization\n",
        "feat_importances = pd.Series(RF_model.best_estimator_.feature_importances_, index=X.columns)\n",
        "feat_importances.plot(kind='barh')\n",
        "plt.show()"
      ],
      "execution_count": 0,
      "outputs": [
        {
          "output_type": "stream",
          "text": [
            "[0.37 0.38 0.02 0.02 0.02 0.02 0.02 0.02 0.01 0.01 0.02 0.01 0.02 0.01\n",
            " 0.02 0.   0.02 0.   0.02]\n"
          ],
          "name": "stdout"
        },
        {
          "output_type": "display_data",
          "data": {
            "image/png": "[encoded data removed]",
            "text/plain": [
              "<Figure size 432x288 with 1 Axes>"
            ]
          },
          "metadata": {
            "tags": [],
            "needs_background": "light"
          }
        }
      ]
    },
    {
      "cell_type": "markdown",
      "metadata": {
        "id": "uhSlxFKwNwrZ",
        "colab_type": "text"
      },
      "source": [
        "#### KNN Models"
      ]
    },
    {
      "cell_type": "code",
      "metadata": {
        "id": "o6zcNdSLbcOa",
        "colab_type": "code",
        "outputId": "3d977ff6-23ac-48a6-95e6-196ef2e81bb3",
        "colab": {
          "base_uri": "https://localhost:8080/",
          "height": 52
        }
      },
      "source": [
        "# Try KNN model with hyperparameter tuning\n",
        "\n",
        "# Creating odd list K for KNN\n",
        "neighbors = list(range(1,50,2))\n",
        "# Empty list that will hold cv scores\n",
        "cv_scores = [ ]\n",
        "#perform 10-fold cross-validation\n",
        "for K in neighbors:\n",
        "    knn = KNeighborsClassifier(n_neighbors = K)\n",
        "    scores = cross_val_score(knn,X_train,y_train,cv = 10,scoring =\n",
        "    \"accuracy\")\n",
        "    cv_scores.append(scores.mean())\n",
        "# Calculating the misclassificatio error\n",
        "# Changing to misclassification error\n",
        "mse = [1-x for x in cv_scores]\n",
        "# Determing best k\n",
        "optimal_k = neighbors[mse.index(min(mse))]\n",
        "print(\"The optimal no. of neighbors is {}\".format(optimal_k))\n",
        "# Use the optimal_K fit model\n",
        "knn_model = KNeighborsClassifier(n_neighbors = optimal_k)\n",
        "# Fitting model\n",
        "knn_model.fit(X_train,y_train)\n",
        "# Predict\n",
        "KNN_y_test_pred = knn_model.predict(X_test)\n",
        "print('The Accuracy for test is:', metrics.accuracy_score(y_test,KNN_y_test_pred))"
      ],
      "execution_count": 0,
      "outputs": [
        {
          "output_type": "stream",
          "text": [
            "The optimal no. of neighbors is 29\n",
            "The Accuracy for test is: 0.48936170212765956\n"
          ],
          "name": "stdout"
        }
      ]
    },
    {
      "cell_type": "markdown",
      "metadata": {
        "id": "VWQes70OP00s",
        "colab_type": "text"
      },
      "source": [
        "# Predicting which source it is among Walmart, Sams Club, Sears and Target (Without data of Costco)."
      ]
    },
    {
      "cell_type": "code",
      "metadata": {
        "id": "jCcNvQHWNteX",
        "colab_type": "code",
        "colab": {}
      },
      "source": [
        "# Copy the original dataframe\n",
        "df2=df\n",
        "df_other=df2[df2['Sources'].isin(['walmart','sams club','sears','target'])]\n",
        "df_other=shuffle(df_other)"
      ],
      "execution_count": 0,
      "outputs": []
    },
    {
      "cell_type": "code",
      "metadata": {
        "id": "G7EWWKJ5OFbG",
        "colab_type": "code",
        "outputId": "7ff9973e-f133-4044-af45-81af19ece283",
        "colab": {
          "base_uri": "https://localhost:8080/",
          "height": 523
        }
      },
      "source": [
        "df_other"
      ],
      "execution_count": 0,
      "outputs": [
        {
          "output_type": "execute_result",
          "data": {
            "text/html": [
              "<div>\n",
              "<style scoped>\n",
              "    .dataframe tbody tr th:only-of-type {\n",
              "        vertical-align: middle;\n",
              "    }\n",
              "\n",
              "    .dataframe tbody tr th {\n",
              "        vertical-align: top;\n",
              "    }\n",
              "\n",
              "    .dataframe thead th {\n",
              "        text-align: right;\n",
              "    }\n",
              "</style>\n",
              "<table border=\"1\" class=\"dataframe\">\n",
              "  <thead>\n",
              "    <tr style=\"text-align: right;\">\n",
              "      <th></th>\n",
              "      <th>Sources</th>\n",
              "      <th>Brand_average_rating</th>\n",
              "      <th>Number_of_customer_review</th>\n",
              "      <th>clothing, shoes &amp; jewelry</th>\n",
              "      <th>home &amp; kitchen</th>\n",
              "      <th>sports &amp; outdoors</th>\n",
              "      <th>health, household &amp; baby care</th>\n",
              "      <th>tools &amp; home improvement</th>\n",
              "      <th>industrial &amp; scientific</th>\n",
              "      <th>electronics</th>\n",
              "      <th>grocery &amp; gourmet food</th>\n",
              "      <th>baby</th>\n",
              "      <th>office product</th>\n",
              "      <th>beauty &amp; personal care</th>\n",
              "      <th>pet supplies</th>\n",
              "      <th>garden &amp; outdoor</th>\n",
              "      <th>cell phones &amp; accessories</th>\n",
              "      <th>automative parts &amp; accessories</th>\n",
              "      <th>arts, crafts &amp; sewing</th>\n",
              "      <th>toys &amp; games</th>\n",
              "      <th>appliance</th>\n",
              "      <th>If Costco</th>\n",
              "    </tr>\n",
              "  </thead>\n",
              "  <tbody>\n",
              "    <tr>\n",
              "      <th>652</th>\n",
              "      <td>sears</td>\n",
              "      <td>4.293750</td>\n",
              "      <td>26749.0</td>\n",
              "      <td>0</td>\n",
              "      <td>0</td>\n",
              "      <td>0</td>\n",
              "      <td>0</td>\n",
              "      <td>0</td>\n",
              "      <td>0</td>\n",
              "      <td>1</td>\n",
              "      <td>0</td>\n",
              "      <td>0</td>\n",
              "      <td>0</td>\n",
              "      <td>0</td>\n",
              "      <td>0</td>\n",
              "      <td>0</td>\n",
              "      <td>0</td>\n",
              "      <td>0</td>\n",
              "      <td>0</td>\n",
              "      <td>0</td>\n",
              "      <td>0</td>\n",
              "      <td>0</td>\n",
              "    </tr>\n",
              "    <tr>\n",
              "      <th>1030</th>\n",
              "      <td>sears</td>\n",
              "      <td>5.000000</td>\n",
              "      <td>1.0</td>\n",
              "      <td>0</td>\n",
              "      <td>0</td>\n",
              "      <td>0</td>\n",
              "      <td>0</td>\n",
              "      <td>0</td>\n",
              "      <td>0</td>\n",
              "      <td>0</td>\n",
              "      <td>0</td>\n",
              "      <td>0</td>\n",
              "      <td>1</td>\n",
              "      <td>0</td>\n",
              "      <td>0</td>\n",
              "      <td>0</td>\n",
              "      <td>0</td>\n",
              "      <td>0</td>\n",
              "      <td>0</td>\n",
              "      <td>0</td>\n",
              "      <td>0</td>\n",
              "      <td>0</td>\n",
              "    </tr>\n",
              "    <tr>\n",
              "      <th>990</th>\n",
              "      <td>sears</td>\n",
              "      <td>2.975000</td>\n",
              "      <td>16.0</td>\n",
              "      <td>0</td>\n",
              "      <td>0</td>\n",
              "      <td>0</td>\n",
              "      <td>0</td>\n",
              "      <td>0</td>\n",
              "      <td>0</td>\n",
              "      <td>0</td>\n",
              "      <td>0</td>\n",
              "      <td>0</td>\n",
              "      <td>0</td>\n",
              "      <td>0</td>\n",
              "      <td>0</td>\n",
              "      <td>1</td>\n",
              "      <td>0</td>\n",
              "      <td>0</td>\n",
              "      <td>0</td>\n",
              "      <td>0</td>\n",
              "      <td>0</td>\n",
              "      <td>0</td>\n",
              "    </tr>\n",
              "    <tr>\n",
              "      <th>1491</th>\n",
              "      <td>sams club</td>\n",
              "      <td>4.120000</td>\n",
              "      <td>487.0</td>\n",
              "      <td>0</td>\n",
              "      <td>0</td>\n",
              "      <td>0</td>\n",
              "      <td>0</td>\n",
              "      <td>0</td>\n",
              "      <td>0</td>\n",
              "      <td>0</td>\n",
              "      <td>0</td>\n",
              "      <td>1</td>\n",
              "      <td>0</td>\n",
              "      <td>0</td>\n",
              "      <td>0</td>\n",
              "      <td>0</td>\n",
              "      <td>0</td>\n",
              "      <td>0</td>\n",
              "      <td>0</td>\n",
              "      <td>0</td>\n",
              "      <td>0</td>\n",
              "      <td>0</td>\n",
              "    </tr>\n",
              "    <tr>\n",
              "      <th>639</th>\n",
              "      <td>sams club</td>\n",
              "      <td>3.953125</td>\n",
              "      <td>236.0</td>\n",
              "      <td>0</td>\n",
              "      <td>0</td>\n",
              "      <td>0</td>\n",
              "      <td>0</td>\n",
              "      <td>0</td>\n",
              "      <td>0</td>\n",
              "      <td>0</td>\n",
              "      <td>0</td>\n",
              "      <td>0</td>\n",
              "      <td>0</td>\n",
              "      <td>1</td>\n",
              "      <td>0</td>\n",
              "      <td>0</td>\n",
              "      <td>0</td>\n",
              "      <td>0</td>\n",
              "      <td>0</td>\n",
              "      <td>0</td>\n",
              "      <td>0</td>\n",
              "      <td>0</td>\n",
              "    </tr>\n",
              "    <tr>\n",
              "      <th>...</th>\n",
              "      <td>...</td>\n",
              "      <td>...</td>\n",
              "      <td>...</td>\n",
              "      <td>...</td>\n",
              "      <td>...</td>\n",
              "      <td>...</td>\n",
              "      <td>...</td>\n",
              "      <td>...</td>\n",
              "      <td>...</td>\n",
              "      <td>...</td>\n",
              "      <td>...</td>\n",
              "      <td>...</td>\n",
              "      <td>...</td>\n",
              "      <td>...</td>\n",
              "      <td>...</td>\n",
              "      <td>...</td>\n",
              "      <td>...</td>\n",
              "      <td>...</td>\n",
              "      <td>...</td>\n",
              "      <td>...</td>\n",
              "      <td>...</td>\n",
              "      <td>...</td>\n",
              "    </tr>\n",
              "    <tr>\n",
              "      <th>776</th>\n",
              "      <td>sears</td>\n",
              "      <td>3.920833</td>\n",
              "      <td>2950.0</td>\n",
              "      <td>0</td>\n",
              "      <td>0</td>\n",
              "      <td>0</td>\n",
              "      <td>0</td>\n",
              "      <td>0</td>\n",
              "      <td>0</td>\n",
              "      <td>0</td>\n",
              "      <td>0</td>\n",
              "      <td>0</td>\n",
              "      <td>0</td>\n",
              "      <td>0</td>\n",
              "      <td>0</td>\n",
              "      <td>0</td>\n",
              "      <td>0</td>\n",
              "      <td>1</td>\n",
              "      <td>0</td>\n",
              "      <td>0</td>\n",
              "      <td>0</td>\n",
              "      <td>0</td>\n",
              "    </tr>\n",
              "    <tr>\n",
              "      <th>1363</th>\n",
              "      <td>walmart</td>\n",
              "      <td>4.500000</td>\n",
              "      <td>167.0</td>\n",
              "      <td>0</td>\n",
              "      <td>0</td>\n",
              "      <td>0</td>\n",
              "      <td>1</td>\n",
              "      <td>0</td>\n",
              "      <td>0</td>\n",
              "      <td>0</td>\n",
              "      <td>0</td>\n",
              "      <td>0</td>\n",
              "      <td>0</td>\n",
              "      <td>0</td>\n",
              "      <td>0</td>\n",
              "      <td>0</td>\n",
              "      <td>0</td>\n",
              "      <td>0</td>\n",
              "      <td>0</td>\n",
              "      <td>0</td>\n",
              "      <td>0</td>\n",
              "      <td>0</td>\n",
              "    </tr>\n",
              "    <tr>\n",
              "      <th>2056</th>\n",
              "      <td>sams club</td>\n",
              "      <td>3.200000</td>\n",
              "      <td>38.0</td>\n",
              "      <td>1</td>\n",
              "      <td>0</td>\n",
              "      <td>0</td>\n",
              "      <td>0</td>\n",
              "      <td>0</td>\n",
              "      <td>0</td>\n",
              "      <td>0</td>\n",
              "      <td>0</td>\n",
              "      <td>0</td>\n",
              "      <td>0</td>\n",
              "      <td>0</td>\n",
              "      <td>0</td>\n",
              "      <td>0</td>\n",
              "      <td>0</td>\n",
              "      <td>0</td>\n",
              "      <td>0</td>\n",
              "      <td>0</td>\n",
              "      <td>0</td>\n",
              "      <td>0</td>\n",
              "    </tr>\n",
              "    <tr>\n",
              "      <th>978</th>\n",
              "      <td>sears</td>\n",
              "      <td>4.900000</td>\n",
              "      <td>16.0</td>\n",
              "      <td>0</td>\n",
              "      <td>0</td>\n",
              "      <td>0</td>\n",
              "      <td>0</td>\n",
              "      <td>0</td>\n",
              "      <td>0</td>\n",
              "      <td>0</td>\n",
              "      <td>0</td>\n",
              "      <td>0</td>\n",
              "      <td>0</td>\n",
              "      <td>0</td>\n",
              "      <td>1</td>\n",
              "      <td>0</td>\n",
              "      <td>0</td>\n",
              "      <td>0</td>\n",
              "      <td>0</td>\n",
              "      <td>0</td>\n",
              "      <td>0</td>\n",
              "      <td>0</td>\n",
              "    </tr>\n",
              "    <tr>\n",
              "      <th>239</th>\n",
              "      <td>sams club</td>\n",
              "      <td>4.200000</td>\n",
              "      <td>802.0</td>\n",
              "      <td>0</td>\n",
              "      <td>0</td>\n",
              "      <td>0</td>\n",
              "      <td>0</td>\n",
              "      <td>0</td>\n",
              "      <td>0</td>\n",
              "      <td>0</td>\n",
              "      <td>0</td>\n",
              "      <td>0</td>\n",
              "      <td>0</td>\n",
              "      <td>0</td>\n",
              "      <td>1</td>\n",
              "      <td>0</td>\n",
              "      <td>0</td>\n",
              "      <td>0</td>\n",
              "      <td>0</td>\n",
              "      <td>0</td>\n",
              "      <td>0</td>\n",
              "      <td>0</td>\n",
              "    </tr>\n",
              "  </tbody>\n",
              "</table>\n",
              "<p>587 rows × 22 columns</p>\n",
              "</div>"
            ],
            "text/plain": [
              "        Sources  Brand_average_rating  ...  appliance If Costco\n",
              "652       sears              4.293750  ...          0         0\n",
              "1030      sears              5.000000  ...          0         0\n",
              "990       sears              2.975000  ...          0         0\n",
              "1491  sams club              4.120000  ...          0         0\n",
              "639   sams club              3.953125  ...          0         0\n",
              "...         ...                   ...  ...        ...       ...\n",
              "776       sears              3.920833  ...          0         0\n",
              "1363    walmart              4.500000  ...          0         0\n",
              "2056  sams club              3.200000  ...          0         0\n",
              "978       sears              4.900000  ...          0         0\n",
              "239   sams club              4.200000  ...          0         0\n",
              "\n",
              "[587 rows x 22 columns]"
            ]
          },
          "metadata": {
            "tags": []
          },
          "execution_count": 80
        }
      ]
    },
    {
      "cell_type": "code",
      "metadata": {
        "id": "hTGOfy2FwljU",
        "colab_type": "code",
        "colab": {}
      },
      "source": [
        "# Prepare features and target variable\n",
        "X = df_other.iloc[:,1:-2]\n",
        "y = df_other['Sources']"
      ],
      "execution_count": 0,
      "outputs": []
    },
    {
      "cell_type": "code",
      "metadata": {
        "id": "9g9aJ8rmQiXu",
        "colab_type": "code",
        "outputId": "e1a0f4b1-58bd-41e7-e55d-3936cc5f984a",
        "colab": {
          "base_uri": "https://localhost:8080/",
          "height": 33
        }
      },
      "source": [
        "# Fit a random forest model with hyperparameter tuning\n",
        "# Build a classification task using 3 informative features\n",
        "rfc = RandomForestClassifier(n_jobs=-1,max_features= 'sqrt' ,n_estimators=50, oob_score = True) \n",
        "param_grid = { \n",
        "    'n_estimators': [200, 500, 700, 900],\n",
        "    'max_features': ['auto', 'sqrt', 'log2']\n",
        "}\n",
        "CV_rfc = GridSearchCV(estimator=rfc, param_grid=param_grid, cv= 5)\n",
        "RF_model = CV_rfc.fit(X, y)\n",
        "print(CV_rfc.best_params_)"
      ],
      "execution_count": 0,
      "outputs": [
        {
          "output_type": "stream",
          "text": [
            "{'max_features': 'log2', 'n_estimators': 900}\n"
          ],
          "name": "stdout"
        }
      ]
    },
    {
      "cell_type": "code",
      "metadata": {
        "id": "7cPf_HAjwnh4",
        "colab_type": "code",
        "outputId": "cfd08c39-656c-4148-82b6-6c94e915f867",
        "colab": {
          "base_uri": "https://localhost:8080/",
          "height": 33
        }
      },
      "source": [
        "y_pred = RF_model.predict(X)\n",
        "print('The Accuracy for test is:', metrics.accuracy_score(y, y_pred))"
      ],
      "execution_count": 0,
      "outputs": [
        {
          "output_type": "stream",
          "text": [
            "The Accuracy for test is: 0.848381601362862\n"
          ],
          "name": "stdout"
        }
      ]
    },
    {
      "cell_type": "markdown",
      "metadata": {
        "id": "5e4n_3U5KCMc",
        "colab_type": "text"
      },
      "source": [
        "### Confusion Matrix"
      ]
    },
    {
      "cell_type": "code",
      "metadata": {
        "id": "bI2oEXyoDWM0",
        "colab_type": "code",
        "outputId": "33cd9197-e067-4eca-aa43-cb11e54a6ec1",
        "colab": {
          "base_uri": "https://localhost:8080/",
          "height": 200
        }
      },
      "source": [
        "ConfusionMatrix = multilabel_confusion_matrix(y, y_pred)\n",
        "ConfusionMatrix"
      ],
      "execution_count": 0,
      "outputs": [
        {
          "output_type": "execute_result",
          "data": {
            "text/plain": [
              "array([[[414,  48],\n",
              "        [ 31,  94]],\n",
              "\n",
              "       [[300,   6],\n",
              "        [  4, 277]],\n",
              "\n",
              "       [[547,   0],\n",
              "        [  5,  35]],\n",
              "\n",
              "       [[411,  35],\n",
              "        [ 49,  92]]])"
            ]
          },
          "metadata": {
            "tags": []
          },
          "execution_count": 96
        }
      ]
    },
    {
      "cell_type": "code",
      "metadata": {
        "id": "-qIXV5K7Bo9d",
        "colab_type": "code",
        "outputId": "4cc63906-1e70-4fe4-cc02-a0d816d8ab26",
        "colab": {
          "base_uri": "https://localhost:8080/",
          "height": 33
        }
      },
      "source": [
        "len(y)"
      ],
      "execution_count": 0,
      "outputs": [
        {
          "output_type": "execute_result",
          "data": {
            "text/plain": [
              "587"
            ]
          },
          "metadata": {
            "tags": []
          },
          "execution_count": 106
        }
      ]
    },
    {
      "cell_type": "code",
      "metadata": {
        "id": "5WREboWrBNFX",
        "colab_type": "code",
        "outputId": "f9422a04-ffbc-498e-aa89-e266f46e8530",
        "colab": {
          "base_uri": "https://localhost:8080/",
          "height": 50
        }
      },
      "source": [
        "from collections import defaultdict\n",
        "count_source = defaultdict(int)\n",
        "for source in y:\n",
        "    count_source[source] +=1\n",
        "count_source"
      ],
      "execution_count": 0,
      "outputs": [
        {
          "output_type": "execute_result",
          "data": {
            "text/plain": [
              "defaultdict(int,\n",
              "            {'sams club': 125, 'sears': 281, 'target': 40, 'walmart': 141})"
            ]
          },
          "metadata": {
            "tags": []
          },
          "execution_count": 107
        }
      ]
    },
    {
      "cell_type": "code",
      "metadata": {
        "id": "P2W2edwYCXYr",
        "colab_type": "code",
        "colab": {}
      },
      "source": [
        "sources = ['sams club', 'sears', 'target', 'walmart']"
      ],
      "execution_count": 0,
      "outputs": []
    },
    {
      "cell_type": "markdown",
      "metadata": {
        "id": "e_9Wb7YJKEQF",
        "colab_type": "text"
      },
      "source": [
        "### Confusion Matrix in percentage"
      ]
    },
    {
      "cell_type": "code",
      "metadata": {
        "id": "5cxqxKPTxgB0",
        "colab_type": "code",
        "outputId": "ee878a08-7826-4dda-acef-d7d559423f9c",
        "colab": {
          "base_uri": "https://localhost:8080/",
          "height": 283
        }
      },
      "source": [
        "np.set_printoptions(precision=2)\n",
        "for i in range(len(np.unique(y))):\n",
        "    cm_normalized = ConfusionMatrix[i].astype('float')/ConfusionMatrix[i].sum(axis=1)[:, np.newaxis]\n",
        "    print(sources[i], \"\\n\", cm_normalized, \"\\n\")"
      ],
      "execution_count": 0,
      "outputs": [
        {
          "output_type": "stream",
          "text": [
            "sams club \n",
            " [[0.9  0.1 ]\n",
            " [0.25 0.75]] \n",
            "\n",
            "sears \n",
            " [[0.98 0.02]\n",
            " [0.01 0.99]] \n",
            "\n",
            "target \n",
            " [[1.   0.  ]\n",
            " [0.12 0.88]] \n",
            "\n",
            "walmart \n",
            " [[0.92 0.08]\n",
            " [0.35 0.65]] \n",
            "\n"
          ],
          "name": "stdout"
        }
      ]
    },
    {
      "cell_type": "code",
      "metadata": {
        "id": "Jtw9EjFKU_T3",
        "colab_type": "code",
        "outputId": "f439f56d-1aec-4bb8-fb53-f7b78f057ed9",
        "colab": {
          "base_uri": "https://localhost:8080/",
          "height": 301
        }
      },
      "source": [
        "import matplotlib.pyplot as plt\n",
        "print(RF_model.best_estimator_.feature_importances_) #use inbuilt class feature_importances of tree based classifiers\n",
        "#plot graph of feature importances for better visualization\n",
        "feat_importances = pd.Series(RF_model.best_estimator_.feature_importances_, index=X.columns)\n",
        "feat_importances.plot(kind='barh')\n",
        "plt.show()"
      ],
      "execution_count": 0,
      "outputs": [
        {
          "output_type": "stream",
          "text": [
            "[0.33 0.39 0.02 0.02 0.02 0.02 0.02 0.01 0.01 0.02 0.02 0.01 0.03 0.01\n",
            " 0.02 0.01 0.03 0.   0.02]\n"
          ],
          "name": "stdout"
        },
        {
          "output_type": "display_data",
          "data": {
            "image/png": "[encoded data removed]",
            "text/plain": [
              "<Figure size 432x288 with 1 Axes>"
            ]
          },
          "metadata": {
            "tags": [],
            "needs_background": "light"
          }
        }
      ]
    },
    {
      "cell_type": "code",
      "metadata": {
        "id": "HCCkysRMV-_2",
        "colab_type": "code",
        "outputId": "6cc50887-ace8-482b-ee7a-d35294a00d0a",
        "colab": {
          "base_uri": "https://localhost:8080/",
          "height": 52
        }
      },
      "source": [
        "# Try KNN model with hyperparameter tuning\n",
        "# Creating odd list K for KNN\n",
        "neighbors = list(range(1,50,2))\n",
        "# empty list that will hold cv scores\n",
        "cv_scores = [ ]\n",
        "#perform 10-fold cross-validation\n",
        "for K in neighbors:\n",
        "    knn = KNeighborsClassifier(n_neighbors = K)\n",
        "    scores = cross_val_score(knn,X,y,cv = 10,scoring =\n",
        "    \"accuracy\")\n",
        "    cv_scores.append(scores.mean())\n",
        "#calculating the misclassificatio error\n",
        "# Changing to mis classification error\n",
        "mse = [1-x for x in cv_scores]\n",
        "# determing best k\n",
        "optimal_k = neighbors[mse.index(min(mse))]\n",
        "print(\"The optimal no. of neighbors is {}\".format(optimal_k))\n",
        "#use the optimal_K fit model\n",
        "knn_model = KNeighborsClassifier(n_neighbors = optimal_k)\n",
        "# fitting model\n",
        "knn_model.fit(X,y)\n",
        "#predict\n",
        "KNN_y = knn_model.predict(X)\n",
        "print('The Accuracy for test is:', metrics.accuracy_score(y,KNN_y))"
      ],
      "execution_count": 0,
      "outputs": [
        {
          "output_type": "stream",
          "text": [
            "The optimal no. of neighbors is 1\n",
            "The Accuracy for test is: 0.848381601362862\n"
          ],
          "name": "stdout"
        }
      ]
    },
    {
      "cell_type": "markdown",
      "metadata": {
        "id": "a7ZPg9yDvm4B",
        "colab_type": "text"
      },
      "source": [
        "# Predicting which source it is among Costco, Walmart, Sams Club, Sears and Target "
      ]
    },
    {
      "cell_type": "markdown",
      "metadata": {
        "id": "BR8JE4CqyGp1",
        "colab_type": "text"
      },
      "source": [
        "### Data Split"
      ]
    },
    {
      "cell_type": "code",
      "metadata": {
        "id": "CscAdssCwRvO",
        "colab_type": "code",
        "outputId": "0f3d17e8-cb28-4357-c38f-8f725d733c67",
        "colab": {
          "base_uri": "https://localhost:8080/",
          "height": 247
        }
      },
      "source": [
        "y = df['If Costco']\n",
        "costco_index = y.loc[y.values == 1].index\n",
        "average_num = (len(y) - len(costco_index))//4## how many costco data should be used\n",
        "left_index = random.sample(list(costco_index), average_num)## sample them\n",
        "\n",
        "df_costco = df.loc[left_index]\n",
        "df_other=df[df['Sources'].isin(['walmart','sams club','sears','target'])]\n",
        "df2 = shuffle(pd.concat([df_costco, df_other])).iloc[:,:-2]\n",
        "df2.head()"
      ],
      "execution_count": 0,
      "outputs": [
        {
          "output_type": "execute_result",
          "data": {
            "text/html": [
              "<div>\n",
              "<style scoped>\n",
              "    .dataframe tbody tr th:only-of-type {\n",
              "        vertical-align: middle;\n",
              "    }\n",
              "\n",
              "    .dataframe tbody tr th {\n",
              "        vertical-align: top;\n",
              "    }\n",
              "\n",
              "    .dataframe thead th {\n",
              "        text-align: right;\n",
              "    }\n",
              "</style>\n",
              "<table border=\"1\" class=\"dataframe\">\n",
              "  <thead>\n",
              "    <tr style=\"text-align: right;\">\n",
              "      <th></th>\n",
              "      <th>Sources</th>\n",
              "      <th>Brand_average_rating</th>\n",
              "      <th>Number_of_customer_review</th>\n",
              "      <th>clothing, shoes &amp; jewelry</th>\n",
              "      <th>home &amp; kitchen</th>\n",
              "      <th>sports &amp; outdoors</th>\n",
              "      <th>health, household &amp; baby care</th>\n",
              "      <th>tools &amp; home improvement</th>\n",
              "      <th>industrial &amp; scientific</th>\n",
              "      <th>electronics</th>\n",
              "      <th>grocery &amp; gourmet food</th>\n",
              "      <th>baby</th>\n",
              "      <th>office product</th>\n",
              "      <th>beauty &amp; personal care</th>\n",
              "      <th>pet supplies</th>\n",
              "      <th>garden &amp; outdoor</th>\n",
              "      <th>cell phones &amp; accessories</th>\n",
              "      <th>automative parts &amp; accessories</th>\n",
              "      <th>arts, crafts &amp; sewing</th>\n",
              "      <th>toys &amp; games</th>\n",
              "    </tr>\n",
              "  </thead>\n",
              "  <tbody>\n",
              "    <tr>\n",
              "      <th>2089</th>\n",
              "      <td>sears</td>\n",
              "      <td>4.2</td>\n",
              "      <td>202.0</td>\n",
              "      <td>0</td>\n",
              "      <td>0</td>\n",
              "      <td>0</td>\n",
              "      <td>0</td>\n",
              "      <td>0</td>\n",
              "      <td>0</td>\n",
              "      <td>0</td>\n",
              "      <td>0</td>\n",
              "      <td>1</td>\n",
              "      <td>0</td>\n",
              "      <td>0</td>\n",
              "      <td>0</td>\n",
              "      <td>0</td>\n",
              "      <td>0</td>\n",
              "      <td>0</td>\n",
              "      <td>0</td>\n",
              "      <td>0</td>\n",
              "    </tr>\n",
              "    <tr>\n",
              "      <th>824</th>\n",
              "      <td>sears</td>\n",
              "      <td>4.6</td>\n",
              "      <td>36.0</td>\n",
              "      <td>0</td>\n",
              "      <td>1</td>\n",
              "      <td>0</td>\n",
              "      <td>0</td>\n",
              "      <td>0</td>\n",
              "      <td>0</td>\n",
              "      <td>0</td>\n",
              "      <td>0</td>\n",
              "      <td>0</td>\n",
              "      <td>0</td>\n",
              "      <td>0</td>\n",
              "      <td>0</td>\n",
              "      <td>0</td>\n",
              "      <td>0</td>\n",
              "      <td>0</td>\n",
              "      <td>0</td>\n",
              "      <td>0</td>\n",
              "    </tr>\n",
              "    <tr>\n",
              "      <th>2085</th>\n",
              "      <td>sams club</td>\n",
              "      <td>4.3</td>\n",
              "      <td>9.0</td>\n",
              "      <td>1</td>\n",
              "      <td>0</td>\n",
              "      <td>0</td>\n",
              "      <td>0</td>\n",
              "      <td>0</td>\n",
              "      <td>0</td>\n",
              "      <td>0</td>\n",
              "      <td>0</td>\n",
              "      <td>0</td>\n",
              "      <td>0</td>\n",
              "      <td>0</td>\n",
              "      <td>0</td>\n",
              "      <td>0</td>\n",
              "      <td>0</td>\n",
              "      <td>0</td>\n",
              "      <td>0</td>\n",
              "      <td>0</td>\n",
              "    </tr>\n",
              "    <tr>\n",
              "      <th>303</th>\n",
              "      <td>costco</td>\n",
              "      <td>4.0</td>\n",
              "      <td>310.0</td>\n",
              "      <td>0</td>\n",
              "      <td>0</td>\n",
              "      <td>0</td>\n",
              "      <td>0</td>\n",
              "      <td>0</td>\n",
              "      <td>0</td>\n",
              "      <td>0</td>\n",
              "      <td>0</td>\n",
              "      <td>0</td>\n",
              "      <td>0</td>\n",
              "      <td>1</td>\n",
              "      <td>0</td>\n",
              "      <td>0</td>\n",
              "      <td>0</td>\n",
              "      <td>0</td>\n",
              "      <td>0</td>\n",
              "      <td>0</td>\n",
              "    </tr>\n",
              "    <tr>\n",
              "      <th>1672</th>\n",
              "      <td>sears</td>\n",
              "      <td>4.3</td>\n",
              "      <td>3706.0</td>\n",
              "      <td>0</td>\n",
              "      <td>0</td>\n",
              "      <td>0</td>\n",
              "      <td>0</td>\n",
              "      <td>0</td>\n",
              "      <td>0</td>\n",
              "      <td>0</td>\n",
              "      <td>1</td>\n",
              "      <td>0</td>\n",
              "      <td>0</td>\n",
              "      <td>0</td>\n",
              "      <td>0</td>\n",
              "      <td>0</td>\n",
              "      <td>0</td>\n",
              "      <td>0</td>\n",
              "      <td>0</td>\n",
              "      <td>0</td>\n",
              "    </tr>\n",
              "  </tbody>\n",
              "</table>\n",
              "</div>"
            ],
            "text/plain": [
              "        Sources  Brand_average_rating  ...  arts, crafts & sewing toys & games\n",
              "2089      sears                   4.2  ...                      0            0\n",
              "824       sears                   4.6  ...                      0            0\n",
              "2085  sams club                   4.3  ...                      0            0\n",
              "303      costco                   4.0  ...                      0            0\n",
              "1672      sears                   4.3  ...                      0            0\n",
              "\n",
              "[5 rows x 20 columns]"
            ]
          },
          "metadata": {
            "tags": []
          },
          "execution_count": 171
        }
      ]
    },
    {
      "cell_type": "markdown",
      "metadata": {
        "id": "gv6Uf00ayI7x",
        "colab_type": "text"
      },
      "source": [
        "### Random Forest Model"
      ]
    },
    {
      "cell_type": "code",
      "metadata": {
        "id": "yw52ahIEw5bQ",
        "colab_type": "code",
        "outputId": "144c2a21-9226-473e-def6-c59aa6329543",
        "colab": {
          "base_uri": "https://localhost:8080/",
          "height": 50
        }
      },
      "source": [
        "# Prepare features and target variable\n",
        "X = df2.iloc[:,1:]\n",
        "y = df2['Sources']\n",
        "\n",
        "# Fit a random forest model with hyper parameters tuning\n",
        "rfc = RandomForestClassifier(random_state = 2020, n_jobs=-1, oob_score = True) ## max_features= 'sqrt' ,n_estimators=50\n",
        "param_grid = { \n",
        "    'n_estimators': [800, 850, 900, 920],\n",
        "    'max_features': ['auto', 'log2'], \n",
        "    'class_weight': ['balanced', 'balanced_subsample']\n",
        "}\n",
        "## max_features: 'sqrt' works the same as 'auto'\n",
        "CV_rfc = GridSearchCV(estimator=rfc, param_grid=param_grid, cv= 5)\n",
        "RF_model = CV_rfc.fit(X, y)\n",
        "print(CV_rfc.best_params_)\n",
        "y_pred = RF_model.predict(X)\n",
        "print('The Accuracy for test is:', metrics.accuracy_score(y, y_pred))"
      ],
      "execution_count": 0,
      "outputs": [
        {
          "output_type": "stream",
          "text": [
            "{'class_weight': 'balanced', 'max_features': 'auto', 'n_estimators': 800}\n",
            "The Accuracy for test is: 0.8477088948787062\n"
          ],
          "name": "stdout"
        }
      ]
    },
    {
      "cell_type": "code",
      "metadata": {
        "id": "9Iv5BG7KxmLH",
        "colab_type": "code",
        "outputId": "1df11f5c-11f7-457a-dae9-ad66d0ceb141",
        "colab": {
          "base_uri": "https://localhost:8080/",
          "height": 250
        }
      },
      "source": [
        "ConfusionMatrix = multilabel_confusion_matrix(y, y_pred)\n",
        "ConfusionMatrix"
      ],
      "execution_count": 0,
      "outputs": [
        {
          "output_type": "execute_result",
          "data": {
            "text/plain": [
              "array([[[577,  10],\n",
              "        [ 15, 140]],\n",
              "\n",
              "       [[538,  79],\n",
              "        [  6, 119]],\n",
              "\n",
              "       [[457,   4],\n",
              "        [ 15, 266]],\n",
              "\n",
              "       [[687,  15],\n",
              "        [  0,  40]],\n",
              "\n",
              "       [[596,   5],\n",
              "        [ 77,  64]]])"
            ]
          },
          "metadata": {
            "tags": []
          },
          "execution_count": 177
        }
      ]
    },
    {
      "cell_type": "markdown",
      "metadata": {
        "id": "MkcX4s3Nx2ZF",
        "colab_type": "text"
      },
      "source": [
        "#### Confusion Matrix in percentage"
      ]
    },
    {
      "cell_type": "code",
      "metadata": {
        "id": "yXfdP6YvSMAj",
        "colab_type": "code",
        "outputId": "a8e7f96f-0b7b-4f68-e949-d7e6fb680497",
        "colab": {
          "base_uri": "https://localhost:8080/",
          "height": 116
        }
      },
      "source": [
        "from collections import defaultdict\n",
        "source = defaultdict(int)\n",
        "for i in y:\n",
        "    source[i]+=1\n",
        "source"
      ],
      "execution_count": 0,
      "outputs": [
        {
          "output_type": "execute_result",
          "data": {
            "text/plain": [
              "defaultdict(int,\n",
              "            {'costco': 155,\n",
              "             'sams club': 125,\n",
              "             'sears': 281,\n",
              "             'target': 40,\n",
              "             'walmart': 141})"
            ]
          },
          "metadata": {
            "tags": []
          },
          "execution_count": 174
        }
      ]
    },
    {
      "cell_type": "code",
      "metadata": {
        "id": "hYF589m2Si4J",
        "colab_type": "code",
        "colab": {}
      },
      "source": [
        "sources = ['Costco', 'Sam\\'s Club', 'Sears', 'Target', 'Walmart']"
      ],
      "execution_count": 0,
      "outputs": []
    },
    {
      "cell_type": "code",
      "metadata": {
        "id": "3oj9dh6Ux1B0",
        "colab_type": "code",
        "outputId": "3f0e11cc-61ca-4c35-f20d-64344e6eb9dd",
        "colab": {
          "base_uri": "https://localhost:8080/",
          "height": 266
        }
      },
      "source": [
        "np.set_printoptions(precision=2)\n",
        "for i in range(df2.Sources.nunique()):\n",
        "    cm_normalized = ConfusionMatrix[i].astype('float')/ConfusionMatrix[i].sum(axis=1)[:, np.newaxis]\n",
        "    print(sources[i], \"\\n\", cm_normalized)"
      ],
      "execution_count": 0,
      "outputs": [
        {
          "output_type": "stream",
          "text": [
            "Costco \n",
            " [[0.98 0.02]\n",
            " [0.1  0.9 ]]\n",
            "Sam's Club \n",
            " [[0.87 0.13]\n",
            " [0.05 0.95]]\n",
            "Sears \n",
            " [[0.99 0.01]\n",
            " [0.05 0.95]]\n",
            "Target \n",
            " [[0.98 0.02]\n",
            " [0.   1.  ]]\n",
            "Walmart \n",
            " [[0.99 0.01]\n",
            " [0.55 0.45]]\n"
          ],
          "name": "stdout"
        }
      ]
    }
  ]
}