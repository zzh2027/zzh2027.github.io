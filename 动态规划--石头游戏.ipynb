{
 "cells": [
  {
   "cell_type": "markdown",
   "metadata": {},
   "source": [
    "## 石头堆--> piles = [3, 9, 1, 2]\n",
    "## 两个相同聪明的人轮流拿石头堆，只能从最左或最右取石头\n",
    "## 设计算法，返回先手和后手最后得分之差"
   ]
  },
  {
   "cell_type": "markdown",
   "metadata": {},
   "source": [
    "================================================================================================================\n",
    "\n",
    "先建立dp二维数组,每一个元素都是一个元组,含有两个元素\n",
    "例子：\n",
    "* dp[0][1] 代表石头堆为piles[0:1+1]时，先手和后手最终获得的石头数 --> dp[0][1] = (3,0)\n",
    "* dp[0][3] 代表石头堆为piles[0:3+1]的情况，这时便是所有的石头了，一眼看出9是肯定要拿的，所以先拿2，然后便是9 --> dp[0][3] = (11,4)\n",
    "\n",
    "状态转移方程需要我们找到**所有“状态”**和**每个状态可以做的“选择”**，然后**择优**\n",
    "根据dp数组的定义，**状态有三个**：开始的索引i，结束的索引j，当前轮到的人\n",
    "* dp[i][j][fir or sec], 其中0<=i<len(piles) AND i<=j<len(piles)"
   ]
  },
  {
   "cell_type": "code",
   "execution_count": null,
   "metadata": {},
   "outputs": [],
   "source": [
    "\"\"\"\n",
    "对于这个问题的每一个状态，可以做的选择有两个：最左边的那堆石头或者最右边的那堆石头，我们穷举所有状态：\n",
    "n = len(piles)\n",
    "for i in range(n):\n",
    "    for j in range(i, n):\n",
    "        for who in {fir, sec}:\n",
    "            dp[i][j]  = max(left, right)\n",
    "首先这肯定不是最终答案，因为这只考虑了当前情况下最左和最右的最优解，而我们看到[3,9,1,2]时都会考虑下一步对方是否能拿到那个9\n",
    "即，先手的选择对后手是有影响的\n",
    "\n",
    "根据对dp数组的定义，写出状态转移方程:\n",
    "dp[i][j].fir = max(piles[i] + dp[i+1][j].sec, piles[j] + dp[i][j-1].sec)\n",
    "             = max(选择最左边的石头堆         , 选择最右边的石头堆         )\n",
    "if 先手左边石头堆：\n",
    "    dp[i][j].sec = dp[i+1][j].fir\n",
    "elif 先手右边石头堆：\n",
    "    dp[i][j].sec = dp[i][j-1].fir\n",
    "这就把每一个数组的后手数值的计算迭代下去了\n",
    "\n",
    "根据dp数组的定义，找出base case,即两个人面对最后一个石头堆时，这是存在的，因为石头堆总数可以是奇数也可以是偶数\n",
    "dp[i][j].fir = piles[i]\n",
    "dp[i][j].sec = 0\n",
    "如下：\n",
    "start\\end    0     1     2     3\n",
    "        0  (3,0)\n",
    "        1        (9,0)\n",
    "        2              (1,0)\n",
    "        3                    (2,0)\n",
    "\n",
    "我们推算dp[i][j].fir时其实用到了dp[i+1][j]和dp[i][j-1]，即下一行， 左一列\n",
    "start\\end    0     1     2     3\n",
    "        0  (3,0)\n",
    "        1        (9,0) (9,1)\n",
    "        2              (1,0) (2,1)\n",
    "        3                    (2,0)\n",
    "dp[2][2].sec = dp[2][1].fir\n",
    "\n",
    "所以要实现斜着遍历数组\n",
    "\"\"\""
   ]
  },
  {
   "cell_type": "code",
   "execution_count": 58,
   "metadata": {},
   "outputs": [
    {
     "name": "stdout",
     "output_type": "stream",
     "text": [
      "[[3, 0], [9, 3], [4, 9], [11, 4]]\n",
      "[[0, 0], [9, 0], [9, 1], [10, 2]]\n",
      "[[0, 0], [0, 0], [1, 0], [2, 1]]\n",
      "[[0, 0], [0, 0], [0, 0], [2, 0]]\n"
     ]
    },
    {
     "data": {
      "text/plain": [
       "7"
      ]
     },
     "execution_count": 58,
     "metadata": {},
     "output_type": "execute_result"
    }
   ],
   "source": [
    "def diffStones(piles = [3,9,1,2]):\n",
    "    import copy\n",
    "    n = len(piles)\n",
    "    dp = []\n",
    "    for i in range(n):\n",
    "        d = [[0,0] for f in range(i)]+[[piles[i], 0]] + [[0,0] for f in range(n-i-1)]\n",
    "        dp.append(d)  \n",
    "    ## 斜着遍历数组\n",
    "    for diff in range(1,n):\n",
    "        for i in range(n-diff):\n",
    "            j = diff + i\n",
    "            ##以上是实现斜边遍历的循环，可以手写草稿找到diff和i的范围\n",
    "            ## 先手选择左边石头堆或右边石头堆的两个数值，择优\n",
    "            left = piles[i] + dp[i+1][j][1]\n",
    "            right= piles[j] + dp[i][j-1][1]\n",
    "            #print(f\"dp[{i}][{j}]\", end = \"\\t\")\n",
    "            #print(f\"left:{left}\\tright:{right}\", end = \"\\t\")\n",
    "            if left > right:\n",
    "                dp[i][j][0] = left\n",
    "                dp[i][j][1] = dp[i+1][j][0]\n",
    "            else:\n",
    "                dp[i][j][0] = right\n",
    "                dp[i][j][1] = dp[i][j-1][0]\n",
    "            #print(f\"dp[{i}][{j}] = {dp[i][j]}\")\n",
    "            #print(dp[i])\n",
    "    for i in dp:\n",
    "        print(i)\n",
    "    return abs(dp[0][n-1][0] - dp[0][n-1][1])\n",
    "\n",
    "diffStones([3,9,1,2])"
   ]
  },
  {
   "cell_type": "code",
   "execution_count": 48,
   "metadata": {},
   "outputs": [
    {
     "data": {
      "text/plain": [
       "[[0, 0, 9, 0, 0, 0, 0, 0, 0, 0],\n",
       " [0, 0, 0, 0, 0, 0, 0, 0, 0, 0],\n",
       " [0, 0, 0, 0, 0, 0, 0, 0, 0, 0],\n",
       " [0, 0, 0, 0, 0, 0, 0, 0, 0, 0],\n",
       " [0, 0, 0, 0, 0, 0, 0, 0, 0, 0],\n",
       " [0, 0, 0, 0, 0, 0, 0, 0, 0, 0],\n",
       " [0, 0, 0, 0, 0, 0, 0, 0, 0, 0],\n",
       " [0, 0, 0, 0, 0, 0, 0, 0, 0, 0],\n",
       " [0, 0, 0, 0, 0, 0, 0, 0, 0, 0],\n",
       " [0, 0, 0, 0, 0, 0, 0, 0, 0, 0]]"
      ]
     },
     "execution_count": 48,
     "metadata": {},
     "output_type": "execute_result"
    }
   ],
   "source": [
    "### deep copy示例\n",
    "import copy\n",
    "a = [[0]*10]\n",
    "for i in range(9):\n",
    "    a.append(copy.deepcopy(a[0]))\n",
    "a[0][2] = 9\n",
    "a"
   ]
  },
  {
   "cell_type": "code",
   "execution_count": 50,
   "metadata": {},
   "outputs": [
    {
     "data": {
      "text/plain": [
       "[[[3, 0], [0, 0], [0, 0], [0, 0]],\n",
       " [[0, 0], [9, 0], [0, 0], [0, 0]],\n",
       " [[0, 0], [0, 0], [1, 0], [0, 0]],\n",
       " [[0, 0], [0, 0], [0, 0], [2, 0]]]"
      ]
     },
     "execution_count": 50,
     "metadata": {},
     "output_type": "execute_result"
    }
   ],
   "source": [
    "## 草拟\n",
    "## 第一步，填入base case\n",
    "## 这个list的创建真复杂， 存在shallow copy的情况\n",
    "## 解决办法有二：\n",
    "## 一是用for循环创建，不会是copy\n",
    "## 二是用copy.deepcopy(list)创建一个新的deep copy样本\n",
    "\n",
    "piles = [3,9,1,2]\n",
    "n = len(piles)\n",
    "dp = []\n",
    "for i in range(n):\n",
    "    d = [[0,0] for f in range(i)]+[[piles[i], 0]] + [[0,0] for f in range(n-i-1)]\n",
    "    dp.append(d)  \n",
    "dp"
   ]
  },
  {
   "cell_type": "code",
   "execution_count": 51,
   "metadata": {},
   "outputs": [
    {
     "name": "stdout",
     "output_type": "stream",
     "text": [
      "dp[0][1]\tleft:3\tright:9\tdp[0][1] = [9, 3]\n",
      "[[3, 0], [9, 3], [0, 0], [0, 0]]\n",
      "dp[1][2]\tleft:9\tright:1\tdp[1][2] = [9, 1]\n",
      "[[0, 0], [9, 0], [9, 1], [0, 0]]\n",
      "dp[2][3]\tleft:1\tright:2\tdp[2][3] = [2, 1]\n",
      "[[0, 0], [0, 0], [1, 0], [2, 1]]\n",
      "dp[0][2]\tleft:4\tright:4\tdp[0][2] = [4, 9]\n",
      "[[3, 0], [9, 3], [4, 9], [0, 0]]\n",
      "dp[1][3]\tleft:10\tright:3\tdp[1][3] = [10, 2]\n",
      "[[0, 0], [9, 0], [9, 1], [10, 2]]\n",
      "dp[0][3]\tleft:5\tright:11\tdp[0][3] = [11, 4]\n",
      "[[3, 0], [9, 3], [4, 9], [11, 4]]\n"
     ]
    },
    {
     "data": {
      "text/plain": [
       "[[[3, 0], [9, 3], [4, 9], [11, 4]],\n",
       " [[0, 0], [9, 0], [9, 1], [10, 2]],\n",
       " [[0, 0], [0, 0], [1, 0], [2, 1]],\n",
       " [[0, 0], [0, 0], [0, 0], [2, 0]]]"
      ]
     },
     "execution_count": 51,
     "metadata": {},
     "output_type": "execute_result"
    }
   ],
   "source": [
    "for diff in range(1,n):\n",
    "    for i in range(n-diff):\n",
    "        j = diff + i\n",
    "        ##以上是实现斜边遍历的循环，可以手写草稿找到diff和i的范围\n",
    "        ## 先手选择左边石头堆或右边石头堆的两个数值，择优\n",
    "        left = piles[i] + dp[i+1][j][1]\n",
    "        right= piles[j] + dp[i][j-1][1]\n",
    "        print(f\"dp[{i}][{j}]\", end = \"\\t\")\n",
    "        print(f\"left:{left}\\tright:{right}\", end = \"\\t\")\n",
    "        if left > right:\n",
    "            dp[i][j][0] = left\n",
    "            dp[i][j][1] = dp[i+1][j][0]\n",
    "        else:\n",
    "            dp[i][j][0] = right\n",
    "            dp[i][j][1] = dp[i][j-1][0]\n",
    "        print(f\"dp[{i}][{j}] = {dp[i][j]}\")\n",
    "        print(dp[i])\n",
    "            \n",
    "dp"
   ]
  },
  {
   "cell_type": "code",
   "execution_count": 30,
   "metadata": {},
   "outputs": [
    {
     "name": "stdout",
     "output_type": "stream",
     "text": [
      "1 0 1\n",
      "1 1 2\n",
      "1 2 3\n",
      "2 0 2\n",
      "2 1 3\n",
      "3 0 3\n"
     ]
    }
   ],
   "source": [
    "## 草拟实现斜边遍历\n",
    "for diff in range(1,n):\n",
    "    for i in range(n-diff):\n",
    "        j = diff + i\n",
    "        print(diff,i,j)"
   ]
  },
  {
   "cell_type": "code",
   "execution_count": 53,
   "metadata": {},
   "outputs": [
    {
     "data": {
      "text/plain": [
       "array([3])"
      ]
     },
     "execution_count": 53,
     "metadata": {},
     "output_type": "execute_result"
    }
   ],
   "source": [
    "c = [1,4]\n",
    "import numpy as np\n",
    "np.diff(c)"
   ]
  },
  {
   "cell_type": "code",
   "execution_count": null,
   "metadata": {},
   "outputs": [],
   "source": []
  }
 ],
 "metadata": {
  "kernelspec": {
   "display_name": "Python 3",
   "language": "python",
   "name": "python3"
  },
  "language_info": {
   "codemirror_mode": {
    "name": "ipython",
    "version": 3
   },
   "file_extension": ".py",
   "mimetype": "text/x-python",
   "name": "python",
   "nbconvert_exporter": "python",
   "pygments_lexer": "ipython3",
   "version": "3.7.6"
  }
 },
 "nbformat": 4,
 "nbformat_minor": 4
}
