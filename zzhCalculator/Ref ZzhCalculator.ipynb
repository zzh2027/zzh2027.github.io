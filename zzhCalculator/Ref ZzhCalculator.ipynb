{
 "cells": [
  {
   "cell_type": "code",
   "execution_count": 1,
   "metadata": {},
   "outputs": [
    {
     "name": "stdout",
     "output_type": "stream",
     "text": [
      ">> 函数1:self.getSqrt(num, threshold)\n",
      "\t@num-->目标数字\n",
      "\t@threshold-->精度\n",
      "return:返回目标数字的平方根\n",
      "\n",
      ">> 函数2:self.getLvl(num)\n",
      "\t@num-->目标数字\n",
      "return:返回目标数字的级数，如1000的级数为3\n",
      "\n",
      "你想求哪个数字的平方根?1000\n",
      "开始计算1000的平方根,目标精度为1e-15\n",
      "计算耗时：0.0006863秒\n",
      "math包耗时2.3000000000000017e-06秒math包的速度是我的298.3913043478259倍\n",
      "1000的平方根约为31.622776601683793\n"
     ]
    }
   ],
   "source": [
    "from ZzhCalculator import Calculator\n",
    "if __name__ == '__main__':\n",
    "    helper = Calculator()\n",
    "    num = int(input('你想求哪个数字的平方根?'))\n",
    "    ans = helper.getSqrt(num, 15)\n",
    "    print(f\"{num}的平方根约为{ans}\")"
   ]
  }
 ],
 "metadata": {
  "kernelspec": {
   "display_name": "Python 3",
   "language": "python",
   "name": "python3"
  },
  "language_info": {
   "codemirror_mode": {
    "name": "ipython",
    "version": 3
   },
   "file_extension": ".py",
   "mimetype": "text/x-python",
   "name": "python",
   "nbconvert_exporter": "python",
   "pygments_lexer": "ipython3",
   "version": "3.6.10"
  }
 },
 "nbformat": 4,
 "nbformat_minor": 4
}
