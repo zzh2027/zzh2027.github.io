{
 "cells": [
  {
   "cell_type": "markdown",
   "metadata": {},
   "source": [
    "## Set up"
   ]
  },
  {
   "cell_type": "code",
   "execution_count": 47,
   "metadata": {},
   "outputs": [],
   "source": [
    "import unittest\n",
    "from selenium import webdriver\n",
    "from selenium.webdriver import Chrome\n",
    "from selenium.webdriver.common.keys import Keys\n",
    "from selenium.webdriver.support.ui import Select\n",
    "from selenium.common.exceptions import ElementClickInterceptedException,ElementNotInteractableException, NoSuchElementException, StaleElementReferenceException\n",
    "from selenium.webdriver.common.action_chains import ActionChains\n",
    "from selenium.webdriver.support.ui import WebDriverWait\n",
    "from selenium.webdriver.support import expected_conditions as EC \n",
    "from selenium.webdriver.common.action_chains import ActionChains  \n",
    "from selenium.webdriver.common.by import By\n",
    "import base64\n",
    "import requests\n",
    "from requests.exceptions import InvalidSchema\n",
    "import time\n",
    "import json\n",
    "import os\n",
    "import glob\n",
    "import matplotlib.pyplot as plt\n",
    "import matplotlib.image as mpimg\n",
    "import numpy as np\n",
    "import re"
   ]
  },
  {
   "cell_type": "code",
   "execution_count": 51,
   "metadata": {},
   "outputs": [],
   "source": [
    "class ScrapeGoogle(object):\n",
    "    \n",
    "    def __init__(self, web_root = r\"C:\\Users\\huyia\\1_jupyter\\爬数据爬图片\", pic_root = r\"C:\\Users\\huyia\\OneDrive\\Pictures\"):\n",
    "        os.chdir(web_root)\n",
    "        self.web_root = web_root\n",
    "        self.pic_root = pic_root\n",
    "        self.driver = Chrome()\n",
    "        \n",
    "    def __clickable(self, elem_id, typ = 'id'):\n",
    "        ## wait until the button can be clicked\n",
    "        driver = self.driver\n",
    "        wait = WebDriverWait(driver, 10)\n",
    "        actions = ActionChains(driver)\n",
    "        if typ == 'id':\n",
    "            element = wait.until(EC.element_to_be_clickable((By.ID, elem_id)))\n",
    "        elif typ == 'path':\n",
    "            element = wait.until(EC.element_to_be_clickable((By.XPATH, elem_id)))\n",
    "        actions.move_to_element(element).perform()\n",
    "        driver.execute_script(\"arguments[0].click();\", element)   \n",
    "    \n",
    "    def __rollandclick(self, button):\n",
    "        try:\n",
    "            button.click()\n",
    "        except (ElementClickInterceptedException, ElementNotInteractableException) as e:\n",
    "            ActionChains(self.driver).key_down(Keys.DOWN).perform()\n",
    "            self.__rollandclick(button)\n",
    "        \n",
    "    def Google_login(self, search = 'Avengers', pic_size = 'large',\n",
    "                     folder = \"Google Pictures\",\n",
    "                     url = \"https://www.google.com/?&bih=937&biw=1920&hl=en\"):\n",
    "        driver = self.driver\n",
    "        driver.get(url)\n",
    "        driver.maximize_window()\n",
    "        driver.implicitly_wait(5)\n",
    "        os.chdir(self.pic_root)\n",
    "        try:\n",
    "            os.makedirs(folder)\n",
    "        except FileExistsError:\n",
    "            pass\n",
    "        os.chdir(self.pic_root + \"\\\\\" + folder)\n",
    "        ## 在Google搜索框里输入内容\n",
    "        enter = \"q\"\n",
    "        button = driver.find_element_by_name(enter)\n",
    "        button.send_keys(search)\n",
    "        button.send_keys(Keys.ENTER)\n",
    "        ##进入图片搜索结果\n",
    "        image_id = \"hdtb-msb-vis\"\n",
    "        driver.find_element_by_id(image_id).click()\n",
    "        ##tools添加筛选条件\n",
    "        path = \"\"\"//*[@id=\"yDmH0d\"]/div[2]/c-wiz/div[1]/div/div[1]/div[2]/div[2]/div/div\"\"\"\n",
    "        driver.find_element_by_xpath(path).click()\n",
    "        ## 选择size\n",
    "        size_button = \"\"\"//*[@id=\"yDmH0d\"]/div[2]/c-wiz/div[2]/c-wiz[1]/div/div/div[2]/div/div[1]/div/div[1]\"\"\"\n",
    "        self.__clickable(elem_id = size_button, typ = 'path')\n",
    "        size = {\"any\":\"\"\"//*[@id=\"yDmH0d\"]/div[2]/c-wiz/div[2]/c-wiz[1]/div/div/div[3]/div/span\"\"\", \n",
    "                \"large\":\"\"\"//*[@id=\"yDmH0d\"]/div[2]/c-wiz/div[2]/c-wiz[1]/div/div/div[3]/div/a[1]\"\"\", \n",
    "                \"medium\":\"\"\"//*[@id=\"yDmH0d\"]/div[2]/c-wiz/div[2]/c-wiz[1]/div/div/div[3]/div/a[2]\"\"\", \n",
    "                \"icon\":\"\"\"//*[@id=\"yDmH0d\"]/div[2]/c-wiz/div[2]/c-wiz[1]/div/div/div[3]/div/a[3]\"\"\"}\n",
    "        path = size[pic_size]\n",
    "        driver.find_element_by_xpath(path).click()\n",
    "        ##点击每个图片，然后从新的图片上获取link\n",
    "        for i in range(65,101):\n",
    "            ## 图片的预览，不可下载\n",
    "            try:\n",
    "                prev = driver.find_element_by_xpath(f\"\"\"//*[@id=\"islrg\"]/div[1]/div[{i}]/a[1]/div[1]/img\"\"\")\n",
    "            except NoSuchElementException:\n",
    "                continue\n",
    "            self.__rollandclick(prev)\n",
    "            time.sleep(2)\n",
    "            ## 这是可以保存的图片链接\n",
    "            path = \"\"\"//*[@id=\"Sva75c\"]/div/div/div[3]/div[2]/c-wiz/div[1]/div[1]/div/div[2]/a/img\"\"\"\n",
    "            url = driver.find_element_by_xpath(path).get_attribute('src')\n",
    "            time.sleep(2)\n",
    "            try:\n",
    "                pic = requests.get(url)\n",
    "                with open(f'{i}.png', 'wb') as f:\n",
    "                    f.write(pic.content)\n",
    "            except InvalidSchema:\n",
    "                pic = base64.b64decode(url[23:].replace(\"\\n\",\"\"))\n",
    "                with open(f'{i}.jpg', 'wb') as f:\n",
    "                    f.write(pic)\n",
    "        os.chdir(self.pic_root)"
   ]
  },
  {
   "cell_type": "code",
   "execution_count": 52,
   "metadata": {},
   "outputs": [],
   "source": [
    "test = ScrapeGoogle()"
   ]
  },
  {
   "cell_type": "markdown",
   "metadata": {},
   "source": [
    "## Scrape pictures"
   ]
  },
  {
   "cell_type": "code",
   "execution_count": null,
   "metadata": {},
   "outputs": [],
   "source": [
    "test.Google_login()"
   ]
  },
  {
   "cell_type": "markdown",
   "metadata": {},
   "source": [
    "## Filter out samll pictures"
   ]
  },
  {
   "cell_type": "code",
   "execution_count": 71,
   "metadata": {},
   "outputs": [],
   "source": [
    "local_folder = os.path.abspath('.')\n",
    "### 1.2store all image names\\n\",\n",
    "jpeg = glob.glob(local_folder+\"\\\\*.jpeg\")\n",
    "jpg  = glob.glob(local_folder+\"\\\\*.jpg\")\n",
    "png  = glob.glob(local_folder+\"\\\\*.png\")\n",
    "pictures = jpeg+jpg+png\n",
    "\n",
    "import matplotlib.image as mpimg\n",
    "for pic in pictures:\n",
    "    picd = plt.imread(pic,0)\n",
    "    vert, hori = picd.shape[:2]\n",
    "    size = os.path.getsize(pic)/1024\n",
    "    if size < 200:\n",
    "        ## 小于200KB的图片就删掉\n",
    "        ## Filter out small pictures less than 200 KB\n",
    "        os.remove(pic)"
   ]
  }
 ],
 "metadata": {
  "kernelspec": {
   "display_name": "Python 3",
   "language": "python",
   "name": "python3"
  },
  "language_info": {
   "codemirror_mode": {
    "name": "ipython",
    "version": 3
   },
   "file_extension": ".py",
   "mimetype": "text/x-python",
   "name": "python",
   "nbconvert_exporter": "python",
   "pygments_lexer": "ipython3",
   "version": "3.7.6"
  }
 },
 "nbformat": 4,
 "nbformat_minor": 4
}
