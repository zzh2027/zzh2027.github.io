{
  "nbformat": 4,
  "nbformat_minor": 0,
  "metadata": {
    "colab": {
      "name": "NLP-unsupervised learning.ipynb",
      "provenance": [],
      "collapsed_sections": []
    },
    "kernelspec": {
      "name": "python3",
      "display_name": "Python 3"
    },
    "accelerator": "GPU"
  },
  "cells": [
    {
      "cell_type": "markdown",
      "metadata": {
        "id": "t5tg12aopAza",
        "colab_type": "text"
      },
      "source": [
        "#Document Clustering and Topic Modeling\n",
        "we use unsupervised learning models to cluster unlabeled documents into different groups, visualize the results and identify their latent topic/structures.*"
      ]
    },
    {
      "cell_type": "markdown",
      "metadata": {
        "id": "MUKZ1j9_pUSd",
        "colab_type": "text"
      },
      "source": [
        "<ul>\n",
        "<li>[part 1:Load Data]\n",
        "<li>[part 2:Tokenizing and Stemming]\n",
        "<li>[part 3:TF-IDF]\n",
        "<li>[part 4:K-means Clustering]\n",
        "<li>[part 5:Topic Modeling - Latent Dirichlet Allocation]\n",
        "</ul>"
      ]
    },
    {
      "cell_type": "markdown",
      "metadata": {
        "id": "EvMb-0Vmpg0i",
        "colab_type": "text"
      },
      "source": [
        "# Part 0: Set Up Google Drive Environment"
      ]
    },
    {
      "cell_type": "code",
      "metadata": {
        "id": "bbnEsmI4nOY1",
        "colab_type": "code",
        "colab": {}
      },
      "source": [
        "!pip install -U -q PyDrive\n",
        "\n",
        "from pydrive.auth import GoogleAuth\n",
        "from pydrive.drive import GoogleDrive\n",
        "from google.colab import auth\n",
        "from oauth2client.client import GoogleCredentials\n",
        "\n",
        "\n",
        "auth.authenticate_user()\n",
        "gauth = GoogleAuth()\n",
        "gauth.credentials = GoogleCredentials.get_application_default()\n",
        "drive = GoogleDrive(gauth)\n"
      ],
      "execution_count": 0,
      "outputs": []
    },
    {
      "cell_type": "code",
      "metadata": {
        "id": "3NFlxODWndEl",
        "colab_type": "code",
        "colab": {}
      },
      "source": [
        "file1 = drive.CreateFile({'id':\"1_GJ05kGqY55hmgPaoSe6DHzF5uTdjXK6\"})#https://drive.google.com/open?id=1_GJ05kGqY55hmgPaoSe6DHzF5uTdjXK6\n",
        "file1.GetContentFile('imdb')#里面放文件名\n",
        "\n",
        "file2 = drive.CreateFile({'id':\"1v5m8r2LyYolgSfg8PAmPXf8GZQRaPgAD\"})#https://drive.google.com/open?id=1v5m8r2LyYolgSfg8PAmPXf8GZQRaPgAD\n",
        "file2.GetContentFile('wiki')\n",
        "\n",
        "file3 = drive.CreateFile({'id':\"1JMY3WiklYFbXOykZwgJnCTJxwqyaQVr3\"})#https://drive.google.com/open?id=1JMY3WiklYFbXOykZwgJnCTJxwqyaQVr3\n",
        "file3.GetContentFile('title_list.txt')"
      ],
      "execution_count": 0,
      "outputs": []
    },
    {
      "cell_type": "markdown",
      "metadata": {
        "id": "ehKPlZ5jtcwO",
        "colab_type": "text"
      },
      "source": [
        "#Part 1: Load Data"
      ]
    },
    {
      "cell_type": "code",
      "metadata": {
        "id": "YdReeblGnghB",
        "colab_type": "code",
        "outputId": "186e636c-c2f7-401d-9b7d-1dfd31fa6993",
        "colab": {
          "base_uri": "https://localhost:8080/",
          "height": 105
        }
      },
      "source": [
        "import warnings\n",
        "warnings.filterwarnings('ignore')\n",
        "\n",
        "import numpy as np\n",
        "import pandas as pd\n",
        "import nltk\n",
        "#regular expression\n",
        "import re\n",
        "import os\n",
        "\n",
        "\n",
        "from sklearn import decomposition\n",
        "from sklearn.feature_extraction.text import TfidfVectorizer\n",
        "import matplotlib.pyplot as plt\n",
        "\n",
        "nltk.download('punkt')\n",
        "nltk.download('stopwords')"
      ],
      "execution_count": 0,
      "outputs": [
        {
          "output_type": "stream",
          "text": [
            "[nltk_data] Downloading package punkt to /root/nltk_data...\n",
            "[nltk_data]   Package punkt is already up-to-date!\n",
            "[nltk_data] Downloading package stopwords to /root/nltk_data...\n",
            "[nltk_data]   Unzipping corpora/stopwords.zip.\n"
          ],
          "name": "stdout"
        },
        {
          "output_type": "execute_result",
          "data": {
            "text/plain": [
              "True"
            ]
          },
          "metadata": {
            "tags": []
          },
          "execution_count": 10
        }
      ]
    },
    {
      "cell_type": "markdown",
      "metadata": {
        "id": "Fz-jEhYztgT9",
        "colab_type": "text"
      },
      "source": [
        "read data from files.\n",
        "In summary, we have 100 titles and 100 synoposes(combined from imdb and wiki)"
      ]
    },
    {
      "cell_type": "code",
      "metadata": {
        "id": "qj4Ef4uqnmNE",
        "colab_type": "code",
        "colab": {}
      },
      "source": [
        "#import three lists\n",
        "titles = open('title_list.txt').read().split('\\n')\n",
        "titles = titles[:100]#ensure the first 100 rows are read in\n",
        "\n",
        "#the wiki synopses and imdb synopses of each movie is seperated by the keywords 'BREAKS HERE'.\n",
        "#Each synoposes may consist of multiple paragraphes.\n",
        "synoposes_wiki_a = open('wiki').read().split('\\n BREAKS HERE')\n",
        "synoposes_wiki = synoposes_wiki_a[:100]\n",
        "\n",
        "synoposes_imdb_a = open('imdb').read().split('\\n BREAKS HERE')\n",
        "synoposes_imdb = synoposes_imdb_a[:100]\n",
        "\n",
        "#Combine imdb and wiki to get full synoposes for the top 100 movies.\n",
        "synoposes = []\n",
        "for i in range(len(synoposes_wiki)):\n",
        "    item = synoposes_wiki[i] + synoposes_imdb[i]\n",
        "    synoposes.append(item)\n",
        "    \n",
        "#these synoposes have been ordered in popularity order\n",
        "\n",
        "ranks = range(len(titles))"
      ],
      "execution_count": 0,
      "outputs": []
    },
    {
      "cell_type": "code",
      "metadata": {
        "id": "l0pf0j99kEla",
        "colab_type": "code",
        "outputId": "187f086e-772c-4fd2-ed85-0da7b503aadb",
        "colab": {
          "base_uri": "https://localhost:8080/",
          "height": 35
        }
      },
      "source": [
        "print(len(synoposes_wiki_a), len(synoposes_imdb_a))"
      ],
      "execution_count": 0,
      "outputs": [
        {
          "output_type": "stream",
          "text": [
            "101 101\n"
          ],
          "name": "stdout"
        }
      ]
    },
    {
      "cell_type": "markdown",
      "metadata": {
        "id": "iIFfvRrOoMvw",
        "colab_type": "text"
      },
      "source": [
        "# Part 2: Tokenization and Stemming"
      ]
    },
    {
      "cell_type": "markdown",
      "metadata": {
        "id": "-lTXz_3voQ0M",
        "colab_type": "text"
      },
      "source": [
        "Load stopwords and stemmer function from NLTK libray, Stop words are like 'a', 'the', 'in' which don't convey significant meaning.\n",
        "Stemming is the process of breaking a word down into its root."
      ]
    },
    {
      "cell_type": "code",
      "metadata": {
        "id": "oxsBv6LMof0-",
        "colab_type": "code",
        "outputId": "5eb6b13a-3b07-4014-9743-505fe7bfa299",
        "colab": {
          "base_uri": "https://localhost:8080/",
          "height": 52
        }
      },
      "source": [
        "# use nltk's English stopwords\n",
        "stopwords = nltk.corpus.stopwords.words('english')#corpus --> 语料库\n",
        "\n",
        "print('We use ' + str(len(stopwords)) + ' stop-words from nltk library.')\n",
        "\n",
        "print(stopwords[:10])"
      ],
      "execution_count": 0,
      "outputs": [
        {
          "output_type": "stream",
          "text": [
            "We use 179 stop-words from nltk library.\n",
            "['i', 'me', 'my', 'myself', 'we', 'our', 'ours', 'ourselves', 'you', \"you're\"]\n"
          ],
          "name": "stdout"
        }
      ]
    },
    {
      "cell_type": "code",
      "metadata": {
        "id": "RboHT4hJoK3M",
        "colab_type": "code",
        "outputId": "f1aeef86-c3fe-4e31-e6dc-9979e4bf56c3",
        "colab": {
          "base_uri": "https://localhost:8080/",
          "height": 55
        }
      },
      "source": [
        "from nltk.stem.snowball import SnowballStemmer\n",
        "stemmer = SnowballStemmer('english')\n",
        "\n",
        "#tokenization and stemming\n",
        "def tokenization_and_stemming(text):\n",
        "    #exclude stop words and tokenize the document, generate a list of string\n",
        "    tokens = [word.lower() for sent in nltk.sent_tokenize(text) for word in nltk.word_tokenize(sent) if word not in stopwords]\n",
        "    \n",
        "    filtered_tokens = []\n",
        "    \n",
        "    #filter out any tokens not containing letters(e.g. numeric tokens, raw punctuation)过滤掉、扔掉不是字母的token\n",
        "    for token in tokens:\n",
        "        if re.search('[a-zA-Z]', token):\n",
        "            filtered_tokens.append(token)\n",
        "            \n",
        "    #stemming\n",
        "    stems = [stemmer.stem(t) for t in filtered_tokens]\n",
        "    return stems\n",
        "\n",
        "def tokenization(text):\n",
        "    tokens = [word.lower() for sent in nltk.sent_tokenize(text) for word in nltk.word_tokenize(sent) if word not in stopwords]\n",
        "    filtered_tokens = []\n",
        "    for token in tokens:\n",
        "        if re.search('[a-zA-Z]', token):\n",
        "            filtered_tokens.append(token)\n",
        "    return filtered_tokens\n",
        "\n",
        "'''\n",
        "解释tokens = [word.lower() for sent in nltk.sent_totenize(text) for word in nltk.word_tokenize(sent) if word not in stopwords]\n",
        "👇👇👇👇👇👇👇👇👇👇👇👇👇👇👇\n",
        "for i in a:\n",
        "    for b in range(i):\n",
        "        if word not in aaa:\n",
        "            word.lower()\n",
        "            tokens.append(word)\n",
        "'''"
      ],
      "execution_count": 0,
      "outputs": [
        {
          "output_type": "execute_result",
          "data": {
            "text/plain": [
              "'\\n解释tokens = [word.lower() for sent in nltk.sent_totenize(text) for word in nltk.word_tokenize(sent) if word not in stopwords]\\n👇👇👇👇👇👇👇👇👇👇👇👇👇👇👇\\nfor i in a:\\n    for b in range(i):\\n        if word not in aaa:\\n            word.lower()\\n            tokens.append(word)\\n'"
            ]
          },
          "metadata": {
            "tags": []
          },
          "execution_count": 26
        }
      ]
    },
    {
      "cell_type": "code",
      "metadata": {
        "id": "G6XOAO__vfHS",
        "colab_type": "code",
        "outputId": "4e934a03-0887-465a-d16f-a02c0951bbe7",
        "colab": {
          "base_uri": "https://localhost:8080/",
          "height": 35
        }
      },
      "source": [
        "#tokenization and stemming\n",
        "tokenization_and_stemming(\"she looked at her father's arm.\")"
      ],
      "execution_count": 0,
      "outputs": [
        {
          "output_type": "execute_result",
          "data": {
            "text/plain": [
              "['look', 'father', \"'s\", 'arm']"
            ]
          },
          "metadata": {
            "tags": []
          },
          "execution_count": 20
        }
      ]
    },
    {
      "cell_type": "markdown",
      "metadata": {
        "id": "IX3-spuI3Qy0",
        "colab_type": "text"
      },
      "source": [
        "use our defined functions to analyze(i.e. tokenize and stem) our synoposes"
      ]
    },
    {
      "cell_type": "code",
      "metadata": {
        "id": "19JJL0VU3WYb",
        "colab_type": "code",
        "colab": {}
      },
      "source": [
        "# 1. do tokenization and stemming for all our documents\n",
        "# 2. also just do tokenization for all documents\n",
        "# the goal is to create a mapping from stemmed words to original tokenized words for result interpretation.\n",
        "docs_stemmed = []\n",
        "docs_tokenized = []\n",
        "\n",
        "for i in synoposes:\n",
        "    tokenized_and_stemming_results = tokenization_and_stemming(i)#返回一个包含所有词根的list\n",
        "    docs_stemmed.extend(tokenized_and_stemming_results)#用 extend 将该list里的每一个词根都加进docs_stemmed里\n",
        "    \n",
        "    tokenized_results = tokenization(i)#返回一个包含所有单词的list\n",
        "    docs_tokenized.extend(tokenized_results)#用 extend 将该list里的每一个单词都加到docs_tokenized里\n",
        "    "
      ],
      "execution_count": 0,
      "outputs": []
    },
    {
      "cell_type": "markdown",
      "metadata": {
        "id": "3ZTuYlvr4eec",
        "colab_type": "text"
      },
      "source": [
        "create a mapping from stemmed words to original tokenized words for result interpretation"
      ]
    },
    {
      "cell_type": "code",
      "metadata": {
        "id": "FOu-dZYV4diM",
        "colab_type": "code",
        "outputId": "dc2b6642-b6a9-4fba-84b8-c1bb155d7f0e",
        "colab": {
          "base_uri": "https://localhost:8080/",
          "height": 35
        }
      },
      "source": [
        "# 词根：单词\n",
        "vocab_frame_dict = {docs_stemmed[x]:docs_tokenized[x] for x in range(len(docs_stemmed))}\n",
        "print(vocab_frame_dict['angel'])"
      ],
      "execution_count": 0,
      "outputs": [
        {
          "output_type": "stream",
          "text": [
            "angeles\n"
          ],
          "name": "stdout"
        }
      ]
    },
    {
      "cell_type": "markdown",
      "metadata": {
        "id": "Qp9tXTFPA0N_",
        "colab_type": "text"
      },
      "source": [
        "# Part 3: TF-IDF\n",
        "\n",
        "TF: Term Frequency\n",
        "\n",
        "IDF: Inverse Document Frequency\n",
        "\n",
        "***example:***\n",
        "\n",
        "document1: \"Arthur da Jason\"\n",
        "\n",
        "document 2: \"Jason da da huang\"\n",
        "\n",
        "document1: tf-idf [2, 0.5, 0.5, 0];  document2: tf-idf [0, 1, 0.5, 1]  \n",
        "\n",
        "2-gram: \n",
        "\n",
        "document 1: Arthur da, da Jason; document 2: Jason da, da da, da huang bigram\n",
        "\n",
        "3-gram:\n",
        "\n",
        "document 1: Athur da Jason;  document 2: Jason da da, da da huang"
      ]
    },
    {
      "cell_type": "code",
      "metadata": {
        "id": "TAxETCUiA0u2",
        "colab_type": "code",
        "outputId": "07ffa948-822f-409a-f2c9-0f350d9e5dd9",
        "colab": {
          "base_uri": "https://localhost:8080/",
          "height": 35
        }
      },
      "source": [
        "# define vectorizer parameters\n",
        "# TfidfVectorizer will help us to create a tf-idf matrix\n",
        "# max_df --> maximum document frequency for the given word\n",
        "# min_df --> minimum document frequency for the given word\n",
        "# max_features --> maximum number of words\n",
        "# use_idf --> if not true, we only calculate tf\n",
        "# stop_words --> built-in stop words\n",
        "# tokenizer --> how to tokenize the document\n",
        "# ngram_range --> (min_val, max_val), eg. (1, 3) means the result will include 1-gram, 2-gram, 3-gram\n",
        "\n",
        "tfidf_model = TfidfVectorizer(max_df = 0.8, max_features = 2000,\n",
        "                              min_df = 0, stop_words = 'english',\n",
        "                              use_idf = True, tokenizer = tokenization_and_stemming,\n",
        "                              ngram_range = (1,3))\n",
        "\n",
        "tfidf_matrix = tfidf_model.fit_transform(synoposes)# fit the vectorizer of synposes\n",
        "\n",
        "print(\"In total, there are \" + str(tfidf_matrix.shape[0]) + \\\n",
        "     \" synoposes and \" + str(tfidf_matrix.shape[1]) + \" terms.\")"
      ],
      "execution_count": 0,
      "outputs": [
        {
          "output_type": "stream",
          "text": [
            "In total, there are 100 synoposes and 2000 terms.\n"
          ],
          "name": "stdout"
        }
      ]
    },
    {
      "cell_type": "code",
      "metadata": {
        "id": "R1Io56n58h-d",
        "colab_type": "code",
        "outputId": "95586f2d-3fba-4464-de61-1969af1a59d7",
        "colab": {
          "base_uri": "https://localhost:8080/",
          "height": 387
        }
      },
      "source": [
        "#check the parameters\n",
        "tfidf_model.get_params()"
      ],
      "execution_count": 0,
      "outputs": [
        {
          "output_type": "execute_result",
          "data": {
            "text/plain": [
              "{'analyzer': 'word',\n",
              " 'binary': False,\n",
              " 'decode_error': 'strict',\n",
              " 'dtype': numpy.float64,\n",
              " 'encoding': 'utf-8',\n",
              " 'input': 'content',\n",
              " 'lowercase': True,\n",
              " 'max_df': 0.8,\n",
              " 'max_features': 2000,\n",
              " 'min_df': 0,\n",
              " 'ngram_range': (1, 3),\n",
              " 'norm': 'l2',\n",
              " 'preprocessor': None,\n",
              " 'smooth_idf': True,\n",
              " 'stop_words': 'english',\n",
              " 'strip_accents': None,\n",
              " 'sublinear_tf': False,\n",
              " 'token_pattern': '(?u)\\\\b\\\\w\\\\w+\\\\b',\n",
              " 'tokenizer': <function __main__.tokenization_and_stemming>,\n",
              " 'use_idf': True,\n",
              " 'vocabulary': None}"
            ]
          },
          "metadata": {
            "tags": []
          },
          "execution_count": 34
        }
      ]
    },
    {
      "cell_type": "code",
      "metadata": {
        "id": "d5F2WQmIDLrH",
        "colab_type": "code",
        "outputId": "9df644d4-d254-4926-e0c0-7a2ce91789fd",
        "colab": {
          "base_uri": "https://localhost:8080/",
          "height": 52
        }
      },
      "source": [
        "#save the terms identified by TF-IDF\n",
        "\n",
        "#words\n",
        "tf_selected_words = tfidf_model.get_feature_names()\n",
        "\n",
        "#print out words\n",
        "#tf_selected_words\n",
        "\n",
        "#tf-idf matrix \n",
        "tfidf_matrix"
      ],
      "execution_count": 0,
      "outputs": [
        {
          "output_type": "execute_result",
          "data": {
            "text/plain": [
              "<100x2000 sparse matrix of type '<class 'numpy.float64'>'\n",
              "\twith 31769 stored elements in Compressed Sparse Row format>"
            ]
          },
          "metadata": {
            "tags": []
          },
          "execution_count": 36
        }
      ]
    },
    {
      "cell_type": "code",
      "metadata": {
        "id": "8cVm9FVtOfjt",
        "colab_type": "code",
        "outputId": "fbbcd8cd-b703-4028-d862-a2b7e70534a1",
        "colab": {
          "base_uri": "https://localhost:8080/",
          "height": 193
        }
      },
      "source": [
        "tf_selected_words[:10]"
      ],
      "execution_count": 0,
      "outputs": [
        {
          "output_type": "execute_result",
          "data": {
            "text/plain": [
              "[\"'d\",\n",
              " \"'m\",\n",
              " \"'s apart\",\n",
              " \"'s arm\",\n",
              " \"'s bodi\",\n",
              " \"'s death\",\n",
              " \"'s father\",\n",
              " \"'s friend\",\n",
              " \"'s home\",\n",
              " \"'s hous\"]"
            ]
          },
          "metadata": {
            "tags": []
          },
          "execution_count": 49
        }
      ]
    },
    {
      "cell_type": "markdown",
      "metadata": {
        "id": "O31skrusDnsb",
        "colab_type": "text"
      },
      "source": [
        "# Calculate Document Similarity"
      ]
    },
    {
      "cell_type": "code",
      "metadata": {
        "id": "aIZwCNBbDqKt",
        "colab_type": "code",
        "outputId": "a798b806-baea-4127-fc10-d61d00485aca",
        "colab": {
          "base_uri": "https://localhost:8080/",
          "height": 158
        }
      },
      "source": [
        "#use cosine similarity to check the similarity for two documents\n",
        "from sklearn.metrics.pairwise import cosine_similarity\n",
        "cos_matrix = cosine_similarity(tfidf_matrix)\n",
        "\n",
        "print(cos_matrix)\n",
        "print(cos_matrix.shape)"
      ],
      "execution_count": 0,
      "outputs": [
        {
          "output_type": "stream",
          "text": [
            "[[1.         0.01587253 0.01952566 ... 0.02251429 0.02280225 0.04400671]\n",
            " [0.01587253 1.         0.0314611  ... 0.01242858 0.01335847 0.01926311]\n",
            " [0.01952566 0.0314611  1.         ... 0.01612858 0.01253687 0.04145735]\n",
            " ...\n",
            " [0.02251429 0.01242858 0.01612858 ... 1.         0.03184383 0.0459994 ]\n",
            " [0.02280225 0.01335847 0.01253687 ... 0.03184383 1.         0.01976441]\n",
            " [0.04400671 0.01926311 0.04145735 ... 0.0459994  0.01976441 1.        ]]\n",
            "(100, 100)\n"
          ],
          "name": "stdout"
        }
      ]
    },
    {
      "cell_type": "markdown",
      "metadata": {
        "id": "UUrYxl3IFf94",
        "colab_type": "text"
      },
      "source": [
        "# Part 4: K-means clustering"
      ]
    },
    {
      "cell_type": "code",
      "metadata": {
        "id": "xoeEX9wiDmPs",
        "colab_type": "code",
        "colab": {}
      },
      "source": [
        "# k-means clustering\n",
        "from sklearn.cluster import KMeans\n",
        "\n",
        "# number of clusters\n",
        "num_clusters = 4\n",
        "km = KMeans(n_clusters = num_clusters)\n",
        "km.fit(tfidf_matrix)\n",
        "clusters = km.labels_.tolist()#聚类结果标签输出\n"
      ],
      "execution_count": 0,
      "outputs": []
    },
    {
      "cell_type": "markdown",
      "metadata": {
        "id": "sODv03TKKyz9",
        "colab_type": "text"
      },
      "source": [
        "## 4.1. Analyze K-means Result"
      ]
    },
    {
      "cell_type": "code",
      "metadata": {
        "id": "-jSzk1xRGceD",
        "colab_type": "code",
        "colab": {}
      },
      "source": [
        "#create DataFrame named films from all of the input files\n",
        "films = {'title': titles, 'rank': ranks,\\\n",
        "        'synoposis': synoposes, 'cluster': clusters}\n",
        "#titles， synoposes 和 ranks 都在第8个代码格里定义了\n",
        "#clusters 在上一个代码格里定义\n",
        "frame = pd.DataFrame(films, index = [clusters], columns = ['rank', 'title', 'cluster'])"
      ],
      "execution_count": 0,
      "outputs": []
    },
    {
      "cell_type": "code",
      "metadata": {
        "id": "nqitXKddLNMg",
        "colab_type": "code",
        "outputId": "93f32a67-91ee-4d6c-e522-3aafd9c10108",
        "colab": {
          "base_uri": "https://localhost:8080/",
          "height": 357
        }
      },
      "source": [
        "frame.head(10)"
      ],
      "execution_count": 0,
      "outputs": [
        {
          "output_type": "execute_result",
          "data": {
            "text/html": [
              "<div>\n",
              "<style scoped>\n",
              "    .dataframe tbody tr th:only-of-type {\n",
              "        vertical-align: middle;\n",
              "    }\n",
              "\n",
              "    .dataframe tbody tr th {\n",
              "        vertical-align: top;\n",
              "    }\n",
              "\n",
              "    .dataframe thead th {\n",
              "        text-align: right;\n",
              "    }\n",
              "</style>\n",
              "<table border=\"1\" class=\"dataframe\">\n",
              "  <thead>\n",
              "    <tr style=\"text-align: right;\">\n",
              "      <th></th>\n",
              "      <th>rank</th>\n",
              "      <th>title</th>\n",
              "      <th>cluster</th>\n",
              "    </tr>\n",
              "  </thead>\n",
              "  <tbody>\n",
              "    <tr>\n",
              "      <th>0</th>\n",
              "      <td>0</td>\n",
              "      <td>The Godfather</td>\n",
              "      <td>0</td>\n",
              "    </tr>\n",
              "    <tr>\n",
              "      <th>2</th>\n",
              "      <td>1</td>\n",
              "      <td>The Shawshank Redemption</td>\n",
              "      <td>2</td>\n",
              "    </tr>\n",
              "    <tr>\n",
              "      <th>2</th>\n",
              "      <td>2</td>\n",
              "      <td>Schindler's List</td>\n",
              "      <td>2</td>\n",
              "    </tr>\n",
              "    <tr>\n",
              "      <th>3</th>\n",
              "      <td>3</td>\n",
              "      <td>Raging Bull</td>\n",
              "      <td>3</td>\n",
              "    </tr>\n",
              "    <tr>\n",
              "      <th>2</th>\n",
              "      <td>4</td>\n",
              "      <td>Casablanca</td>\n",
              "      <td>2</td>\n",
              "    </tr>\n",
              "    <tr>\n",
              "      <th>2</th>\n",
              "      <td>5</td>\n",
              "      <td>One Flew Over the Cuckoo's Nest</td>\n",
              "      <td>2</td>\n",
              "    </tr>\n",
              "    <tr>\n",
              "      <th>2</th>\n",
              "      <td>6</td>\n",
              "      <td>Gone with the Wind</td>\n",
              "      <td>2</td>\n",
              "    </tr>\n",
              "    <tr>\n",
              "      <th>3</th>\n",
              "      <td>7</td>\n",
              "      <td>Citizen Kane</td>\n",
              "      <td>3</td>\n",
              "    </tr>\n",
              "    <tr>\n",
              "      <th>0</th>\n",
              "      <td>8</td>\n",
              "      <td>The Wizard of Oz</td>\n",
              "      <td>0</td>\n",
              "    </tr>\n",
              "    <tr>\n",
              "      <th>1</th>\n",
              "      <td>9</td>\n",
              "      <td>Titanic</td>\n",
              "      <td>1</td>\n",
              "    </tr>\n",
              "  </tbody>\n",
              "</table>\n",
              "</div>"
            ],
            "text/plain": [
              "   rank                            title  cluster\n",
              "0     0                    The Godfather        0\n",
              "2     1         The Shawshank Redemption        2\n",
              "2     2                 Schindler's List        2\n",
              "3     3                      Raging Bull        3\n",
              "2     4                       Casablanca        2\n",
              "2     5  One Flew Over the Cuckoo's Nest        2\n",
              "2     6               Gone with the Wind        2\n",
              "3     7                     Citizen Kane        3\n",
              "0     8                 The Wizard of Oz        0\n",
              "1     9                          Titanic        1"
            ]
          },
          "metadata": {
            "tags": []
          },
          "execution_count": 89
        }
      ]
    },
    {
      "cell_type": "code",
      "metadata": {
        "id": "rHAqJhMvLQHy",
        "colab_type": "code",
        "outputId": "2ab8e2f6-76d3-484e-f8cf-9f5248194a6a",
        "colab": {
          "base_uri": "https://localhost:8080/",
          "height": 189
        }
      },
      "source": [
        "print( \"Number of films included in each cluster: \")\n",
        "frame['cluster'].value_counts().to_frame()"
      ],
      "execution_count": 0,
      "outputs": [
        {
          "output_type": "stream",
          "text": [
            "Number of films included in each cluster: \n"
          ],
          "name": "stdout"
        },
        {
          "output_type": "execute_result",
          "data": {
            "text/html": [
              "<div>\n",
              "<style scoped>\n",
              "    .dataframe tbody tr th:only-of-type {\n",
              "        vertical-align: middle;\n",
              "    }\n",
              "\n",
              "    .dataframe tbody tr th {\n",
              "        vertical-align: top;\n",
              "    }\n",
              "\n",
              "    .dataframe thead th {\n",
              "        text-align: right;\n",
              "    }\n",
              "</style>\n",
              "<table border=\"1\" class=\"dataframe\">\n",
              "  <thead>\n",
              "    <tr style=\"text-align: right;\">\n",
              "      <th></th>\n",
              "      <th>cluster</th>\n",
              "    </tr>\n",
              "  </thead>\n",
              "  <tbody>\n",
              "    <tr>\n",
              "      <th>2</th>\n",
              "      <td>54</td>\n",
              "    </tr>\n",
              "    <tr>\n",
              "      <th>1</th>\n",
              "      <td>23</td>\n",
              "    </tr>\n",
              "    <tr>\n",
              "      <th>3</th>\n",
              "      <td>13</td>\n",
              "    </tr>\n",
              "    <tr>\n",
              "      <th>0</th>\n",
              "      <td>10</td>\n",
              "    </tr>\n",
              "  </tbody>\n",
              "</table>\n",
              "</div>"
            ],
            "text/plain": [
              "   cluster\n",
              "2       54\n",
              "1       23\n",
              "3       13\n",
              "0       10"
            ]
          },
          "metadata": {
            "tags": []
          },
          "execution_count": 90
        }
      ]
    },
    {
      "cell_type": "code",
      "metadata": {
        "id": "HPSyqXYONlVA",
        "colab_type": "code",
        "outputId": "e4b4ec66-efd3-4120-9f72-64bf947af897",
        "colab": {
          "base_uri": "https://localhost:8080/",
          "height": 336
        }
      },
      "source": [
        "print(\"<Document clustering result by K-means>\")\n",
        "# km.cluster_centers_  denotes the importance of each item in centroid\n",
        "\n",
        "# We need to sort it in decreasing-order and get the top K items\n",
        "\n",
        "order_centroids = km.cluster_centers_.argsort()[:, ::-1]\n",
        "\n",
        "Cluster_keywords_summary = {}\n",
        "\n",
        "for i in range(num_clusters):\n",
        "    print(\"Cluster \" + str(i) + \" words:\", end = \"\")\n",
        "    Cluster_keywords_summary[i] = []\n",
        "    for ind in order_centroids[i, :6]:#replace 6 with n words per cluster\n",
        "        Cluster_keywords_summary[i].append(vocab_frame_dict[tf_selected_words[ind]])\n",
        "        print(vocab_frame_dict[tf_selected_words[ind]] + \",\", end = \"\")\n",
        "    print()\n",
        "    # Here ix means ndex, which is the ClusterID of each item\n",
        "    # Without tolist, the values result frome dataframe is <type 'numpy.ndarray'>\n",
        "    cluster_movies = frame.ix[i]['title'].values.tolist()\n",
        "    print(\"Cluster \" + str(i) + \" titles (\" + str(len(cluster_movies)) + \" movies): \")\n",
        "    print(\", \".join(cluster_movies))\n",
        "    print()"
      ],
      "execution_count": 0,
      "outputs": [
        {
          "output_type": "stream",
          "text": [
            "<Document clustering result by K-means>\n",
            "Cluster 0 words:michael,dorothy,alex,vito,neff,eliza,\n",
            "Cluster 0 titles (10 movies): \n",
            "The Godfather, The Wizard of Oz, The Godfather: Part II, E.T. the Extra-Terrestrial, My Fair Lady, Tootsie, Close Encounters of the Third Kind, A Clockwork Orange, Double Indemnity, North by Northwest\n",
            "\n",
            "Cluster 1 words:butch,travis,beale,wallaces,jim,paul,\n",
            "Cluster 1 titles (23 movies): \n",
            "Titanic, Psycho, West Side Story, The Silence of the Lambs, Amadeus, The Best Years of Our Lives, Braveheart, The Good, the Bad and the Ugly, Butch Cassidy and the Sundance Kid, The Treasure of the Sierra Madre, The Apartment, Goodfellas, The French Connection, It Happened One Night, Giant, The Green Mile, Network, The Graduate, American Graffiti, Pulp Fiction, Taxi Driver, Rebel Without a Cause, Yankee Doodle Dandy\n",
            "\n",
            "Cluster 2 words:george,miller,german,captain,mike,killing,\n",
            "Cluster 2 titles (54 movies): \n",
            "The Shawshank Redemption, Schindler's List, Casablanca, One Flew Over the Cuckoo's Nest, Gone with the Wind, Lawrence of Arabia, Vertigo, Forrest Gump, The Sound of Music, Star Wars, 2001: A Space Odyssey, Chinatown, The Bridge on the River Kwai, It's a Wonderful Life, 12 Angry Men, Dr. Strangelove or: How I Learned to Stop Worrying and Love the Bomb, Apocalypse Now, Gandhi, The Lord of the Rings: The Return of the King, Gladiator, From Here to Eternity, Saving Private Ryan, Unforgiven, Raiders of the Lost Ark, Rocky, A Streetcar Named Desire, The Philadelphia Story, To Kill a Mockingbird, Ben-Hur, Doctor Zhivago, Patton, Jaws, Platoon, High Noon, Dances with Wolves, The Pianist, The Exorcist, The Deer Hunter, All Quiet on the Western Front, The King's Speech, A Place in the Sun, Mr. Smith Goes to Washington, Out of Africa, Good Will Hunting, Terms of Endearment, The Grapes of Wrath, Shane, Nashville, The African Queen, Stagecoach, Mutiny on the Bounty, The Maltese Falcon, Rear Window, The Third Man\n",
            "\n",
            "Cluster 3 words:joe,jerry,kane,terry,charlie,heathcliff,\n",
            "Cluster 3 titles (13 movies): \n",
            "Raging Bull, Citizen Kane, Sunset Blvd., On the Waterfront, Singin' in the Rain, Some Like It Hot, An American in Paris, City Lights, Midnight Cowboy, Rain Man, Annie Hall, Fargo, Wuthering Heights\n",
            "\n"
          ],
          "name": "stdout"
        }
      ]
    },
    {
      "cell_type": "markdown",
      "metadata": {
        "id": "ZK7lYeSJSQnl",
        "colab_type": "text"
      },
      "source": [
        "## 4.2. Plot K-means Result"
      ]
    },
    {
      "cell_type": "code",
      "metadata": {
        "id": "dWhfo6yMSODf",
        "colab_type": "code",
        "colab": {}
      },
      "source": [
        "# use pca to reduce dimensions to 2D for visibility, just want to see if a 2D diagram could give us some insights.\n",
        "# this is not an appropriate method\n",
        "\n",
        "pca = decomposition.PCA(n_components = 2)\n",
        "tfidf_matrix_np = tfidf_matrix.toarray()\n",
        "pca.fit(tfidf_matrix_np)\n",
        "\n",
        "X = pca.transform(tfidf_matrix_np)\n",
        "\n",
        "xs, ys = X[:, 0], X[:, 1]\n",
        "\n",
        "#set up colors per clusters using a dict\n",
        "cluster_colors = {0:'#1b9e77', 1: '#d95f02', 2: '#7570b3', 3: '#e7298a', 4: '#66a61e'}\n",
        "\n",
        "#set up cluster names using a dict\n",
        "cluster_names = {}\n",
        "for i in range(num_clusters):\n",
        "    cluster_names[i] = \", \".join(Cluster_keywords_summary[i])"
      ],
      "execution_count": 0,
      "outputs": []
    },
    {
      "cell_type": "code",
      "metadata": {
        "id": "niSRLYjwZjt6",
        "colab_type": "code",
        "outputId": "10b28273-4cb1-4e5c-94ef-7354dec66ba1",
        "colab": {
          "base_uri": "https://localhost:8080/",
          "height": 432
        }
      },
      "source": [
        "%matplotlib inline\n",
        "\n",
        "# create data frame with PCA cluster results\n",
        "df = pd.DataFrame(dict(x= xs, y = ys, label = clusters, title = titles))\n",
        "groups = df.groupby(clusters)\n",
        "\n",
        "#set up plot\n",
        "fig, ax = plt.subplots(figsize = (15,7))\n",
        "#set color for each cluster/group\n",
        "for name, group in groups:\n",
        "    ax.plot(group.x, group.y, marker = 'o', linestyle = '', ms = 12, label =cluster_names[name], color = cluster_colors[name], mec = 'none')\n",
        "ax.legend(numpoints = 1, loc = 7)  #show legend with only 1 point, position is right bottom\n",
        "\n",
        "plt.show()"
      ],
      "execution_count": 0,
      "outputs": [
        {
          "output_type": "display_data",
          "data": {
            "image/png": "[encoded data removed]",
            "text/plain": [
              "<Figure size 1080x504 with 1 Axes>"
            ]
          },
          "metadata": {
            "tags": []
          }
        }
      ]
    },
    {
      "cell_type": "code",
      "metadata": {
        "id": "TweqHgGKdLID",
        "colab_type": "code",
        "colab": {}
      },
      "source": [
        "plt.close()"
      ],
      "execution_count": 0,
      "outputs": []
    },
    {
      "cell_type": "markdown",
      "metadata": {
        "id": "ApztvFNLdOgj",
        "colab_type": "text"
      },
      "source": [
        "# Part 5: Topic Modeling - Latent Dirichlet Allocation"
      ]
    },
    {
      "cell_type": "code",
      "metadata": {
        "id": "SmvQphMwdN7_",
        "colab_type": "code",
        "colab": {}
      },
      "source": [
        "# use LDA for clustering\n",
        "\n",
        "from sklearn.decomposition import LatentDirichletAllocation\n",
        "\n",
        "lda = LatentDirichletAllocation(n_components = 4, learning_method = 'online')"
      ],
      "execution_count": 0,
      "outputs": []
    },
    {
      "cell_type": "code",
      "metadata": {
        "id": "y4rC24kjd45c",
        "colab_type": "code",
        "colab": {}
      },
      "source": [
        "# LDA requires integer values, keep first 3 digits\n",
        "tfidf_matrix_lda = tfidf_matrix*100\n",
        "tfidf_matrix_lda = tfidf_matrix_lda.astype(int)"
      ],
      "execution_count": 0,
      "outputs": []
    },
    {
      "cell_type": "code",
      "metadata": {
        "id": "3YFg-n2ffXlx",
        "colab_type": "code",
        "outputId": "e7eb41cb-2528-41be-a32a-dd0514f11ccd",
        "colab": {
          "base_uri": "https://localhost:8080/",
          "height": 35
        }
      },
      "source": [
        "lda.fit(tfidf_matrix_lda)\n",
        "\n",
        "# topics and words matrix\n",
        "topic_word = lda.components_\n",
        "print(topic_word.shape)"
      ],
      "execution_count": 0,
      "outputs": [
        {
          "output_type": "stream",
          "text": [
            "(4, 2000)\n"
          ],
          "name": "stdout"
        }
      ]
    },
    {
      "cell_type": "code",
      "metadata": {
        "id": "VB6wPtaefjI2",
        "colab_type": "code",
        "colab": {}
      },
      "source": [
        "n_top_words = 7\n",
        "topic_keywords_list = []\n",
        "\n",
        "for i, topic_dist in enumerate(topic_word):\n",
        "    # Here we select top(n_top_words- 1)\n",
        "    lda_topic_words = np.array(tf_selected_words)[np.argsort(topic_dist)][:-n_top_words:-1]\n",
        "    for j in range(len(lda_topic_words)):\n",
        "        lda_topic_words[j] = vocab_frame_dict[lda_topic_words[j]]\n",
        "    topic_keywords_list.append(lda_topic_words.tolist())"
      ],
      "execution_count": 0,
      "outputs": []
    },
    {
      "cell_type": "code",
      "metadata": {
        "id": "2YnZUjB7gho6",
        "colab_type": "code",
        "outputId": "0ffe24ba-8d11-416a-916b-9ca91a9e57c1",
        "colab": {
          "base_uri": "https://localhost:8080/",
          "height": 35
        }
      },
      "source": [
        "# documents and topics matrix\n",
        "doc_topic = lda.transform(tfidf_matrix_lda)\n",
        "print(doc_topic.shape)"
      ],
      "execution_count": 0,
      "outputs": [
        {
          "output_type": "stream",
          "text": [
            "(100, 4)\n"
          ],
          "name": "stdout"
        }
      ]
    },
    {
      "cell_type": "code",
      "metadata": {
        "id": "PXG79TnJhIzv",
        "colab_type": "code",
        "outputId": "b745ba48-56dd-40c3-884a-c684a7b99986",
        "colab": {
          "base_uri": "https://localhost:8080/",
          "height": 336
        }
      },
      "source": [
        "# print out the clusters and topics and titles for the movie\n",
        "\n",
        "topic_doc_dict = {}\n",
        "print(\"<Document Clustering Result by LDA>\")\n",
        "\n",
        "for i in range(len(doc_topic)):\n",
        "    topicID = doc_topic[i].argmax()\n",
        "    if topicID not in topic_doc_dict:\n",
        "        topic_doc_dict[topicID] = [titles[i]]\n",
        "    else:\n",
        "        topic_doc_dict[topicID].append(titles[i])\n",
        "        \n",
        "for i in topic_doc_dict:\n",
        "    print('Cluster ' + str(i) + \" words: \" + \", \".join(topic_keywords_list[i]))\n",
        "    print(\"Cluster \" + str(i) + \" titles (\" + str(len(topic_doc_dict[i])) + \" movies): \")\n",
        "    print(\", \".join(topic_doc_dict[i]))\n",
        "    print()"
      ],
      "execution_count": 0,
      "outputs": [
        {
          "output_type": "stream",
          "text": [
            "<Document Clustering Result by LDA>\n",
            "Cluster 2 words: michael, dorothy, jake, dunbar, karen, jim\n",
            "Cluster 2 titles (31 movies): \n",
            "The Godfather, Raging Bull, One Flew Over the Cuckoo's Nest, The Wizard of Oz, Lawrence of Arabia, The Godfather: Part II, Chinatown, The Bridge on the River Kwai, Dr. Strangelove or: How I Learned to Stop Worrying and Love the Bomb, Amadeus, From Here to Eternity, Unforgiven, A Streetcar Named Desire, An American in Paris, The Treasure of the Sierra Madre, Platoon, Dances with Wolves, The Exorcist, All Quiet on the Western Front, A Place in the Sun, Annie Hall, Out of Africa, Tootsie, American Graffiti, Stagecoach, Mutiny on the Bounty, The Maltese Falcon, Double Indemnity, Rebel Without a Cause, Rear Window, North by Northwest\n",
            "\n",
            "Cluster 3 words: andy, patton, schindler, emma, logue, scarlett\n",
            "Cluster 3 titles (20 movies): \n",
            "The Shawshank Redemption, Schindler's List, Gone with the Wind, E.T. the Extra-Terrestrial, 2001: A Space Odyssey, My Fair Lady, Doctor Zhivago, Patton, Jaws, The Pianist, City Lights, The King's Speech, It Happened One Night, Midnight Cowboy, Terms of Endearment, The Grapes of Wrath, Close Encounters of the Third Kind, Nashville, The African Queen, Wuthering Heights\n",
            "\n",
            "Cluster 0 words: jerry, joe, forrestal, juror, wallaces, travis\n",
            "Cluster 0 titles (30 movies): \n",
            "Casablanca, Psycho, Sunset Blvd., Vertigo, Forrest Gump, The Sound of Music, Star Wars, Some Like It Hot, 12 Angry Men, Apocalypse Now, The Lord of the Rings: The Return of the King, Saving Private Ryan, Raiders of the Lost Ark, Rocky, To Kill a Mockingbird, The Best Years of Our Lives, Ben-Hur, Braveheart, The Good, the Bad and the Ugly, The Apartment, The Deer Hunter, The French Connection, Fargo, Giant, Shane, The Green Mile, The Graduate, Pulp Fiction, Taxi Driver, Yankee Doodle Dandy\n",
            "\n",
            "Cluster 1 words: kane, terry, alex, beale, gandhi, maximus\n",
            "Cluster 1 titles (19 movies): \n",
            "Citizen Kane, Titanic, On the Waterfront, West Side Story, The Silence of the Lambs, Singin' in the Rain, It's a Wonderful Life, Gandhi, Gladiator, The Philadelphia Story, Butch Cassidy and the Sundance Kid, High Noon, Goodfellas, Mr. Smith Goes to Washington, Rain Man, Good Will Hunting, Network, A Clockwork Orange, The Third Man\n",
            "\n"
          ],
          "name": "stdout"
        }
      ]
    },
    {
      "cell_type": "markdown",
      "metadata": {
        "id": "6eAWVfOCiaWv",
        "colab_type": "text"
      },
      "source": [
        "# Appendix: K-means"
      ]
    },
    {
      "cell_type": "code",
      "metadata": {
        "id": "SM-sHLwyiZSA",
        "colab_type": "code",
        "outputId": "0f4047aa-a8de-4c92-8476-37497abc7c0c",
        "colab": {
          "base_uri": "https://localhost:8080/",
          "height": 287
        }
      },
      "source": [
        "# An example of k-means, no relationship with above NLP case. The data is generated randomly\n",
        "from sklearn.datasets.samples_generator import make_blobs\n",
        "X, y = make_blobs(n_samples = 300, centers = 4, random_state = 0, cluster_std = 0.60 )\n",
        "\n",
        "plt.scatter(X[:,0], X[:, 1],  s= 50)\n",
        "\n"
      ],
      "execution_count": 0,
      "outputs": [
        {
          "output_type": "execute_result",
          "data": {
            "text/plain": [
              "<matplotlib.collections.PathCollection at 0x7f624d2d6908>"
            ]
          },
          "metadata": {
            "tags": []
          },
          "execution_count": 68
        },
        {
          "output_type": "display_data",
          "data": {
            "image/png": "[encoded data removed]",
            "text/plain": [
              "<Figure size 432x288 with 1 Axes>"
            ]
          },
          "metadata": {
            "tags": []
          }
        }
      ]
    },
    {
      "cell_type": "code",
      "metadata": {
        "id": "Yc4-FjOHjDxX",
        "colab_type": "code",
        "outputId": "b430482f-7e01-4fc2-d922-569d0f171643",
        "colab": {
          "base_uri": "https://localhost:8080/",
          "height": 287
        }
      },
      "source": [
        "from sklearn.cluster import KMeans\n",
        "\n",
        "est = KMeans(4)\n",
        "est.fit(X)\n",
        "y_kmeans = est.predict(X)\n",
        "\n",
        "plt.scatter(X[:,0], X[:,1], c = y_kmeans, s = 50)"
      ],
      "execution_count": 0,
      "outputs": [
        {
          "output_type": "execute_result",
          "data": {
            "text/plain": [
              "<matplotlib.collections.PathCollection at 0x7f624d54f8d0>"
            ]
          },
          "metadata": {
            "tags": []
          },
          "execution_count": 70
        },
        {
          "output_type": "display_data",
          "data": {
            "image/png": "[encoded data removed]",
            "text/plain": [
              "<Figure size 432x288 with 1 Axes>"
            ]
          },
          "metadata": {
            "tags": []
          }
        }
      ]
    }
  ]
}